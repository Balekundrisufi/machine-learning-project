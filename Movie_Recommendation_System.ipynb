{
  "nbformat": 4,
  "nbformat_minor": 0,
  "metadata": {
    "colab": {
      "provenance": [],
      "authorship_tag": "ABX9TyOG2iqqgpWPYwK8CP8patU1",
      "include_colab_link": true
    },
    "kernelspec": {
      "name": "python3",
      "display_name": "Python 3"
    },
    "language_info": {
      "name": "python"
    }
  },
  "cells": [
    {
      "cell_type": "markdown",
      "metadata": {
        "id": "view-in-github",
        "colab_type": "text"
      },
      "source": [
        "<a href=\"https://colab.research.google.com/github/Balekundrisufi/machine-learning-project/blob/main/Movie_Recommendation_System.ipynb\" target=\"_parent\"><img src=\"https://colab.research.google.com/assets/colab-badge.svg\" alt=\"Open In Colab\"/></a>"
      ]
    },
    {
      "cell_type": "markdown",
      "source": [
        "# **Movie Recommendation System**"
      ],
      "metadata": {
        "id": "WympPYwFo9x5"
      }
    },
    {
      "cell_type": "markdown",
      "source": [
        "**Recommendation System** is a system that seeks to predict or the preference according to the user's choices.Recommendation systems are utilized in variety of areas including movies,music,news,books,research articles,search queries,social tags,and product in general.Recommender systems produce a list of recommendation in any of the two ways -        \n",
        "**Collaborative filtering :**Collaborative filtering approaches build a model from the user's past behavior(i.e.items purchase or searched by the user)as well as similar decisions made by other users.this model is then used to predict items(or rating for items)the users may have an interest in.                                                             \n",
        "**Content-based filtering:**Content-based filtering approaches uses a series of discrete characteristics of an item in order to recommend addition items with similar propereties.content-based filtering methods are totally based on a description of the item and profile of the user's preferences.it recommends items based on the user's past prefernces.Let's develop a basic recommendation system using python and pandas.\n",
        "\n",
        "Let's develop a basic recommendation system by suggesting items that are most similar to aparticular items.in this case,movies.It just tells what movies/items are most similar to the user's movie choice."
      ],
      "metadata": {
        "id": "L4x-DfFqpK5_"
      }
    },
    {
      "cell_type": "markdown",
      "source": [
        "# **Import Library**"
      ],
      "metadata": {
        "id": "yoC1pxI5slI-"
      }
    },
    {
      "cell_type": "code",
      "execution_count": 14,
      "metadata": {
        "id": "s3RBshNdlDwQ"
      },
      "outputs": [],
      "source": [
        "import pandas as pd"
      ]
    },
    {
      "cell_type": "code",
      "source": [
        "import numpy as np"
      ],
      "metadata": {
        "id": "_Kk-rlGGsu9r"
      },
      "execution_count": 15,
      "outputs": []
    },
    {
      "cell_type": "markdown",
      "source": [
        "# **Import Dataset**"
      ],
      "metadata": {
        "id": "vi-bcEyKsy0t"
      }
    },
    {
      "cell_type": "code",
      "source": [
        "df = pd.read_csv(r'https://github.com/YBIFoundation/Dataset/raw/refs/heads/main/Movies%20Recommendation.csv')"
      ],
      "metadata": {
        "id": "e4kwxM8SsyD1"
      },
      "execution_count": 16,
      "outputs": []
    },
    {
      "cell_type": "code",
      "source": [
        "df.head()"
      ],
      "metadata": {
        "colab": {
          "base_uri": "https://localhost:8080/",
          "height": 672
        },
        "id": "M6sXyli7tKJp",
        "outputId": "3fa81cbf-8842-43e3-a847-167fee12a165"
      },
      "execution_count": 17,
      "outputs": [
        {
          "output_type": "execute_result",
          "data": {
            "text/plain": [
              "   Movie_ID      Movie_Title                       Movie_Genre Movie_Language  \\\n",
              "0         1       Four Rooms                      Crime Comedy             en   \n",
              "1         2        Star Wars  Adventure Action Science Fiction             en   \n",
              "2         3     Finding Nemo                  Animation Family             en   \n",
              "3         4     Forrest Gump              Comedy Drama Romance             en   \n",
              "4         5  American Beauty                             Drama             en   \n",
              "\n",
              "   Movie_Budget  Movie_Popularity Movie_Release_Date  Movie_Revenue  \\\n",
              "0       4000000         22.876230         09-12-1995        4300000   \n",
              "1      11000000        126.393695         25-05-1977      775398007   \n",
              "2      94000000         85.688789         30-05-2003      940335536   \n",
              "3      55000000        138.133331         06-07-1994      677945399   \n",
              "4      15000000         80.878605         15-09-1999      356296601   \n",
              "\n",
              "   Movie_Runtime  Movie_Vote  ...  \\\n",
              "0           98.0         6.5  ...   \n",
              "1          121.0         8.1  ...   \n",
              "2          100.0         7.6  ...   \n",
              "3          142.0         8.2  ...   \n",
              "4          122.0         7.9  ...   \n",
              "\n",
              "                                      Movie_Homepage  \\\n",
              "0                                                NaN   \n",
              "1  http://www.starwars.com/films/star-wars-episod...   \n",
              "2              http://movies.disney.com/finding-nemo   \n",
              "3                                                NaN   \n",
              "4                      http://www.dreamworks.com/ab/   \n",
              "\n",
              "                                      Movie_Keywords  \\\n",
              "0          hotel new year's eve witch bet hotel room   \n",
              "1        android galaxy hermit death star lightsaber   \n",
              "2  father son relationship harbor underwater fish...   \n",
              "3  vietnam veteran hippie mentally disabled runni...   \n",
              "4  male nudity female nudity adultery midlife cri...   \n",
              "\n",
              "                                      Movie_Overview  \\\n",
              "0  It's Ted the Bellhop's first night on the job....   \n",
              "1  Princess Leia is captured and held hostage by ...   \n",
              "2  Nemo, an adventurous young clownfish, is unexp...   \n",
              "3  A man with a low IQ has accomplished great thi...   \n",
              "4  Lester Burnham, a depressed suburban father in...   \n",
              "\n",
              "                              Movie_Production_House  \\\n",
              "0  [{\"name\": \"Miramax Films\", \"id\": 14}, {\"name\":...   \n",
              "1  [{\"name\": \"Lucasfilm\", \"id\": 1}, {\"name\": \"Twe...   \n",
              "2     [{\"name\": \"Pixar Animation Studios\", \"id\": 3}]   \n",
              "3          [{\"name\": \"Paramount Pictures\", \"id\": 4}]   \n",
              "4  [{\"name\": \"DreamWorks SKG\", \"id\": 27}, {\"name\"...   \n",
              "\n",
              "                            Movie_Production_Country  \\\n",
              "0  [{\"iso_3166_1\": \"US\", \"name\": \"United States o...   \n",
              "1  [{\"iso_3166_1\": \"US\", \"name\": \"United States o...   \n",
              "2  [{\"iso_3166_1\": \"US\", \"name\": \"United States o...   \n",
              "3  [{\"iso_3166_1\": \"US\", \"name\": \"United States o...   \n",
              "4  [{\"iso_3166_1\": \"US\", \"name\": \"United States o...   \n",
              "\n",
              "                      Movie_Spoken_Language  \\\n",
              "0  [{\"iso_639_1\": \"en\", \"name\": \"English\"}]   \n",
              "1  [{\"iso_639_1\": \"en\", \"name\": \"English\"}]   \n",
              "2  [{\"iso_639_1\": \"en\", \"name\": \"English\"}]   \n",
              "3  [{\"iso_639_1\": \"en\", \"name\": \"English\"}]   \n",
              "4  [{\"iso_639_1\": \"en\", \"name\": \"English\"}]   \n",
              "\n",
              "                                       Movie_Tagline  \\\n",
              "0  Twelve outrageous guests. Four scandalous requ...   \n",
              "1       A long time ago in a galaxy far, far away...   \n",
              "2  There are 3.7 trillion fish in the ocean, they...   \n",
              "3  The world will never be the same, once you've ...   \n",
              "4                                       Look closer.   \n",
              "\n",
              "                                          Movie_Cast  \\\n",
              "0  Tim Roth Antonio Banderas Jennifer Beals Madon...   \n",
              "1  Mark Hamill Harrison Ford Carrie Fisher Peter ...   \n",
              "2  Albert Brooks Ellen DeGeneres Alexander Gould ...   \n",
              "3  Tom Hanks Robin Wright Gary Sinise Mykelti Wil...   \n",
              "4  Kevin Spacey Annette Bening Thora Birch Wes Be...   \n",
              "\n",
              "                                          Movie_Crew   Movie_Director  \n",
              "0  [{'name': 'Allison Anders', 'gender': 1, 'depa...   Allison Anders  \n",
              "1  [{'name': 'George Lucas', 'gender': 2, 'depart...     George Lucas  \n",
              "2  [{'name': 'Andrew Stanton', 'gender': 2, 'depa...   Andrew Stanton  \n",
              "3  [{'name': 'Alan Silvestri', 'gender': 2, 'depa...  Robert Zemeckis  \n",
              "4  [{'name': 'Thomas Newman', 'gender': 2, 'depar...       Sam Mendes  \n",
              "\n",
              "[5 rows x 21 columns]"
            ],
            "text/html": [
              "\n",
              "  <div id=\"df-2de2e8d2-8501-4a59-9fc2-fe0d51281e0b\" class=\"colab-df-container\">\n",
              "    <div>\n",
              "<style scoped>\n",
              "    .dataframe tbody tr th:only-of-type {\n",
              "        vertical-align: middle;\n",
              "    }\n",
              "\n",
              "    .dataframe tbody tr th {\n",
              "        vertical-align: top;\n",
              "    }\n",
              "\n",
              "    .dataframe thead th {\n",
              "        text-align: right;\n",
              "    }\n",
              "</style>\n",
              "<table border=\"1\" class=\"dataframe\">\n",
              "  <thead>\n",
              "    <tr style=\"text-align: right;\">\n",
              "      <th></th>\n",
              "      <th>Movie_ID</th>\n",
              "      <th>Movie_Title</th>\n",
              "      <th>Movie_Genre</th>\n",
              "      <th>Movie_Language</th>\n",
              "      <th>Movie_Budget</th>\n",
              "      <th>Movie_Popularity</th>\n",
              "      <th>Movie_Release_Date</th>\n",
              "      <th>Movie_Revenue</th>\n",
              "      <th>Movie_Runtime</th>\n",
              "      <th>Movie_Vote</th>\n",
              "      <th>...</th>\n",
              "      <th>Movie_Homepage</th>\n",
              "      <th>Movie_Keywords</th>\n",
              "      <th>Movie_Overview</th>\n",
              "      <th>Movie_Production_House</th>\n",
              "      <th>Movie_Production_Country</th>\n",
              "      <th>Movie_Spoken_Language</th>\n",
              "      <th>Movie_Tagline</th>\n",
              "      <th>Movie_Cast</th>\n",
              "      <th>Movie_Crew</th>\n",
              "      <th>Movie_Director</th>\n",
              "    </tr>\n",
              "  </thead>\n",
              "  <tbody>\n",
              "    <tr>\n",
              "      <th>0</th>\n",
              "      <td>1</td>\n",
              "      <td>Four Rooms</td>\n",
              "      <td>Crime Comedy</td>\n",
              "      <td>en</td>\n",
              "      <td>4000000</td>\n",
              "      <td>22.876230</td>\n",
              "      <td>09-12-1995</td>\n",
              "      <td>4300000</td>\n",
              "      <td>98.0</td>\n",
              "      <td>6.5</td>\n",
              "      <td>...</td>\n",
              "      <td>NaN</td>\n",
              "      <td>hotel new year's eve witch bet hotel room</td>\n",
              "      <td>It's Ted the Bellhop's first night on the job....</td>\n",
              "      <td>[{\"name\": \"Miramax Films\", \"id\": 14}, {\"name\":...</td>\n",
              "      <td>[{\"iso_3166_1\": \"US\", \"name\": \"United States o...</td>\n",
              "      <td>[{\"iso_639_1\": \"en\", \"name\": \"English\"}]</td>\n",
              "      <td>Twelve outrageous guests. Four scandalous requ...</td>\n",
              "      <td>Tim Roth Antonio Banderas Jennifer Beals Madon...</td>\n",
              "      <td>[{'name': 'Allison Anders', 'gender': 1, 'depa...</td>\n",
              "      <td>Allison Anders</td>\n",
              "    </tr>\n",
              "    <tr>\n",
              "      <th>1</th>\n",
              "      <td>2</td>\n",
              "      <td>Star Wars</td>\n",
              "      <td>Adventure Action Science Fiction</td>\n",
              "      <td>en</td>\n",
              "      <td>11000000</td>\n",
              "      <td>126.393695</td>\n",
              "      <td>25-05-1977</td>\n",
              "      <td>775398007</td>\n",
              "      <td>121.0</td>\n",
              "      <td>8.1</td>\n",
              "      <td>...</td>\n",
              "      <td>http://www.starwars.com/films/star-wars-episod...</td>\n",
              "      <td>android galaxy hermit death star lightsaber</td>\n",
              "      <td>Princess Leia is captured and held hostage by ...</td>\n",
              "      <td>[{\"name\": \"Lucasfilm\", \"id\": 1}, {\"name\": \"Twe...</td>\n",
              "      <td>[{\"iso_3166_1\": \"US\", \"name\": \"United States o...</td>\n",
              "      <td>[{\"iso_639_1\": \"en\", \"name\": \"English\"}]</td>\n",
              "      <td>A long time ago in a galaxy far, far away...</td>\n",
              "      <td>Mark Hamill Harrison Ford Carrie Fisher Peter ...</td>\n",
              "      <td>[{'name': 'George Lucas', 'gender': 2, 'depart...</td>\n",
              "      <td>George Lucas</td>\n",
              "    </tr>\n",
              "    <tr>\n",
              "      <th>2</th>\n",
              "      <td>3</td>\n",
              "      <td>Finding Nemo</td>\n",
              "      <td>Animation Family</td>\n",
              "      <td>en</td>\n",
              "      <td>94000000</td>\n",
              "      <td>85.688789</td>\n",
              "      <td>30-05-2003</td>\n",
              "      <td>940335536</td>\n",
              "      <td>100.0</td>\n",
              "      <td>7.6</td>\n",
              "      <td>...</td>\n",
              "      <td>http://movies.disney.com/finding-nemo</td>\n",
              "      <td>father son relationship harbor underwater fish...</td>\n",
              "      <td>Nemo, an adventurous young clownfish, is unexp...</td>\n",
              "      <td>[{\"name\": \"Pixar Animation Studios\", \"id\": 3}]</td>\n",
              "      <td>[{\"iso_3166_1\": \"US\", \"name\": \"United States o...</td>\n",
              "      <td>[{\"iso_639_1\": \"en\", \"name\": \"English\"}]</td>\n",
              "      <td>There are 3.7 trillion fish in the ocean, they...</td>\n",
              "      <td>Albert Brooks Ellen DeGeneres Alexander Gould ...</td>\n",
              "      <td>[{'name': 'Andrew Stanton', 'gender': 2, 'depa...</td>\n",
              "      <td>Andrew Stanton</td>\n",
              "    </tr>\n",
              "    <tr>\n",
              "      <th>3</th>\n",
              "      <td>4</td>\n",
              "      <td>Forrest Gump</td>\n",
              "      <td>Comedy Drama Romance</td>\n",
              "      <td>en</td>\n",
              "      <td>55000000</td>\n",
              "      <td>138.133331</td>\n",
              "      <td>06-07-1994</td>\n",
              "      <td>677945399</td>\n",
              "      <td>142.0</td>\n",
              "      <td>8.2</td>\n",
              "      <td>...</td>\n",
              "      <td>NaN</td>\n",
              "      <td>vietnam veteran hippie mentally disabled runni...</td>\n",
              "      <td>A man with a low IQ has accomplished great thi...</td>\n",
              "      <td>[{\"name\": \"Paramount Pictures\", \"id\": 4}]</td>\n",
              "      <td>[{\"iso_3166_1\": \"US\", \"name\": \"United States o...</td>\n",
              "      <td>[{\"iso_639_1\": \"en\", \"name\": \"English\"}]</td>\n",
              "      <td>The world will never be the same, once you've ...</td>\n",
              "      <td>Tom Hanks Robin Wright Gary Sinise Mykelti Wil...</td>\n",
              "      <td>[{'name': 'Alan Silvestri', 'gender': 2, 'depa...</td>\n",
              "      <td>Robert Zemeckis</td>\n",
              "    </tr>\n",
              "    <tr>\n",
              "      <th>4</th>\n",
              "      <td>5</td>\n",
              "      <td>American Beauty</td>\n",
              "      <td>Drama</td>\n",
              "      <td>en</td>\n",
              "      <td>15000000</td>\n",
              "      <td>80.878605</td>\n",
              "      <td>15-09-1999</td>\n",
              "      <td>356296601</td>\n",
              "      <td>122.0</td>\n",
              "      <td>7.9</td>\n",
              "      <td>...</td>\n",
              "      <td>http://www.dreamworks.com/ab/</td>\n",
              "      <td>male nudity female nudity adultery midlife cri...</td>\n",
              "      <td>Lester Burnham, a depressed suburban father in...</td>\n",
              "      <td>[{\"name\": \"DreamWorks SKG\", \"id\": 27}, {\"name\"...</td>\n",
              "      <td>[{\"iso_3166_1\": \"US\", \"name\": \"United States o...</td>\n",
              "      <td>[{\"iso_639_1\": \"en\", \"name\": \"English\"}]</td>\n",
              "      <td>Look closer.</td>\n",
              "      <td>Kevin Spacey Annette Bening Thora Birch Wes Be...</td>\n",
              "      <td>[{'name': 'Thomas Newman', 'gender': 2, 'depar...</td>\n",
              "      <td>Sam Mendes</td>\n",
              "    </tr>\n",
              "  </tbody>\n",
              "</table>\n",
              "<p>5 rows × 21 columns</p>\n",
              "</div>\n",
              "    <div class=\"colab-df-buttons\">\n",
              "\n",
              "  <div class=\"colab-df-container\">\n",
              "    <button class=\"colab-df-convert\" onclick=\"convertToInteractive('df-2de2e8d2-8501-4a59-9fc2-fe0d51281e0b')\"\n",
              "            title=\"Convert this dataframe to an interactive table.\"\n",
              "            style=\"display:none;\">\n",
              "\n",
              "  <svg xmlns=\"http://www.w3.org/2000/svg\" height=\"24px\" viewBox=\"0 -960 960 960\">\n",
              "    <path d=\"M120-120v-720h720v720H120Zm60-500h600v-160H180v160Zm220 220h160v-160H400v160Zm0 220h160v-160H400v160ZM180-400h160v-160H180v160Zm440 0h160v-160H620v160ZM180-180h160v-160H180v160Zm440 0h160v-160H620v160Z\"/>\n",
              "  </svg>\n",
              "    </button>\n",
              "\n",
              "  <style>\n",
              "    .colab-df-container {\n",
              "      display:flex;\n",
              "      gap: 12px;\n",
              "    }\n",
              "\n",
              "    .colab-df-convert {\n",
              "      background-color: #E8F0FE;\n",
              "      border: none;\n",
              "      border-radius: 50%;\n",
              "      cursor: pointer;\n",
              "      display: none;\n",
              "      fill: #1967D2;\n",
              "      height: 32px;\n",
              "      padding: 0 0 0 0;\n",
              "      width: 32px;\n",
              "    }\n",
              "\n",
              "    .colab-df-convert:hover {\n",
              "      background-color: #E2EBFA;\n",
              "      box-shadow: 0px 1px 2px rgba(60, 64, 67, 0.3), 0px 1px 3px 1px rgba(60, 64, 67, 0.15);\n",
              "      fill: #174EA6;\n",
              "    }\n",
              "\n",
              "    .colab-df-buttons div {\n",
              "      margin-bottom: 4px;\n",
              "    }\n",
              "\n",
              "    [theme=dark] .colab-df-convert {\n",
              "      background-color: #3B4455;\n",
              "      fill: #D2E3FC;\n",
              "    }\n",
              "\n",
              "    [theme=dark] .colab-df-convert:hover {\n",
              "      background-color: #434B5C;\n",
              "      box-shadow: 0px 1px 3px 1px rgba(0, 0, 0, 0.15);\n",
              "      filter: drop-shadow(0px 1px 2px rgba(0, 0, 0, 0.3));\n",
              "      fill: #FFFFFF;\n",
              "    }\n",
              "  </style>\n",
              "\n",
              "    <script>\n",
              "      const buttonEl =\n",
              "        document.querySelector('#df-2de2e8d2-8501-4a59-9fc2-fe0d51281e0b button.colab-df-convert');\n",
              "      buttonEl.style.display =\n",
              "        google.colab.kernel.accessAllowed ? 'block' : 'none';\n",
              "\n",
              "      async function convertToInteractive(key) {\n",
              "        const element = document.querySelector('#df-2de2e8d2-8501-4a59-9fc2-fe0d51281e0b');\n",
              "        const dataTable =\n",
              "          await google.colab.kernel.invokeFunction('convertToInteractive',\n",
              "                                                    [key], {});\n",
              "        if (!dataTable) return;\n",
              "\n",
              "        const docLinkHtml = 'Like what you see? Visit the ' +\n",
              "          '<a target=\"_blank\" href=https://colab.research.google.com/notebooks/data_table.ipynb>data table notebook</a>'\n",
              "          + ' to learn more about interactive tables.';\n",
              "        element.innerHTML = '';\n",
              "        dataTable['output_type'] = 'display_data';\n",
              "        await google.colab.output.renderOutput(dataTable, element);\n",
              "        const docLink = document.createElement('div');\n",
              "        docLink.innerHTML = docLinkHtml;\n",
              "        element.appendChild(docLink);\n",
              "      }\n",
              "    </script>\n",
              "  </div>\n",
              "\n",
              "\n",
              "<div id=\"df-ca2dbc89-3faa-4306-b10a-dba3520b27f7\">\n",
              "  <button class=\"colab-df-quickchart\" onclick=\"quickchart('df-ca2dbc89-3faa-4306-b10a-dba3520b27f7')\"\n",
              "            title=\"Suggest charts\"\n",
              "            style=\"display:none;\">\n",
              "\n",
              "<svg xmlns=\"http://www.w3.org/2000/svg\" height=\"24px\"viewBox=\"0 0 24 24\"\n",
              "     width=\"24px\">\n",
              "    <g>\n",
              "        <path d=\"M19 3H5c-1.1 0-2 .9-2 2v14c0 1.1.9 2 2 2h14c1.1 0 2-.9 2-2V5c0-1.1-.9-2-2-2zM9 17H7v-7h2v7zm4 0h-2V7h2v10zm4 0h-2v-4h2v4z\"/>\n",
              "    </g>\n",
              "</svg>\n",
              "  </button>\n",
              "\n",
              "<style>\n",
              "  .colab-df-quickchart {\n",
              "      --bg-color: #E8F0FE;\n",
              "      --fill-color: #1967D2;\n",
              "      --hover-bg-color: #E2EBFA;\n",
              "      --hover-fill-color: #174EA6;\n",
              "      --disabled-fill-color: #AAA;\n",
              "      --disabled-bg-color: #DDD;\n",
              "  }\n",
              "\n",
              "  [theme=dark] .colab-df-quickchart {\n",
              "      --bg-color: #3B4455;\n",
              "      --fill-color: #D2E3FC;\n",
              "      --hover-bg-color: #434B5C;\n",
              "      --hover-fill-color: #FFFFFF;\n",
              "      --disabled-bg-color: #3B4455;\n",
              "      --disabled-fill-color: #666;\n",
              "  }\n",
              "\n",
              "  .colab-df-quickchart {\n",
              "    background-color: var(--bg-color);\n",
              "    border: none;\n",
              "    border-radius: 50%;\n",
              "    cursor: pointer;\n",
              "    display: none;\n",
              "    fill: var(--fill-color);\n",
              "    height: 32px;\n",
              "    padding: 0;\n",
              "    width: 32px;\n",
              "  }\n",
              "\n",
              "  .colab-df-quickchart:hover {\n",
              "    background-color: var(--hover-bg-color);\n",
              "    box-shadow: 0 1px 2px rgba(60, 64, 67, 0.3), 0 1px 3px 1px rgba(60, 64, 67, 0.15);\n",
              "    fill: var(--button-hover-fill-color);\n",
              "  }\n",
              "\n",
              "  .colab-df-quickchart-complete:disabled,\n",
              "  .colab-df-quickchart-complete:disabled:hover {\n",
              "    background-color: var(--disabled-bg-color);\n",
              "    fill: var(--disabled-fill-color);\n",
              "    box-shadow: none;\n",
              "  }\n",
              "\n",
              "  .colab-df-spinner {\n",
              "    border: 2px solid var(--fill-color);\n",
              "    border-color: transparent;\n",
              "    border-bottom-color: var(--fill-color);\n",
              "    animation:\n",
              "      spin 1s steps(1) infinite;\n",
              "  }\n",
              "\n",
              "  @keyframes spin {\n",
              "    0% {\n",
              "      border-color: transparent;\n",
              "      border-bottom-color: var(--fill-color);\n",
              "      border-left-color: var(--fill-color);\n",
              "    }\n",
              "    20% {\n",
              "      border-color: transparent;\n",
              "      border-left-color: var(--fill-color);\n",
              "      border-top-color: var(--fill-color);\n",
              "    }\n",
              "    30% {\n",
              "      border-color: transparent;\n",
              "      border-left-color: var(--fill-color);\n",
              "      border-top-color: var(--fill-color);\n",
              "      border-right-color: var(--fill-color);\n",
              "    }\n",
              "    40% {\n",
              "      border-color: transparent;\n",
              "      border-right-color: var(--fill-color);\n",
              "      border-top-color: var(--fill-color);\n",
              "    }\n",
              "    60% {\n",
              "      border-color: transparent;\n",
              "      border-right-color: var(--fill-color);\n",
              "    }\n",
              "    80% {\n",
              "      border-color: transparent;\n",
              "      border-right-color: var(--fill-color);\n",
              "      border-bottom-color: var(--fill-color);\n",
              "    }\n",
              "    90% {\n",
              "      border-color: transparent;\n",
              "      border-bottom-color: var(--fill-color);\n",
              "    }\n",
              "  }\n",
              "</style>\n",
              "\n",
              "  <script>\n",
              "    async function quickchart(key) {\n",
              "      const quickchartButtonEl =\n",
              "        document.querySelector('#' + key + ' button');\n",
              "      quickchartButtonEl.disabled = true;  // To prevent multiple clicks.\n",
              "      quickchartButtonEl.classList.add('colab-df-spinner');\n",
              "      try {\n",
              "        const charts = await google.colab.kernel.invokeFunction(\n",
              "            'suggestCharts', [key], {});\n",
              "      } catch (error) {\n",
              "        console.error('Error during call to suggestCharts:', error);\n",
              "      }\n",
              "      quickchartButtonEl.classList.remove('colab-df-spinner');\n",
              "      quickchartButtonEl.classList.add('colab-df-quickchart-complete');\n",
              "    }\n",
              "    (() => {\n",
              "      let quickchartButtonEl =\n",
              "        document.querySelector('#df-ca2dbc89-3faa-4306-b10a-dba3520b27f7 button');\n",
              "      quickchartButtonEl.style.display =\n",
              "        google.colab.kernel.accessAllowed ? 'block' : 'none';\n",
              "    })();\n",
              "  </script>\n",
              "</div>\n",
              "\n",
              "    </div>\n",
              "  </div>\n"
            ],
            "application/vnd.google.colaboratory.intrinsic+json": {
              "type": "dataframe",
              "variable_name": "df"
            }
          },
          "metadata": {},
          "execution_count": 17
        }
      ]
    },
    {
      "cell_type": "code",
      "source": [
        "df.info()"
      ],
      "metadata": {
        "colab": {
          "base_uri": "https://localhost:8080/"
        },
        "id": "9tmLetAftkA2",
        "outputId": "d9507ff6-b0a6-4f00-9ce5-73689540cb56"
      },
      "execution_count": 18,
      "outputs": [
        {
          "output_type": "stream",
          "name": "stdout",
          "text": [
            "<class 'pandas.core.frame.DataFrame'>\n",
            "RangeIndex: 4760 entries, 0 to 4759\n",
            "Data columns (total 21 columns):\n",
            " #   Column                    Non-Null Count  Dtype  \n",
            "---  ------                    --------------  -----  \n",
            " 0   Movie_ID                  4760 non-null   int64  \n",
            " 1   Movie_Title               4760 non-null   object \n",
            " 2   Movie_Genre               4760 non-null   object \n",
            " 3   Movie_Language            4760 non-null   object \n",
            " 4   Movie_Budget              4760 non-null   int64  \n",
            " 5   Movie_Popularity          4760 non-null   float64\n",
            " 6   Movie_Release_Date        4760 non-null   object \n",
            " 7   Movie_Revenue             4760 non-null   int64  \n",
            " 8   Movie_Runtime             4758 non-null   float64\n",
            " 9   Movie_Vote                4760 non-null   float64\n",
            " 10  Movie_Vote_Count          4760 non-null   int64  \n",
            " 11  Movie_Homepage            1699 non-null   object \n",
            " 12  Movie_Keywords            4373 non-null   object \n",
            " 13  Movie_Overview            4757 non-null   object \n",
            " 14  Movie_Production_House    4760 non-null   object \n",
            " 15  Movie_Production_Country  4760 non-null   object \n",
            " 16  Movie_Spoken_Language     4760 non-null   object \n",
            " 17  Movie_Tagline             3942 non-null   object \n",
            " 18  Movie_Cast                4733 non-null   object \n",
            " 19  Movie_Crew                4760 non-null   object \n",
            " 20  Movie_Director            4738 non-null   object \n",
            "dtypes: float64(3), int64(4), object(14)\n",
            "memory usage: 781.1+ KB\n"
          ]
        }
      ]
    },
    {
      "cell_type": "code",
      "source": [
        "df.shape"
      ],
      "metadata": {
        "colab": {
          "base_uri": "https://localhost:8080/"
        },
        "id": "87P1TkCRts6T",
        "outputId": "b22e453d-f047-42dc-d963-51f278f207bc"
      },
      "execution_count": 49,
      "outputs": [
        {
          "output_type": "execute_result",
          "data": {
            "text/plain": [
              "(4760, 21)"
            ]
          },
          "metadata": {},
          "execution_count": 49
        }
      ]
    },
    {
      "cell_type": "code",
      "source": [
        "df.columns"
      ],
      "metadata": {
        "colab": {
          "base_uri": "https://localhost:8080/"
        },
        "id": "QbIAaSwVtzRa",
        "outputId": "48f82075-4feb-40a4-814c-f45646283c7c"
      },
      "execution_count": 48,
      "outputs": [
        {
          "output_type": "execute_result",
          "data": {
            "text/plain": [
              "Index(['Movie_ID', 'Movie_Title', 'Movie_Genre', 'Movie_Language',\n",
              "       'Movie_Budget', 'Movie_Popularity', 'Movie_Release_Date',\n",
              "       'Movie_Revenue', 'Movie_Runtime', 'Movie_Vote', 'Movie_Vote_Count',\n",
              "       'Movie_Homepage', 'Movie_Keywords', 'Movie_Overview',\n",
              "       'Movie_Production_House', 'Movie_Production_Country',\n",
              "       'Movie_Spoken_Language', 'Movie_Tagline', 'Movie_Cast', 'Movie_Crew',\n",
              "       'Movie_Director'],\n",
              "      dtype='object')"
            ]
          },
          "metadata": {},
          "execution_count": 48
        }
      ]
    },
    {
      "cell_type": "markdown",
      "source": [
        "# **Get Feature Selection**"
      ],
      "metadata": {
        "id": "xEtLIYb_t2cr"
      }
    },
    {
      "cell_type": "code",
      "source": [
        "df_features = df[['Movie_Genre','Movie_Keywords','Movie_Tagline','Movie_Cast','Movie_Director']].fillna('')"
      ],
      "metadata": {
        "id": "HKTR2kbft1AV"
      },
      "execution_count": 35,
      "outputs": []
    },
    {
      "cell_type": "markdown",
      "source": [
        "Selected five existing features to recommend movies.It may vary from one project to another.Like one can add vote conts,budget,language etc"
      ],
      "metadata": {
        "id": "Q5mmCHinvcvJ"
      }
    },
    {
      "cell_type": "code",
      "source": [
        "df_features.shape"
      ],
      "metadata": {
        "colab": {
          "base_uri": "https://localhost:8080/"
        },
        "id": "WT12nCe0vcQj",
        "outputId": "95793ed5-2c2b-4128-f018-31d625a89fe3"
      },
      "execution_count": 36,
      "outputs": [
        {
          "output_type": "execute_result",
          "data": {
            "text/plain": [
              "(4760, 5)"
            ]
          },
          "metadata": {},
          "execution_count": 36
        }
      ]
    },
    {
      "cell_type": "code",
      "source": [
        "df_features"
      ],
      "metadata": {
        "colab": {
          "base_uri": "https://localhost:8080/",
          "height": 580
        },
        "id": "LXUsyU5Dv8Oz",
        "outputId": "0f840063-b2a2-42db-be66-32fe34444d98"
      },
      "execution_count": 37,
      "outputs": [
        {
          "output_type": "execute_result",
          "data": {
            "text/plain": [
              "                           Movie_Genre  \\\n",
              "0                         Crime Comedy   \n",
              "1     Adventure Action Science Fiction   \n",
              "2                     Animation Family   \n",
              "3                 Comedy Drama Romance   \n",
              "4                                Drama   \n",
              "...                                ...   \n",
              "4755                            Horror   \n",
              "4756               Comedy Family Drama   \n",
              "4757                    Thriller Drama   \n",
              "4758                            Family   \n",
              "4759                       Documentary   \n",
              "\n",
              "                                         Movie_Keywords  \\\n",
              "0             hotel new year's eve witch bet hotel room   \n",
              "1           android galaxy hermit death star lightsaber   \n",
              "2     father son relationship harbor underwater fish...   \n",
              "3     vietnam veteran hippie mentally disabled runni...   \n",
              "4     male nudity female nudity adultery midlife cri...   \n",
              "...                                                 ...   \n",
              "4755                                                      \n",
              "4756                                                      \n",
              "4757                     christian film sex trafficking   \n",
              "4758                                                      \n",
              "4759  music actors legendary perfomer classic hollyw...   \n",
              "\n",
              "                                          Movie_Tagline  \\\n",
              "0     Twelve outrageous guests. Four scandalous requ...   \n",
              "1          A long time ago in a galaxy far, far away...   \n",
              "2     There are 3.7 trillion fish in the ocean, they...   \n",
              "3     The world will never be the same, once you've ...   \n",
              "4                                          Look closer.   \n",
              "...                                                 ...   \n",
              "4755                The hot spot where Satan's waitin'.   \n",
              "4756           It’s better to stand out than to fit in.   \n",
              "4757           She never knew it could happen to her...   \n",
              "4758                                                      \n",
              "4759                                                      \n",
              "\n",
              "                                             Movie_Cast     Movie_Director  \n",
              "0     Tim Roth Antonio Banderas Jennifer Beals Madon...     Allison Anders  \n",
              "1     Mark Hamill Harrison Ford Carrie Fisher Peter ...       George Lucas  \n",
              "2     Albert Brooks Ellen DeGeneres Alexander Gould ...     Andrew Stanton  \n",
              "3     Tom Hanks Robin Wright Gary Sinise Mykelti Wil...    Robert Zemeckis  \n",
              "4     Kevin Spacey Annette Bening Thora Birch Wes Be...         Sam Mendes  \n",
              "...                                                 ...                ...  \n",
              "4755  Lisa Hart Carroll Michael Des Barres Paul Drak...         Pece Dingo  \n",
              "4756  Roni Akurati Brighton Sharbino Jason Lee Anjul...       Frank Lotito  \n",
              "4757  Nicole Smolen Kim Baldwin Ariana Stephens Brys...       Jaco Booyens  \n",
              "4758                                                                        \n",
              "4759                                    Tony Oppedisano  Simon Napier-Bell  \n",
              "\n",
              "[4760 rows x 5 columns]"
            ],
            "text/html": [
              "\n",
              "  <div id=\"df-724f959a-f4f2-489c-81d9-1d9ab94b3f60\" class=\"colab-df-container\">\n",
              "    <div>\n",
              "<style scoped>\n",
              "    .dataframe tbody tr th:only-of-type {\n",
              "        vertical-align: middle;\n",
              "    }\n",
              "\n",
              "    .dataframe tbody tr th {\n",
              "        vertical-align: top;\n",
              "    }\n",
              "\n",
              "    .dataframe thead th {\n",
              "        text-align: right;\n",
              "    }\n",
              "</style>\n",
              "<table border=\"1\" class=\"dataframe\">\n",
              "  <thead>\n",
              "    <tr style=\"text-align: right;\">\n",
              "      <th></th>\n",
              "      <th>Movie_Genre</th>\n",
              "      <th>Movie_Keywords</th>\n",
              "      <th>Movie_Tagline</th>\n",
              "      <th>Movie_Cast</th>\n",
              "      <th>Movie_Director</th>\n",
              "    </tr>\n",
              "  </thead>\n",
              "  <tbody>\n",
              "    <tr>\n",
              "      <th>0</th>\n",
              "      <td>Crime Comedy</td>\n",
              "      <td>hotel new year's eve witch bet hotel room</td>\n",
              "      <td>Twelve outrageous guests. Four scandalous requ...</td>\n",
              "      <td>Tim Roth Antonio Banderas Jennifer Beals Madon...</td>\n",
              "      <td>Allison Anders</td>\n",
              "    </tr>\n",
              "    <tr>\n",
              "      <th>1</th>\n",
              "      <td>Adventure Action Science Fiction</td>\n",
              "      <td>android galaxy hermit death star lightsaber</td>\n",
              "      <td>A long time ago in a galaxy far, far away...</td>\n",
              "      <td>Mark Hamill Harrison Ford Carrie Fisher Peter ...</td>\n",
              "      <td>George Lucas</td>\n",
              "    </tr>\n",
              "    <tr>\n",
              "      <th>2</th>\n",
              "      <td>Animation Family</td>\n",
              "      <td>father son relationship harbor underwater fish...</td>\n",
              "      <td>There are 3.7 trillion fish in the ocean, they...</td>\n",
              "      <td>Albert Brooks Ellen DeGeneres Alexander Gould ...</td>\n",
              "      <td>Andrew Stanton</td>\n",
              "    </tr>\n",
              "    <tr>\n",
              "      <th>3</th>\n",
              "      <td>Comedy Drama Romance</td>\n",
              "      <td>vietnam veteran hippie mentally disabled runni...</td>\n",
              "      <td>The world will never be the same, once you've ...</td>\n",
              "      <td>Tom Hanks Robin Wright Gary Sinise Mykelti Wil...</td>\n",
              "      <td>Robert Zemeckis</td>\n",
              "    </tr>\n",
              "    <tr>\n",
              "      <th>4</th>\n",
              "      <td>Drama</td>\n",
              "      <td>male nudity female nudity adultery midlife cri...</td>\n",
              "      <td>Look closer.</td>\n",
              "      <td>Kevin Spacey Annette Bening Thora Birch Wes Be...</td>\n",
              "      <td>Sam Mendes</td>\n",
              "    </tr>\n",
              "    <tr>\n",
              "      <th>...</th>\n",
              "      <td>...</td>\n",
              "      <td>...</td>\n",
              "      <td>...</td>\n",
              "      <td>...</td>\n",
              "      <td>...</td>\n",
              "    </tr>\n",
              "    <tr>\n",
              "      <th>4755</th>\n",
              "      <td>Horror</td>\n",
              "      <td></td>\n",
              "      <td>The hot spot where Satan's waitin'.</td>\n",
              "      <td>Lisa Hart Carroll Michael Des Barres Paul Drak...</td>\n",
              "      <td>Pece Dingo</td>\n",
              "    </tr>\n",
              "    <tr>\n",
              "      <th>4756</th>\n",
              "      <td>Comedy Family Drama</td>\n",
              "      <td></td>\n",
              "      <td>It’s better to stand out than to fit in.</td>\n",
              "      <td>Roni Akurati Brighton Sharbino Jason Lee Anjul...</td>\n",
              "      <td>Frank Lotito</td>\n",
              "    </tr>\n",
              "    <tr>\n",
              "      <th>4757</th>\n",
              "      <td>Thriller Drama</td>\n",
              "      <td>christian film sex trafficking</td>\n",
              "      <td>She never knew it could happen to her...</td>\n",
              "      <td>Nicole Smolen Kim Baldwin Ariana Stephens Brys...</td>\n",
              "      <td>Jaco Booyens</td>\n",
              "    </tr>\n",
              "    <tr>\n",
              "      <th>4758</th>\n",
              "      <td>Family</td>\n",
              "      <td></td>\n",
              "      <td></td>\n",
              "      <td></td>\n",
              "      <td></td>\n",
              "    </tr>\n",
              "    <tr>\n",
              "      <th>4759</th>\n",
              "      <td>Documentary</td>\n",
              "      <td>music actors legendary perfomer classic hollyw...</td>\n",
              "      <td></td>\n",
              "      <td>Tony Oppedisano</td>\n",
              "      <td>Simon Napier-Bell</td>\n",
              "    </tr>\n",
              "  </tbody>\n",
              "</table>\n",
              "<p>4760 rows × 5 columns</p>\n",
              "</div>\n",
              "    <div class=\"colab-df-buttons\">\n",
              "\n",
              "  <div class=\"colab-df-container\">\n",
              "    <button class=\"colab-df-convert\" onclick=\"convertToInteractive('df-724f959a-f4f2-489c-81d9-1d9ab94b3f60')\"\n",
              "            title=\"Convert this dataframe to an interactive table.\"\n",
              "            style=\"display:none;\">\n",
              "\n",
              "  <svg xmlns=\"http://www.w3.org/2000/svg\" height=\"24px\" viewBox=\"0 -960 960 960\">\n",
              "    <path d=\"M120-120v-720h720v720H120Zm60-500h600v-160H180v160Zm220 220h160v-160H400v160Zm0 220h160v-160H400v160ZM180-400h160v-160H180v160Zm440 0h160v-160H620v160ZM180-180h160v-160H180v160Zm440 0h160v-160H620v160Z\"/>\n",
              "  </svg>\n",
              "    </button>\n",
              "\n",
              "  <style>\n",
              "    .colab-df-container {\n",
              "      display:flex;\n",
              "      gap: 12px;\n",
              "    }\n",
              "\n",
              "    .colab-df-convert {\n",
              "      background-color: #E8F0FE;\n",
              "      border: none;\n",
              "      border-radius: 50%;\n",
              "      cursor: pointer;\n",
              "      display: none;\n",
              "      fill: #1967D2;\n",
              "      height: 32px;\n",
              "      padding: 0 0 0 0;\n",
              "      width: 32px;\n",
              "    }\n",
              "\n",
              "    .colab-df-convert:hover {\n",
              "      background-color: #E2EBFA;\n",
              "      box-shadow: 0px 1px 2px rgba(60, 64, 67, 0.3), 0px 1px 3px 1px rgba(60, 64, 67, 0.15);\n",
              "      fill: #174EA6;\n",
              "    }\n",
              "\n",
              "    .colab-df-buttons div {\n",
              "      margin-bottom: 4px;\n",
              "    }\n",
              "\n",
              "    [theme=dark] .colab-df-convert {\n",
              "      background-color: #3B4455;\n",
              "      fill: #D2E3FC;\n",
              "    }\n",
              "\n",
              "    [theme=dark] .colab-df-convert:hover {\n",
              "      background-color: #434B5C;\n",
              "      box-shadow: 0px 1px 3px 1px rgba(0, 0, 0, 0.15);\n",
              "      filter: drop-shadow(0px 1px 2px rgba(0, 0, 0, 0.3));\n",
              "      fill: #FFFFFF;\n",
              "    }\n",
              "  </style>\n",
              "\n",
              "    <script>\n",
              "      const buttonEl =\n",
              "        document.querySelector('#df-724f959a-f4f2-489c-81d9-1d9ab94b3f60 button.colab-df-convert');\n",
              "      buttonEl.style.display =\n",
              "        google.colab.kernel.accessAllowed ? 'block' : 'none';\n",
              "\n",
              "      async function convertToInteractive(key) {\n",
              "        const element = document.querySelector('#df-724f959a-f4f2-489c-81d9-1d9ab94b3f60');\n",
              "        const dataTable =\n",
              "          await google.colab.kernel.invokeFunction('convertToInteractive',\n",
              "                                                    [key], {});\n",
              "        if (!dataTable) return;\n",
              "\n",
              "        const docLinkHtml = 'Like what you see? Visit the ' +\n",
              "          '<a target=\"_blank\" href=https://colab.research.google.com/notebooks/data_table.ipynb>data table notebook</a>'\n",
              "          + ' to learn more about interactive tables.';\n",
              "        element.innerHTML = '';\n",
              "        dataTable['output_type'] = 'display_data';\n",
              "        await google.colab.output.renderOutput(dataTable, element);\n",
              "        const docLink = document.createElement('div');\n",
              "        docLink.innerHTML = docLinkHtml;\n",
              "        element.appendChild(docLink);\n",
              "      }\n",
              "    </script>\n",
              "  </div>\n",
              "\n",
              "\n",
              "<div id=\"df-ca877c26-bd12-4837-a82e-bf2fd1204b99\">\n",
              "  <button class=\"colab-df-quickchart\" onclick=\"quickchart('df-ca877c26-bd12-4837-a82e-bf2fd1204b99')\"\n",
              "            title=\"Suggest charts\"\n",
              "            style=\"display:none;\">\n",
              "\n",
              "<svg xmlns=\"http://www.w3.org/2000/svg\" height=\"24px\"viewBox=\"0 0 24 24\"\n",
              "     width=\"24px\">\n",
              "    <g>\n",
              "        <path d=\"M19 3H5c-1.1 0-2 .9-2 2v14c0 1.1.9 2 2 2h14c1.1 0 2-.9 2-2V5c0-1.1-.9-2-2-2zM9 17H7v-7h2v7zm4 0h-2V7h2v10zm4 0h-2v-4h2v4z\"/>\n",
              "    </g>\n",
              "</svg>\n",
              "  </button>\n",
              "\n",
              "<style>\n",
              "  .colab-df-quickchart {\n",
              "      --bg-color: #E8F0FE;\n",
              "      --fill-color: #1967D2;\n",
              "      --hover-bg-color: #E2EBFA;\n",
              "      --hover-fill-color: #174EA6;\n",
              "      --disabled-fill-color: #AAA;\n",
              "      --disabled-bg-color: #DDD;\n",
              "  }\n",
              "\n",
              "  [theme=dark] .colab-df-quickchart {\n",
              "      --bg-color: #3B4455;\n",
              "      --fill-color: #D2E3FC;\n",
              "      --hover-bg-color: #434B5C;\n",
              "      --hover-fill-color: #FFFFFF;\n",
              "      --disabled-bg-color: #3B4455;\n",
              "      --disabled-fill-color: #666;\n",
              "  }\n",
              "\n",
              "  .colab-df-quickchart {\n",
              "    background-color: var(--bg-color);\n",
              "    border: none;\n",
              "    border-radius: 50%;\n",
              "    cursor: pointer;\n",
              "    display: none;\n",
              "    fill: var(--fill-color);\n",
              "    height: 32px;\n",
              "    padding: 0;\n",
              "    width: 32px;\n",
              "  }\n",
              "\n",
              "  .colab-df-quickchart:hover {\n",
              "    background-color: var(--hover-bg-color);\n",
              "    box-shadow: 0 1px 2px rgba(60, 64, 67, 0.3), 0 1px 3px 1px rgba(60, 64, 67, 0.15);\n",
              "    fill: var(--button-hover-fill-color);\n",
              "  }\n",
              "\n",
              "  .colab-df-quickchart-complete:disabled,\n",
              "  .colab-df-quickchart-complete:disabled:hover {\n",
              "    background-color: var(--disabled-bg-color);\n",
              "    fill: var(--disabled-fill-color);\n",
              "    box-shadow: none;\n",
              "  }\n",
              "\n",
              "  .colab-df-spinner {\n",
              "    border: 2px solid var(--fill-color);\n",
              "    border-color: transparent;\n",
              "    border-bottom-color: var(--fill-color);\n",
              "    animation:\n",
              "      spin 1s steps(1) infinite;\n",
              "  }\n",
              "\n",
              "  @keyframes spin {\n",
              "    0% {\n",
              "      border-color: transparent;\n",
              "      border-bottom-color: var(--fill-color);\n",
              "      border-left-color: var(--fill-color);\n",
              "    }\n",
              "    20% {\n",
              "      border-color: transparent;\n",
              "      border-left-color: var(--fill-color);\n",
              "      border-top-color: var(--fill-color);\n",
              "    }\n",
              "    30% {\n",
              "      border-color: transparent;\n",
              "      border-left-color: var(--fill-color);\n",
              "      border-top-color: var(--fill-color);\n",
              "      border-right-color: var(--fill-color);\n",
              "    }\n",
              "    40% {\n",
              "      border-color: transparent;\n",
              "      border-right-color: var(--fill-color);\n",
              "      border-top-color: var(--fill-color);\n",
              "    }\n",
              "    60% {\n",
              "      border-color: transparent;\n",
              "      border-right-color: var(--fill-color);\n",
              "    }\n",
              "    80% {\n",
              "      border-color: transparent;\n",
              "      border-right-color: var(--fill-color);\n",
              "      border-bottom-color: var(--fill-color);\n",
              "    }\n",
              "    90% {\n",
              "      border-color: transparent;\n",
              "      border-bottom-color: var(--fill-color);\n",
              "    }\n",
              "  }\n",
              "</style>\n",
              "\n",
              "  <script>\n",
              "    async function quickchart(key) {\n",
              "      const quickchartButtonEl =\n",
              "        document.querySelector('#' + key + ' button');\n",
              "      quickchartButtonEl.disabled = true;  // To prevent multiple clicks.\n",
              "      quickchartButtonEl.classList.add('colab-df-spinner');\n",
              "      try {\n",
              "        const charts = await google.colab.kernel.invokeFunction(\n",
              "            'suggestCharts', [key], {});\n",
              "      } catch (error) {\n",
              "        console.error('Error during call to suggestCharts:', error);\n",
              "      }\n",
              "      quickchartButtonEl.classList.remove('colab-df-spinner');\n",
              "      quickchartButtonEl.classList.add('colab-df-quickchart-complete');\n",
              "    }\n",
              "    (() => {\n",
              "      let quickchartButtonEl =\n",
              "        document.querySelector('#df-ca877c26-bd12-4837-a82e-bf2fd1204b99 button');\n",
              "      quickchartButtonEl.style.display =\n",
              "        google.colab.kernel.accessAllowed ? 'block' : 'none';\n",
              "    })();\n",
              "  </script>\n",
              "</div>\n",
              "\n",
              "  <div id=\"id_c8933184-3ebf-4472-9f79-8575a65f0a31\">\n",
              "    <style>\n",
              "      .colab-df-generate {\n",
              "        background-color: #E8F0FE;\n",
              "        border: none;\n",
              "        border-radius: 50%;\n",
              "        cursor: pointer;\n",
              "        display: none;\n",
              "        fill: #1967D2;\n",
              "        height: 32px;\n",
              "        padding: 0 0 0 0;\n",
              "        width: 32px;\n",
              "      }\n",
              "\n",
              "      .colab-df-generate:hover {\n",
              "        background-color: #E2EBFA;\n",
              "        box-shadow: 0px 1px 2px rgba(60, 64, 67, 0.3), 0px 1px 3px 1px rgba(60, 64, 67, 0.15);\n",
              "        fill: #174EA6;\n",
              "      }\n",
              "\n",
              "      [theme=dark] .colab-df-generate {\n",
              "        background-color: #3B4455;\n",
              "        fill: #D2E3FC;\n",
              "      }\n",
              "\n",
              "      [theme=dark] .colab-df-generate:hover {\n",
              "        background-color: #434B5C;\n",
              "        box-shadow: 0px 1px 3px 1px rgba(0, 0, 0, 0.15);\n",
              "        filter: drop-shadow(0px 1px 2px rgba(0, 0, 0, 0.3));\n",
              "        fill: #FFFFFF;\n",
              "      }\n",
              "    </style>\n",
              "    <button class=\"colab-df-generate\" onclick=\"generateWithVariable('df_features')\"\n",
              "            title=\"Generate code using this dataframe.\"\n",
              "            style=\"display:none;\">\n",
              "\n",
              "  <svg xmlns=\"http://www.w3.org/2000/svg\" height=\"24px\"viewBox=\"0 0 24 24\"\n",
              "       width=\"24px\">\n",
              "    <path d=\"M7,19H8.4L18.45,9,17,7.55,7,17.6ZM5,21V16.75L18.45,3.32a2,2,0,0,1,2.83,0l1.4,1.43a1.91,1.91,0,0,1,.58,1.4,1.91,1.91,0,0,1-.58,1.4L9.25,21ZM18.45,9,17,7.55Zm-12,3A5.31,5.31,0,0,0,4.9,8.1,5.31,5.31,0,0,0,1,6.5,5.31,5.31,0,0,0,4.9,4.9,5.31,5.31,0,0,0,6.5,1,5.31,5.31,0,0,0,8.1,4.9,5.31,5.31,0,0,0,12,6.5,5.46,5.46,0,0,0,6.5,12Z\"/>\n",
              "  </svg>\n",
              "    </button>\n",
              "    <script>\n",
              "      (() => {\n",
              "      const buttonEl =\n",
              "        document.querySelector('#id_c8933184-3ebf-4472-9f79-8575a65f0a31 button.colab-df-generate');\n",
              "      buttonEl.style.display =\n",
              "        google.colab.kernel.accessAllowed ? 'block' : 'none';\n",
              "\n",
              "      buttonEl.onclick = () => {\n",
              "        google.colab.notebook.generateWithVariable('df_features');\n",
              "      }\n",
              "      })();\n",
              "    </script>\n",
              "  </div>\n",
              "\n",
              "    </div>\n",
              "  </div>\n"
            ],
            "application/vnd.google.colaboratory.intrinsic+json": {
              "type": "dataframe",
              "variable_name": "df_features",
              "summary": "{\n  \"name\": \"df_features\",\n  \"rows\": 4760,\n  \"fields\": [\n    {\n      \"column\": \"Movie_Genre\",\n      \"properties\": {\n        \"dtype\": \"category\",\n        \"num_unique_values\": 1164,\n        \"samples\": [\n          \"Family Animation Adventure\",\n          \"Adventure Science Fiction Action\",\n          \"Action Crime Drama Romance Thriller\"\n        ],\n        \"semantic_type\": \"\",\n        \"description\": \"\"\n      }\n    },\n    {\n      \"column\": \"Movie_Keywords\",\n      \"properties\": {\n        \"dtype\": \"string\",\n        \"num_unique_values\": 4203,\n        \"samples\": [\n          \"canada nazis sequel spin off ancient evil\",\n          \"sex professor wedding woman director columbia university\",\n          \"prophecy sea beach gold small town\"\n        ],\n        \"semantic_type\": \"\",\n        \"description\": \"\"\n      }\n    },\n    {\n      \"column\": \"Movie_Tagline\",\n      \"properties\": {\n        \"dtype\": \"string\",\n        \"num_unique_values\": 3928,\n        \"samples\": [\n          \"The messenger must be silenced.\",\n          \"It's not the house that's haunted.\",\n          \"The final hunt begins.\"\n        ],\n        \"semantic_type\": \"\",\n        \"description\": \"\"\n      }\n    },\n    {\n      \"column\": \"Movie_Cast\",\n      \"properties\": {\n        \"dtype\": \"string\",\n        \"num_unique_values\": 4715,\n        \"samples\": [\n          \"Robin Tunney Fairuza Balk Neve Campbell Rachel True Skeet Ulrich\",\n          \"Peter Sellers Christopher Plummer Herbert Lom Catherine Schell Peter Arne\",\n          \"John Wayne Laraine Day Cedric Hardwicke Judith Anderson Anthony Quinn\"\n        ],\n        \"semantic_type\": \"\",\n        \"description\": \"\"\n      }\n    },\n    {\n      \"column\": \"Movie_Director\",\n      \"properties\": {\n        \"dtype\": \"category\",\n        \"num_unique_values\": 2332,\n        \"samples\": [\n          \"Rob McKittrick\",\n          \"Terron R. Parsons\",\n          \"Cyrus Nowrasteh\"\n        ],\n        \"semantic_type\": \"\",\n        \"description\": \"\"\n      }\n    }\n  ]\n}"
            }
          },
          "metadata": {},
          "execution_count": 37
        }
      ]
    },
    {
      "cell_type": "code",
      "source": [
        "x=df_features['Movie_Genre']+ ' '+df_features['Movie_Keywords']+ ' '+df_features['Movie_Tagline']+ ' '+df_features['Movie_Cast']+''+df_features['Movie_Director']"
      ],
      "metadata": {
        "id": "8qL9kouGwHvy"
      },
      "execution_count": 38,
      "outputs": []
    },
    {
      "cell_type": "code",
      "source": [
        "x"
      ],
      "metadata": {
        "colab": {
          "base_uri": "https://localhost:8080/"
        },
        "id": "jFMq7O7hxJ_U",
        "outputId": "b74d77f5-1e56-46db-ebf0-2ee99012e74b"
      },
      "execution_count": 47,
      "outputs": [
        {
          "output_type": "execute_result",
          "data": {
            "text/plain": [
              "<4760x20663 sparse matrix of type '<class 'numpy.float64'>'\n",
              "\twith 119473 stored elements in Compressed Sparse Row format>"
            ]
          },
          "metadata": {},
          "execution_count": 47
        }
      ]
    },
    {
      "cell_type": "code",
      "source": [
        "x.shape"
      ],
      "metadata": {
        "colab": {
          "base_uri": "https://localhost:8080/"
        },
        "id": "fUDQ7xmGxOt1",
        "outputId": "dcaa192b-c1e9-4abc-a12d-6584f9b5b248"
      },
      "execution_count": 39,
      "outputs": [
        {
          "output_type": "execute_result",
          "data": {
            "text/plain": [
              "(4760,)"
            ]
          },
          "metadata": {},
          "execution_count": 39
        }
      ]
    },
    {
      "cell_type": "markdown",
      "source": [
        "# **Get Feature Text Conversion to Tokens**"
      ],
      "metadata": {
        "id": "WVAtpIdzxRE8"
      }
    },
    {
      "cell_type": "code",
      "source": [
        "from sklearn.feature_extraction.text import TfidfVectorizer"
      ],
      "metadata": {
        "id": "4uovBuY4xZVI"
      },
      "execution_count": 30,
      "outputs": []
    },
    {
      "cell_type": "code",
      "source": [
        "tfidf=TfidfVectorizer()"
      ],
      "metadata": {
        "id": "zeMk94mqxpI3"
      },
      "execution_count": 31,
      "outputs": []
    },
    {
      "cell_type": "code",
      "source": [
        "x=tfidf.fit_transform(x)"
      ],
      "metadata": {
        "id": "SjY6KXbDx0Kj"
      },
      "execution_count": 40,
      "outputs": []
    },
    {
      "cell_type": "code",
      "source": [
        "x.shape"
      ],
      "metadata": {
        "colab": {
          "base_uri": "https://localhost:8080/"
        },
        "id": "DcuUOM0ex7A5",
        "outputId": "9e5d15e2-e810-47f6-dc32-139b08b9400e"
      },
      "execution_count": 46,
      "outputs": [
        {
          "output_type": "execute_result",
          "data": {
            "text/plain": [
              "(4760, 20663)"
            ]
          },
          "metadata": {},
          "execution_count": 46
        }
      ]
    },
    {
      "cell_type": "code",
      "source": [
        "print(x)"
      ],
      "metadata": {
        "colab": {
          "base_uri": "https://localhost:8080/"
        },
        "id": "DTQ_i4yax-Cu",
        "outputId": "e2391604-458a-4bf5-9062-50cbcf83f3fd"
      },
      "execution_count": 50,
      "outputs": [
        {
          "output_type": "stream",
          "name": "stdout",
          "text": [
            "  (0, 4230)\t0.06458611586887168\n",
            "  (0, 3817)\t0.045074490889964014\n",
            "  (0, 8694)\t0.2503757697473209\n",
            "  (0, 13172)\t0.17549239657915808\n",
            "  (0, 20429)\t0.25966427329208946\n",
            "  (0, 5997)\t0.2995209024562284\n",
            "  (0, 20195)\t0.12713406084194692\n",
            "  (0, 1827)\t0.15619501134292804\n",
            "  (0, 15696)\t0.14591669134583604\n",
            "  (0, 18766)\t0.17577654512129037\n",
            "  (0, 13688)\t0.18720213781219563\n",
            "  (0, 7711)\t0.18720213781219563\n",
            "  (0, 6703)\t0.14591669134583604\n",
            "  (0, 16170)\t0.1962711409320156\n",
            "  (0, 15294)\t0.1962711409320156\n",
            "  (0, 652)\t0.07609458744587785\n",
            "  (0, 13561)\t0.08227116414935932\n",
            "  (0, 11113)\t0.1544047030004985\n",
            "  (0, 1700)\t0.1962711409320156\n",
            "  (0, 8998)\t0.14681661831949364\n",
            "  (0, 8506)\t0.19736418022707264\n",
            "  (0, 6499)\t0.11404364072001853\n",
            "  (0, 4620)\t0.11982714282573949\n",
            "  (0, 13559)\t0.07246213547989389\n",
            "  (0, 18206)\t0.09757953526456405\n",
            "  :\t:\n",
            "  (4757, 16626)\t0.16842221780214908\n",
            "  (4757, 7963)\t0.2228781987189725\n",
            "  (4757, 4111)\t0.20379888212640682\n",
            "  (4757, 1321)\t0.1995944906787077\n",
            "  (4757, 18545)\t0.24819836601928225\n",
            "  (4757, 17466)\t0.26398639428823106\n",
            "  (4757, 886)\t0.2811456860185173\n",
            "  (4757, 17041)\t0.29476578209981186\n",
            "  (4757, 2597)\t0.29476578209981186\n",
            "  (4757, 6876)\t0.29476578209981186\n",
            "  (4757, 2218)\t0.29476578209981186\n",
            "  (4758, 6194)\t1.0\n",
            "  (4759, 12912)\t0.15991356654874977\n",
            "  (4759, 1693)\t0.2179341128724163\n",
            "  (4759, 18451)\t0.2133479262794535\n",
            "  (4759, 5146)\t0.1842532043388515\n",
            "  (4759, 6746)\t0.2179341128724163\n",
            "  (4759, 13011)\t0.3146903689708659\n",
            "  (4759, 8590)\t0.26591080832993275\n",
            "  (4759, 3603)\t0.2831147072916264\n",
            "  (4759, 10738)\t0.3060016986743309\n",
            "  (4759, 212)\t0.3258920132175228\n",
            "  (4759, 14123)\t0.34167984405714247\n",
            "  (4759, 16871)\t0.34167984405714247\n",
            "  (4759, 13584)\t0.34167984405714247\n"
          ]
        }
      ]
    },
    {
      "cell_type": "markdown",
      "source": [
        "# **Get Similarity Score using Cosine Similarity**"
      ],
      "metadata": {
        "id": "GmXJEYVwyT7i"
      }
    },
    {
      "cell_type": "markdown",
      "source": [
        "cosine_similarity computers the L2-normalized dot product of vector.Euclidean(L2)normalization projects the vector onto the unit sphere and their dot product is then the cosine of the angle between the points denoted by the vectors."
      ],
      "metadata": {
        "id": "cBr1J8rO06Rj"
      }
    },
    {
      "cell_type": "code",
      "source": [
        "from sklearn.metrics.pairwise import cosine_similarity"
      ],
      "metadata": {
        "id": "tGry5Ezv1ex8"
      },
      "execution_count": 27,
      "outputs": []
    },
    {
      "cell_type": "code",
      "source": [
        "Similarity_Score = cosine_similarity(x)"
      ],
      "metadata": {
        "id": "Kikfnwxd2TaC"
      },
      "execution_count": 41,
      "outputs": []
    },
    {
      "cell_type": "code",
      "source": [
        "Similarity_Score"
      ],
      "metadata": {
        "colab": {
          "base_uri": "https://localhost:8080/"
        },
        "id": "pEC2ivEK2arU",
        "outputId": "e3467b3e-e54a-4b9c-f085-163e165740d2"
      },
      "execution_count": 42,
      "outputs": [
        {
          "output_type": "execute_result",
          "data": {
            "text/plain": [
              "array([[1.        , 0.01337921, 0.03525659, ..., 0.        , 0.        ,\n",
              "        0.        ],\n",
              "       [0.01337921, 1.        , 0.0079559 , ..., 0.        , 0.        ,\n",
              "        0.        ],\n",
              "       [0.03525659, 0.0079559 , 1.        , ..., 0.        , 0.07948776,\n",
              "        0.        ],\n",
              "       ...,\n",
              "       [0.        , 0.        , 0.        , ..., 1.        , 0.        ,\n",
              "        0.        ],\n",
              "       [0.        , 0.        , 0.07948776, ..., 0.        , 1.        ,\n",
              "        0.        ],\n",
              "       [0.        , 0.        , 0.        , ..., 0.        , 0.        ,\n",
              "        1.        ]])"
            ]
          },
          "metadata": {},
          "execution_count": 42
        }
      ]
    },
    {
      "cell_type": "code",
      "source": [
        "Similarity_Score.shape"
      ],
      "metadata": {
        "colab": {
          "base_uri": "https://localhost:8080/"
        },
        "id": "aFqOsKVH2fWX",
        "outputId": "8dbe8e9c-3a03-48bb-836f-c1dacf15ab55"
      },
      "execution_count": 51,
      "outputs": [
        {
          "output_type": "execute_result",
          "data": {
            "text/plain": [
              "(4760, 4760)"
            ]
          },
          "metadata": {},
          "execution_count": 51
        }
      ]
    },
    {
      "cell_type": "markdown",
      "source": [
        "# **Get Movie Naame as input from user and Validate for Closest Spelling**"
      ],
      "metadata": {
        "id": "DqUfWISp2se2"
      }
    },
    {
      "cell_type": "code",
      "source": [
        "Favourite_Movie_Name = input('Enter your favourite movie name:')"
      ],
      "metadata": {
        "id": "lH51SyPB20bz",
        "colab": {
          "base_uri": "https://localhost:8080/"
        },
        "outputId": "9ac67993-bde4-4cb6-f5f9-d38c43d33974"
      },
      "execution_count": 10,
      "outputs": [
        {
          "name": "stdout",
          "output_type": "stream",
          "text": [
            "Enter your favourite movie name:avtaar\n"
          ]
        }
      ]
    },
    {
      "cell_type": "code",
      "source": [
        "All_Movies_Title_List = df['Movie_Title'].tolist()"
      ],
      "metadata": {
        "id": "l5_eKw8G4NC9"
      },
      "execution_count": 19,
      "outputs": []
    },
    {
      "cell_type": "code",
      "source": [
        "import difflib"
      ],
      "metadata": {
        "id": "ovhLA90v4a5T"
      },
      "execution_count": 6,
      "outputs": []
    },
    {
      "cell_type": "code",
      "source": [
        "Movie_Recommendation = difflib.get_close_matches(Favourite_Movie_Name,All_Movies_Title_List)"
      ],
      "metadata": {
        "id": "4ON3X3ok5I-T"
      },
      "execution_count": 20,
      "outputs": []
    },
    {
      "cell_type": "code",
      "source": [
        "Close_Match = Movie_Recommendation[0]\n",
        "print(Close_Match)"
      ],
      "metadata": {
        "id": "oeh1KRPg5_4w",
        "colab": {
          "base_uri": "https://localhost:8080/"
        },
        "outputId": "f6d6604a-f6cc-4d47-ec3d-2c1e08694524"
      },
      "execution_count": 21,
      "outputs": [
        {
          "output_type": "stream",
          "name": "stdout",
          "text": [
            "Avatar\n"
          ]
        }
      ]
    },
    {
      "cell_type": "code",
      "source": [
        "Index_of_Close_Match_Movie = df[df.Movie_Title  == Close_Match] ['Movie_ID'].values[0]"
      ],
      "metadata": {
        "id": "eVs8_1dkI3xZ"
      },
      "execution_count": 58,
      "outputs": []
    },
    {
      "cell_type": "code",
      "source": [
        "Recommendation_Score = list(enumerate(Similarity_Score[Index_of_Close_Match_Movie]))"
      ],
      "metadata": {
        "id": "7UFRMl-OJuuL"
      },
      "execution_count": 60,
      "outputs": []
    },
    {
      "cell_type": "code",
      "source": [
        "len(Recommendation_Score)"
      ],
      "metadata": {
        "id": "Io-vB9s-8Esg",
        "colab": {
          "base_uri": "https://localhost:8080/"
        },
        "outputId": "a29d1333-b11a-45d1-f648-8d527bbc3c74"
      },
      "execution_count": 61,
      "outputs": [
        {
          "output_type": "execute_result",
          "data": {
            "text/plain": [
              "4760"
            ]
          },
          "metadata": {},
          "execution_count": 61
        }
      ]
    },
    {
      "cell_type": "markdown",
      "source": [
        "# **Get All Movies Sort Based on Recommendation Score wrt Favourite Movie**"
      ],
      "metadata": {
        "id": "OcsMrs3_8MIr"
      }
    },
    {
      "cell_type": "code",
      "source": [
        "#sorting the movies based on their similarity score\n",
        "Sorted_Similar_Movies = sorted(Recommendation_Score, key = lambda x:x[1],reverse =True)\n",
        "print(Sorted_Similar_Movies)"
      ],
      "metadata": {
        "id": "XuM7IEFU8TMk",
        "colab": {
          "base_uri": "https://localhost:8080/"
        },
        "outputId": "f5423bc0-6670-42b6-c773-4bc2e1775251"
      },
      "execution_count": 62,
      "outputs": [
        {
          "output_type": "stream",
          "name": "stdout",
          "text": [
            "[(2692, 1.0), (3779, 0.10186325605202703), (2903, 0.09989313625883266), (4614, 0.09409481726330086), (4375, 0.090910898461856), (45, 0.08782285821831265), (1070, 0.08660981773608295), (1383, 0.08554061722534644), (110, 0.08495419169129931), (1994, 0.08196067514619287), (628, 0.08167981649537649), (2558, 0.08148150683006426), (4378, 0.07848904883764266), (1341, 0.07732355675692668), (3053, 0.07690680337650461), (3465, 0.07537925229598676), (1977, 0.07532026375225234), (1982, 0.07325932482302391), (3248, 0.07232699437248638), (2538, 0.06818383578421021), (3480, 0.06707607445170277), (3946, 0.06693398962973597), (1886, 0.0657745423322476), (62, 0.065446117365631), (254, 0.06503547836471145), (2112, 0.06363460487718323), (590, 0.06267024750327602), (3450, 0.06231714276943703), (675, 0.061903525916580646), (3385, 0.06189102687241022), (1134, 0.061614079917650444), (84, 0.06141445830957963), (4389, 0.061165061320307766), (1118, 0.060750999007247), (4252, 0.060523171610650434), (2318, 0.05966939011000494), (1021, 0.0595904600277476), (4398, 0.059332875244993054), (2358, 0.05820450509052854), (4062, 0.057476931738808884), (3334, 0.05705152905918198), (2985, 0.05698010016549373), (1243, 0.05483395937067453), (3728, 0.054820309337368804), (1809, 0.05333335385632386), (2944, 0.052501881361752684), (137, 0.05215699763927349), (2026, 0.051839724103737266), (873, 0.0513840297676441), (479, 0.051283000966650644), (3360, 0.05121071140956011), (3655, 0.05115503324357751), (2191, 0.05109402848389118), (877, 0.050976533505071024), (292, 0.0509226792163707), (1148, 0.05083662083671053), (1030, 0.05040403154416305), (519, 0.050262126923677014), (213, 0.04994120387224259), (2133, 0.04980509177129305), (2630, 0.04956937912568639), (4682, 0.049460236735972524), (3203, 0.049327180687439284), (227, 0.049200086585115176), (2417, 0.04915660702821214), (4268, 0.04908826398834437), (2294, 0.04905217043343887), (3395, 0.04871155651429532), (2214, 0.048696374494422254), (2579, 0.04847851059232101), (1878, 0.04840253357326083), (2550, 0.048113706977098686), (3374, 0.04760499844633449), (3753, 0.04693769200430518), (2374, 0.04686629733168744), (3974, 0.046749037764748945), (904, 0.04645415083395611), (3294, 0.04632244971632571), (3552, 0.045922793842111766), (2653, 0.045761530601095494), (3091, 0.04575906265168581), (1023, 0.04555829253115303), (637, 0.045483766133589995), (3023, 0.04539304914359439), (3408, 0.04524733663421887), (2151, 0.04519145567789664), (2530, 0.045136281268923356), (67, 0.045054311263593036), (412, 0.04499777605203795), (2893, 0.04478299969820256), (615, 0.04451097598967311), (4456, 0.044290650291787886), (3793, 0.04412647311575746), (1302, 0.043871738011140166), (408, 0.043853757442649355), (1647, 0.043697447065568946), (328, 0.04365866341757778), (438, 0.043485537247400584), (1248, 0.043448129236177385), (1821, 0.04344559003288089), (1358, 0.043443428776297525), (3518, 0.04319480165959024), (2248, 0.043158625259725775), (2694, 0.04310665118240643), (161, 0.0430331252998316), (277, 0.04275917421041776), (1203, 0.04272929050508753), (2012, 0.04262792165388205), (3427, 0.042548403134506634), (682, 0.04249269846564302), (4689, 0.04244946493780719), (1292, 0.04244513839366249), (1369, 0.04243059385278873), (3276, 0.04237801287376474), (172, 0.04220668584225072), (1506, 0.04220082860479026), (1675, 0.042146850084676196), (455, 0.042085554729650726), (3973, 0.04205102354241294), (1850, 0.041688978166253575), (89, 0.041628418231492825), (1871, 0.0413983168786265), (4023, 0.041322369258959615), (2846, 0.041079251443387615), (632, 0.041003838915262346), (3249, 0.040986660788284696), (2321, 0.040928429414776334), (210, 0.040882471454912486), (4488, 0.04078309888330138), (185, 0.0407441745098205), (360, 0.0406981965234117), (1393, 0.040626216795901865), (3209, 0.040338067723669484), (2155, 0.040334832180224184), (1320, 0.040258553254555456), (4588, 0.04021355664322326), (3947, 0.039967948898236655), (3867, 0.039729594642522), (3652, 0.039648883799251446), (44, 0.039643574118006925), (4137, 0.03947511346209144), (4064, 0.03941324858760797), (1527, 0.03928778188294796), (2869, 0.03927717945994372), (3955, 0.03927200743653631), (1024, 0.0386864207358975), (2859, 0.03868397887963333), (788, 0.03858976596848748), (4721, 0.03846395574981179), (108, 0.03836793089547319), (3362, 0.03832487080120547), (109, 0.03828538661766737), (4452, 0.038234129666953144), (1085, 0.038004714233249214), (126, 0.03792262686424859), (3511, 0.0378236284948259), (2187, 0.037782592052199665), (1241, 0.03755636238584566), (2622, 0.03730821873191955), (3486, 0.037248908340810585), (2540, 0.03724731843680103), (4362, 0.03690546937822182), (4443, 0.036695135658155256), (4403, 0.036669238523776695), (2212, 0.03659302829318431), (1676, 0.03653817386160595), (4005, 0.03646792430405763), (2316, 0.03641227516038544), (4396, 0.03639917774222913), (2371, 0.0363991265981934), (774, 0.036346259000791845), (2868, 0.03634466043923758), (2308, 0.036252175891357256), (3280, 0.03617814318761917), (3498, 0.035994728186708645), (4165, 0.03587078718793553), (911, 0.035863161143941974), (710, 0.035840557055086014), (3127, 0.035823776617879347), (2981, 0.03563020298576271), (2716, 0.03560664443073605), (694, 0.03547857158203298), (2375, 0.03541068077817682), (1991, 0.035327458603112184), (3045, 0.03529927314208744), (3983, 0.03526713102814066), (3470, 0.035164083329324046), (3430, 0.03503190671675913), (2365, 0.03500150947569707), (3463, 0.03498162820971882), (540, 0.0348177385786752), (3330, 0.03467958569484246), (2908, 0.034584226718960207), (3102, 0.03450796728415695), (818, 0.03449490104076771), (3004, 0.034402650735169925), (830, 0.03432967304641667), (1702, 0.034316232452105674), (1311, 0.03429835947989962), (1272, 0.03429744625929201), (3731, 0.034272522634049805), (138, 0.03424194189504357), (721, 0.034068931257807605), (4641, 0.03404188789579571), (1146, 0.03397483506413254), (1379, 0.03394644597017259), (1568, 0.03392746338831514), (4594, 0.03392508860200053), (3351, 0.033923628630666836), (1389, 0.03389066980227771), (4703, 0.03387273344370156), (547, 0.03387182716759193), (3255, 0.03381164231057013), (3315, 0.03380313700562275), (1063, 0.033690672732007904), (2123, 0.033646212339967015), (1195, 0.03361174952408223), (1367, 0.033563084933715244), (4152, 0.03355622659595972), (4533, 0.03345609511378314), (174, 0.03342102699019043), (282, 0.03335101335536084), (2082, 0.03327466343931509), (578, 0.03308590480674662), (3656, 0.03307782851683684), (3556, 0.033041772563535715), (4739, 0.03298213256960123), (4727, 0.03295621958838248), (4195, 0.03286161220602958), (1464, 0.032785385162337526), (2122, 0.03264835504354677), (1837, 0.03259566698946049), (1885, 0.03249340367313684), (3466, 0.03244457529400077), (3850, 0.032376598710843835), (334, 0.032314457327260106), (3961, 0.03229837179574416), (3137, 0.03227592098903785), (166, 0.03225708645274066), (4602, 0.0322153104087735), (387, 0.03218333693022816), (935, 0.03211495738826277), (812, 0.032089999662379826), (2517, 0.03197498180378431), (2751, 0.031970947326268345), (3377, 0.031785730726659585), (2147, 0.031770145375205734), (2807, 0.03176279304721946), (2413, 0.03173466215887496), (761, 0.03170541968251367), (424, 0.03159810876766351), (2706, 0.03150661381304651), (2100, 0.031484360645647955), (864, 0.03142537682064096), (250, 0.03139570838475397), (3146, 0.03135180729525014), (65, 0.03130751697713389), (618, 0.03128103093998746), (3376, 0.031192900553483022), (1068, 0.031152672585556408), (2621, 0.031072687464983102), (1976, 0.031033056156957815), (3157, 0.030991831088356583), (903, 0.030961243228651368), (4402, 0.030887023536141686), (1750, 0.030817606245591732), (2782, 0.030796820302711355), (1868, 0.030743075949725616), (2710, 0.03065906847368344), (1398, 0.030605398821314012), (2023, 0.030562204414588644), (2723, 0.03054178530770646), (4590, 0.03043720537456709), (3720, 0.030423082362487974), (179, 0.030390863557088282), (1648, 0.030249151002500564), (4668, 0.030240882751834702), (2198, 0.03014949054409049), (430, 0.02991537173316322), (1173, 0.02990315488630453), (3605, 0.02989381239339195), (3767, 0.029810663628298595), (3597, 0.02979773050468957), (1043, 0.029796886233092037), (3572, 0.02970507883070433), (2114, 0.029689679159041346), (4004, 0.029653313453591), (2443, 0.029583258960623905), (112, 0.02955212572920749), (593, 0.029512661705924655), (4035, 0.029484335293495357), (1795, 0.029482084470687255), (2014, 0.029475107172548323), (176, 0.02931977480949116), (3488, 0.029306289179152126), (530, 0.029273977315172804), (629, 0.02927237790776218), (2887, 0.029242171367885858), (3420, 0.02922760908271538), (2037, 0.029173560741939993), (1482, 0.029162971951102224), (1137, 0.02906118071877346), (1788, 0.029037718986073952), (1990, 0.02896910128716686), (4177, 0.028940078626467906), (284, 0.028938197410800632), (193, 0.028933786631903345), (952, 0.02888043554297092), (2876, 0.028806004591633145), (1046, 0.028802790211948977), (4548, 0.028800290701323946), (240, 0.028778273981232682), (1095, 0.028774923681555504), (3017, 0.028703436762506106), (2102, 0.028697456203490148), (3751, 0.028694682384320915), (421, 0.028598650883042094), (2481, 0.028532993446814234), (1405, 0.02848193328242132), (1363, 0.02846589038173976), (465, 0.028420712336717262), (976, 0.02840702701732664), (3574, 0.02826710031903068), (2221, 0.028187101532552602), (3313, 0.028175134542224332), (2687, 0.02816277404807107), (3871, 0.028161194110334353), (3156, 0.028061990527696458), (371, 0.027996982113082595), (3904, 0.027995484657460306), (2487, 0.02799168949666839), (1059, 0.02794975975184412), (2013, 0.027922759035429977), (836, 0.02791006781141402), (670, 0.02777308271120907), (3260, 0.027643750601648517), (3852, 0.027501922441240056), (4684, 0.02745497837473508), (2920, 0.027444769424960557), (2791, 0.027435553808670445), (1162, 0.027430178710368996), (1845, 0.02742102838694223), (3344, 0.027336661307092027), (384, 0.027297204651682467), (2971, 0.027167669215317138), (4141, 0.02713083983915484), (1970, 0.027128269792521746), (3959, 0.027112528688914478), (4450, 0.02700821715585701), (1720, 0.026967412605690855), (1749, 0.026963767253759933), (25, 0.026842609291643022), (4242, 0.026753315811222478), (1500, 0.02666497930526576), (4701, 0.026619949178729257), (2467, 0.026600105723732784), (459, 0.026531327060031293), (3428, 0.02651208603596278), (3447, 0.026447924479119228), (2020, 0.02639158064787509), (3167, 0.026339138502344987), (1999, 0.026336835017719776), (1721, 0.026296458017575748), (1847, 0.026248398947853673), (2154, 0.026202941611323218), (4731, 0.02610660969644385), (4283, 0.026081167043468634), (1763, 0.0260381840580866), (3684, 0.02600418248144764), (832, 0.02594870160030308), (381, 0.025908352959345387), (1314, 0.025893231094055988), (885, 0.025839898286347553), (2762, 0.025772567578553666), (3559, 0.025763493311814618), (4104, 0.025750848975803542), (3154, 0.025726378336906764), (2276, 0.025709712529777322), (4659, 0.02553081776073845), (3835, 0.0255004147287526), (3285, 0.025460631372991337), (1351, 0.025322298113385454), (1186, 0.025239929979220532), (3010, 0.02509004487665553), (2094, 0.02507832939969272), (1572, 0.024981572162367453), (124, 0.02493694939284137), (3868, 0.024833680716124865), (2011, 0.024792501874342565), (4053, 0.02476986198533871), (967, 0.024737444893027597), (3711, 0.024659503696330833), (824, 0.024617291622513752), (269, 0.024582854151988527), (3801, 0.02456895006421527), (1544, 0.02447570741701109), (116, 0.024456461658093946), (345, 0.024379659369703675), (4554, 0.02432032800802909), (3692, 0.024276632029807402), (2689, 0.02426457102844405), (3913, 0.02423218379071643), (942, 0.024204936216329107), (657, 0.024183680805973475), (3810, 0.024095993163889096), (2449, 0.024060694692719858), (2157, 0.024054905356084882), (917, 0.023971947088921725), (1283, 0.023873627970046232), (2560, 0.023811180535949137), (2638, 0.02373432731753173), (398, 0.023671826865300227), (2484, 0.02366397060158626), (4128, 0.02365096956317496), (2718, 0.023649302672027885), (3446, 0.023561981949709584), (4281, 0.02346616555603713), (175, 0.023439289553191328), (672, 0.02337383681710886), (29, 0.023371113117583938), (2649, 0.023337601242948328), (1412, 0.02333366177038323), (1865, 0.023289131322763633), (1397, 0.023251509335299757), (1997, 0.0231526654354284), (1935, 0.023152602534014643), (1757, 0.0231521039999317), (4608, 0.023150740148436093), (3153, 0.023005693544920387), (4050, 0.02278667763225954), (3839, 0.022726663178514128), (706, 0.022678865131764068), (1585, 0.022582292542740648), (2096, 0.022562927025388143), (1362, 0.02247600852384592), (2647, 0.02246600916846784), (4395, 0.022449464670711943), (15, 0.02243800688073245), (515, 0.022434655406106986), (4534, 0.02241112246952438), (691, 0.02238747361351695), (2040, 0.022376975387657594), (261, 0.02235902798170719), (1141, 0.022358985621951447), (3095, 0.02234511467247828), (1015, 0.022284848380784556), (68, 0.02223685897042975), (3083, 0.02222225713774342), (88, 0.022127811480121308), (1515, 0.022082935255983205), (1657, 0.0220311750832958), (3319, 0.02200274045228905), (1505, 0.021958155688132183), (4288, 0.021927084588108728), (613, 0.021912569490861435), (1098, 0.021896348148957755), (3778, 0.021829424311660017), (3345, 0.02182067365590949), (2777, 0.021758847515764533), (1492, 0.0217515920372627), (3483, 0.02168013018711759), (1861, 0.02163184025426647), (1996, 0.02161648253055672), (2646, 0.021594388973442912), (1707, 0.021588852255986737), (442, 0.02156866179047924), (3923, 0.02143819550240857), (2668, 0.02141607731645028), (3433, 0.02138530892329416), (1629, 0.02136590085324486), (2210, 0.021269921374779375), (1270, 0.021236778696745423), (1817, 0.02121625384106099), (1942, 0.021198454505425263), (2598, 0.021182379070942475), (3384, 0.021152975394386084), (1652, 0.021148284524838402), (383, 0.021145840872298153), (1033, 0.020979137699520714), (1671, 0.020935292241616443), (3553, 0.020934906625963756), (3222, 0.02089246973708652), (3492, 0.020877522748551543), (4016, 0.020852731546251186), (2440, 0.020820931549126773), (3665, 0.020815430058392637), (1985, 0.020815104331487227), (3927, 0.020790703400268527), (1003, 0.020745408788046427), (2055, 0.02059835979675117), (2767, 0.020595910756815106), (3978, 0.02059269999680832), (4176, 0.020576815962035578), (763, 0.020565915946619516), (4466, 0.020551464464730256), (4189, 0.020522626605299923), (2362, 0.02048046709946304), (1678, 0.02041852058482273), (2174, 0.020393075459456695), (3469, 0.02033839553201871), (1471, 0.02032272597726878), (1261, 0.020310975364599027), (2301, 0.02029992894743635), (1017, 0.020282059832911842), (2808, 0.0202664569311304), (1510, 0.020264044970874535), (779, 0.02022197087156822), (870, 0.02022035072870288), (1257, 0.02019688792542114), (3471, 0.02019649963591231), (3352, 0.020175921774596164), (330, 0.020171356136833282), (1385, 0.020088442041880015), (4382, 0.02007174758754153), (1838, 0.020062494340435357), (2501, 0.02002846214950857), (4436, 0.02002821398593872), (2582, 0.020000620850038422), (947, 0.019978846336546723), (1132, 0.019930187670721015), (3504, 0.019920303438832488), (2524, 0.019862501806843902), (2760, 0.019854129436670736), (4658, 0.019830062567843806), (142, 0.019813435339690832), (1927, 0.019784388996904503), (643, 0.019777974738891563), (3508, 0.019773463917609015), (2018, 0.019772245057680108), (3934, 0.019716208843084827), (2841, 0.019708317189742624), (3857, 0.019699881937959), (2867, 0.019690082790879252), (2995, 0.019667947625722063), (2768, 0.019650518591130654), (4492, 0.01951216348882164), (1052, 0.01950580894062715), (3144, 0.01941357831762505), (4380, 0.019389173713945315), (858, 0.019350633687182185), (4156, 0.01933097604454772), (2932, 0.019297050264658094), (463, 0.01922647656976821), (4679, 0.019197615680286002), (2618, 0.01919184946207443), (329, 0.019178839005770634), (2469, 0.019159632653487038), (199, 0.01909049891195834), (4007, 0.019075711502104787), (669, 0.018995498279956034), (566, 0.018979611869466187), (145, 0.018931946554894434), (2736, 0.018926000969141345), (4149, 0.018909670795848356), (1202, 0.018832533884264945), (3111, 0.018787335033680182), (553, 0.018753774514009273), (83, 0.018736939983929567), (2645, 0.018730458065773607), (4465, 0.018725557140515613), (1386, 0.018723879600787363), (3403, 0.018717665874267864), (2607, 0.01870145534841461), (33, 0.01868235759736323), (4088, 0.01865155788810983), (3284, 0.018643801550421446), (768, 0.01861996802597941), (968, 0.01854813727319467), (3853, 0.01854768790501611), (2650, 0.01854275483974896), (204, 0.018529714997627258), (2368, 0.018525316552161126), (2237, 0.01849990828014998), (46, 0.01847176879208349), (4012, 0.018460291214543127), (1937, 0.01843556122139503), (4203, 0.018398711757092005), (1872, 0.018392076738391144), (1443, 0.018341873241261304), (2513, 0.018297065060187707), (1074, 0.018266406044102557), (3000, 0.0181296913900398), (160, 0.0181262175706087), (4028, 0.018062653470802676), (4722, 0.018052020303557473), (689, 0.017992824794915985), (1384, 0.017984982798542798), (147, 0.017968719270714018), (3875, 0.01796796915772959), (3416, 0.01795409038859648), (757, 0.017950734870160467), (3097, 0.017945589780968652), (1175, 0.01792545772524289), (123, 0.017922714291584582), (364, 0.017892848394355537), (1843, 0.017892434724940724), (1226, 0.017874952990279528), (2167, 0.017871249946301973), (222, 0.017831281253785157), (2035, 0.017787515030481434), (4349, 0.01777642384704283), (1365, 0.017739976531861226), (808, 0.017737191290616527), (4081, 0.01772173032903252), (3828, 0.017676387358057467), (2070, 0.01764582389647711), (2745, 0.017631525354653694), (4640, 0.017630157080967025), (3766, 0.017618210644247952), (1274, 0.017618109039007363), (2823, 0.0176141702598723), (1129, 0.01759356898476576), (796, 0.017590299008451007), (2093, 0.017575316129726952), (2795, 0.01754519582667019), (3279, 0.01750621105900405), (106, 0.01747311582556149), (1112, 0.017460169761992432), (4637, 0.017435004444350574), (1245, 0.017417265797256196), (4504, 0.017411485070279856), (342, 0.01740660609435277), (61, 0.017385970861924446), (2553, 0.017367152775932287), (4724, 0.017354641475562572), (3085, 0.017339398111220972), (2207, 0.017279600484282974), (1579, 0.017252850463749317), (3528, 0.017179580857520353), (144, 0.01709922551085797), (3129, 0.01706584928934432), (1493, 0.01705089454878133), (1064, 0.01703744838531663), (1403, 0.017025606190636984), (3019, 0.01702228554670794), (1759, 0.017013292852992593), (4399, 0.01700920397015526), (776, 0.01698740171626693), (3675, 0.016981547481063133), (4321, 0.01696689996989628), (2742, 0.01695826416088237), (203, 0.01694882467160675), (4440, 0.016937244470166816), (3036, 0.01693366050579872), (2885, 0.016868820766915166), (916, 0.016854766665650313), (4244, 0.016849780821012687), (2119, 0.016838667895242465), (3976, 0.016834982138215705), (2110, 0.01683336690416601), (1377, 0.0168252871843197), (409, 0.01680186436130053), (3226, 0.01679245350454318), (209, 0.016789926708993833), (4735, 0.01674932067520624), (2654, 0.016724155429041532), (2149, 0.016686144614574665), (212, 0.016666650591658533), (677, 0.016661230352838518), (2258, 0.01663189545922546), (3213, 0.016596079211215652), (2712, 0.01655144117792713), (3098, 0.01654100923437442), (173, 0.016517654691832966), (433, 0.01650846540792842), (1609, 0.016491347441271606), (2347, 0.01649083872865928), (638, 0.01648772869433569), (794, 0.016484903710614184), (279, 0.016484311374168264), (3275, 0.01647105112583324), (937, 0.016468108905842816), (2161, 0.016406001068664276), (795, 0.016332282030591498), (3883, 0.016290082305214462), (1417, 0.01627625476142988), (3228, 0.01624569876800652), (551, 0.01624088476771657), (860, 0.016231731930128994), (511, 0.016213633117922125), (2406, 0.016196683204061244), (280, 0.016188787172011342), (1275, 0.016184461866560456), (3640, 0.01612384536890723), (218, 0.016068009208688998), (3012, 0.016057054843936557), (1254, 0.016027487066075864), (701, 0.015939552300220358), (876, 0.0159234165872376), (2917, 0.01592060611795413), (929, 0.01591706649981293), (1216, 0.01591515204686995), (3043, 0.015902257902686495), (1716, 0.01588562472802246), (1774, 0.015882000993499488), (1184, 0.015873572749295746), (2229, 0.015866492117778637), (3694, 0.015864468390829767), (853, 0.01586074190872619), (2275, 0.01585994898259601), (3541, 0.01584756676091638), (533, 0.015840831272426144), (1045, 0.015831053142528757), (21, 0.015793755266110425), (2353, 0.015790228882021567), (458, 0.015772503338473975), (1523, 0.015769996222310973), (4246, 0.015762294902598277), (1445, 0.015753084830251254), (1018, 0.015717411065743158), (4583, 0.015682203822968), (3661, 0.01566919687180386), (3895, 0.01566187982454536), (1325, 0.015660591589603375), (692, 0.015656438848735528), (4531, 0.015651266522432514), (343, 0.015632476759549707), (48, 0.015601274971403933), (85, 0.015586014731701816), (4134, 0.015578990653738366), (586, 0.015577110613759977), (3407, 0.015575724012023562), (481, 0.01553562301862452), (3299, 0.015510215293546873), (1115, 0.01549461684823434), (4669, 0.015480941874531435), (4709, 0.015477053230169326), (1361, 0.015474561866660526), (450, 0.015471708431341356), (3713, 0.015468973191662908), (2290, 0.015453159984540396), (867, 0.015437154818903192), (888, 0.015418728712292504), (287, 0.015400871168044235), (1119, 0.015397935452319565), (1512, 0.015378654569763709), (4627, 0.015377397225922965), (673, 0.015358169976249227), (3306, 0.015352894089074729), (896, 0.015352196471501704), (3462, 0.015345384767520003), (1224, 0.015293827546936593), (40, 0.015283524470743718), (358, 0.015283445370627044), (296, 0.015264644821929272), (429, 0.015245839927307811), (3086, 0.015241907476615617), (2996, 0.01524112321223067), (2376, 0.015240343841777861), (4116, 0.015226479625205052), (437, 0.015217259797671204), (2254, 0.015211603334294683), (3642, 0.015173495745807382), (787, 0.015165925479626141), (2196, 0.015164579833759182), (2053, 0.015101796166465342), (374, 0.015097301588967129), (1741, 0.015084969917501863), (4482, 0.015084910224322356), (762, 0.015082770195274159), (3958, 0.01507542718260692), (1906, 0.015045756984310751), (620, 0.015045695784899726), (4314, 0.01504108881646981), (3580, 0.015000900241200845), (4231, 0.014997193519379993), (2522, 0.014961422811072664), (4123, 0.014960817971628494), (1880, 0.014960489214803164), (3862, 0.014953437529103969), (51, 0.014946633679296596), (3375, 0.014923864020332495), (3437, 0.014904150003369709), (2639, 0.014888250908386759), (3797, 0.014884790379191685), (2298, 0.014883190282394342), (3777, 0.014873370332342921), (1897, 0.014866148107479969), (1687, 0.014855282005472037), (3558, 0.014853512948576987), (3253, 0.014848291701935358), (4474, 0.014830732124772004), (2027, 0.0148048501982605), (3421, 0.014783942144138498), (2919, 0.01478124704018401), (1853, 0.014761587238959758), (543, 0.014738487542971936), (622, 0.01472801976313497), (1278, 0.014716076665718765), (3210, 0.014699128226967822), (208, 0.014693944408735874), (986, 0.014693018194759183), (2334, 0.014692069113671113), (4379, 0.014690921813047174), (4178, 0.014665494263007783), (43, 0.014662271352094063), (3699, 0.014658680920220067), (2644, 0.014641158867547932), (502, 0.014631620334757163), (652, 0.014619268891597523), (1682, 0.014619054026718068), (879, 0.014573730342702767), (584, 0.014565626151830005), (1919, 0.014557782246489912), (1290, 0.014551799658240955), (470, 0.014551431859163733), (1983, 0.01454179451504569), (842, 0.014504393289436814), (1895, 0.01450052513812993), (447, 0.014490178478422298), (2931, 0.014479989787923423), (1116, 0.014465534481534897), (1779, 0.014403260328377633), (2695, 0.014368374732564622), (1740, 0.0143666443624421), (1192, 0.014354434971342263), (1232, 0.014326509746043398), (895, 0.014320879905672278), (4068, 0.014309521743934774), (2988, 0.014307456949527089), (4503, 0.014306396769217994), (482, 0.014296525516191875), (1152, 0.014286739721358799), (957, 0.014279689069911415), (510, 0.01427078492338457), (3807, 0.014264065903568634), (534, 0.014256021371642542), (899, 0.014251254949493758), (1058, 0.014237595252413514), (1483, 0.014229620919276497), (1114, 0.01422047946131193), (252, 0.014219135928308122), (370, 0.014216265152508699), (2939, 0.014213718885937171), (2284, 0.014210863759618155), (2784, 0.014205158555388186), (3295, 0.014195248508962428), (2295, 0.014176243020673975), (2961, 0.01417207109965244), (1335, 0.01416428077649598), (1509, 0.01415777321980299), (1252, 0.014154938569011183), (1413, 0.014126962109217146), (1331, 0.014116681461018356), (1337, 0.014115785424970426), (4000, 0.01409647844425465), (3670, 0.014091636021220568), (934, 0.014061184671486928), (251, 0.014059058692907966), (2815, 0.01403829372871925), (3356, 0.014027459638303454), (181, 0.014023728066034347), (4673, 0.01401848674765781), (3535, 0.014011948197055198), (4387, 0.01400564969430663), (4255, 0.01395307759387299), (874, 0.013953006922030397), (760, 0.013943521122237488), (2216, 0.013920100093459599), (989, 0.013873560159199383), (988, 0.013870757858350534), (1621, 0.013870535408646375), (799, 0.013836720492987484), (2468, 0.013829066209985547), (1035, 0.013824218516271695), (1343, 0.013822893672110974), (406, 0.013819853584159582), (317, 0.013816220181430678), (2727, 0.013795843911773546), (4486, 0.013763206851859546), (775, 0.013759514748172743), (1401, 0.013736104236751506), (2024, 0.013733820198741415), (3708, 0.013723354684731818), (3741, 0.013718830595396803), (3861, 0.01370488016665584), (676, 0.013700823086485167), (2632, 0.013700340473287692), (1945, 0.013684013844901213), (1876, 0.013670539397109417), (3328, 0.013660492192060083), (2366, 0.013658384289909526), (2045, 0.01365285172409918), (4610, 0.01365119693567119), (1967, 0.013626040059783627), (3660, 0.01360796437159813), (1815, 0.01359173632356374), (87, 0.013543862401020755), (1461, 0.013543026744763771), (4124, 0.013536156645222026), (3819, 0.013532024664323851), (1478, 0.013521229658848), (1481, 0.013517676138940022), (3370, 0.013509767527781533), (231, 0.013509144800893215), (4475, 0.013500996402449932), (1360, 0.013486408582743708), (1465, 0.0134755739955716), (7, 0.013464555491972795), (2910, 0.013464326549335603), (814, 0.013433004778041853), (236, 0.013429210335296937), (753, 0.013420577049928849), (4747, 0.013398552267768728), (1128, 0.01339227419400311), (2486, 0.013389266731302266), (276, 0.013376809429551828), (3312, 0.013376529525198848), (545, 0.01337623288626751), (3630, 0.013372259617575462), (13, 0.013358343526164029), (52, 0.013351068858658104), (496, 0.013346087966215114), (866, 0.013338034575137148), (18, 0.013328515958953131), (878, 0.013328205384044327), (1986, 0.013323828620806348), (2008, 0.013313195313509166), (2224, 0.013309844977407573), (75, 0.013303467099977286), (4374, 0.01330283155187111), (3750, 0.013300974811545529), (2460, 0.013299513197860095), (905, 0.013281776780323848), (2805, 0.013267021073088414), (1665, 0.013254515832611622), (4576, 0.013245978104227646), (1183, 0.013239472723822327), (1317, 0.013230241917379374), (4121, 0.013193490920915332), (207, 0.013175488116215016), (1667, 0.013162370463245998), (1680, 0.01313951406480473), (1713, 0.013136237515829267), (1591, 0.013123983377150625), (1802, 0.013113448601323121), (1864, 0.013083617921102799), (1595, 0.013067681763133374), (2969, 0.01306271230817693), (2121, 0.013061887248481563), (356, 0.013060245170366046), (900, 0.013055437769171667), (332, 0.01305011265678338), (3854, 0.013044686466315299), (4617, 0.01302986614177092), (1239, 0.013023720201633946), (2177, 0.01301740392479534), (1796, 0.013012194413335221), (1255, 0.013008822719397302), (1107, 0.013003850506506019), (4524, 0.012991040043389048), (3119, 0.012985953776448714), (1519, 0.012940604929639048), (829, 0.012912869732554878), (125, 0.012889643279782592), (604, 0.012882643159323803), (963, 0.012879860150720093), (906, 0.012863076405768902), (4512, 0.012855691053074523), (1739, 0.01284661747885918), (1000, 0.01283610375161107), (2066, 0.01282595027964287), (1237, 0.012803171937865841), (3318, 0.01278455433291063), (3110, 0.01277320381188315), (3325, 0.012769002478000183), (833, 0.01275990847575675), (2383, 0.012757227429645971), (678, 0.012750020646900052), (1681, 0.012675892780688116), (742, 0.012666727149244095), (2252, 0.012664470437904356), (2000, 0.012645465823925933), (2978, 0.012604596620772802), (527, 0.012562347308941556), (1567, 0.01256224831983644), (1293, 0.012560249375540806), (3659, 0.01255872341152671), (1752, 0.012555988794885455), (609, 0.01252396006783519), (1654, 0.012507203858117683), (70, 0.012499470950586757), (149, 0.012493778536234793), (1342, 0.01249309160881269), (653, 0.012489841085806738), (3637, 0.012479084451598487), (1005, 0.012474413987933565), (3076, 0.012473833237687231), (1988, 0.012468396517045833), (2874, 0.012457459293890883), (875, 0.01244761955126447), (407, 0.012446586122991977), (4227, 0.012443885919840815), (3768, 0.012432620763165026), (667, 0.012431589360811682), (2963, 0.0124250666790735), (2052, 0.012415899312407734), (2235, 0.012413202571730692), (1104, 0.012409204591976822), (537, 0.01238824986635231), (4510, 0.012382477208750676), (1376, 0.012375800286853969), (2568, 0.012369480935325784), (1949, 0.012355858685734161), (2803, 0.012354881618817159), (2617, 0.01232702389915848), (844, 0.01231147254596724), (733, 0.01230240761130305), (1812, 0.012264548725843365), (1799, 0.01226451901101485), (190, 0.012262634727096353), (4265, 0.012254915193976661), (3108, 0.012254016079941647), (3849, 0.012225481780368797), (3387, 0.012217958648982348), (2412, 0.012206785560829348), (936, 0.012204703505470196), (1220, 0.012202933770225941), (1787, 0.012197985506031656), (654, 0.012190655464603756), (1009, 0.012189135693322297), (2780, 0.012178194142958326), (1185, 0.012172152885150916), (1934, 0.012164056506953184), (2913, 0.012163637171225837), (3507, 0.012159322521105834), (1832, 0.012144077982378269), (418, 0.012136006048803808), (635, 0.012135113977632284), (1436, 0.012125348458058564), (1047, 0.012123590684441443), (928, 0.012122764298780033), (648, 0.012122209341498795), (664, 0.012115005063144415), (2447, 0.012114130347986784), (800, 0.012070507572911362), (2474, 0.012065513397042992), (2759, 0.012062435942722934), (2602, 0.012057728576174721), (732, 0.012041443314929146), (1714, 0.0120408941389779), (201, 0.012023055197990315), (1432, 0.012005865407186539), (4337, 0.011995215277082059), (4095, 0.011982284812504245), (4469, 0.011962644387534267), (1157, 0.01195541604769159), (341, 0.011948426736042909), (2771, 0.011948028300446285), (130, 0.011931290573271518), (918, 0.011927271939390924), (82, 0.011919712698243162), (1542, 0.011919493395640392), (3999, 0.011912995997785355), (2788, 0.011911938381321274), (1099, 0.01190138545578851), (2005, 0.011901375289653427), (3065, 0.011898268648106343), (2145, 0.011885568163059126), (452, 0.011877641838412781), (1958, 0.011851965541241346), (684, 0.011831663271137816), (931, 0.011829093318501575), (1194, 0.011825144944855343), (1264, 0.011798757117029362), (1215, 0.011773730799962617), (2697, 0.011720631194042555), (1310, 0.011711654920410878), (1407, 0.011698963812180566), (1870, 0.011697378432374502), (86, 0.011693087337682147), (3317, 0.011673279840343418), (3747, 0.011662982961808385), (1455, 0.011662165767979377), (560, 0.01165927048891129), (1419, 0.011656651131012094), (4148, 0.011612032393771014), (1266, 0.011601354432013248), (4695, 0.011593249937417477), (523, 0.011590438987032001), (1090, 0.011575295195749787), (1053, 0.011556249069910244), (4344, 0.01152940004359859), (4623, 0.01152524472204856), (1396, 0.011511087073058066), (3756, 0.011511054953085964), (4543, 0.011480775948996939), (2336, 0.01146228156410784), (313, 0.01144309857601254), (1249, 0.011425713403238733), (500, 0.011424399495150964), (4596, 0.01141451920478715), (1303, 0.011413719935105891), (1989, 0.011407228369121131), (2306, 0.011399700016467782), (4477, 0.01138845272555445), (2280, 0.011381880119895205), (244, 0.011374544227916263), (1406, 0.011360948014805495), (1019, 0.011350831696021019), (2918, 0.01134585333548499), (2421, 0.011336095779981459), (3957, 0.011335010969359535), (4481, 0.011328115792536984), (2925, 0.011326430434014344), (3582, 0.01131399194123054), (825, 0.01129927923505155), (1230, 0.011291141277001735), (2178, 0.01128030625943574), (1761, 0.011278639618286183), (2206, 0.011273695540555233), (2057, 0.011249646907936934), (809, 0.011247362111930156), (790, 0.011204143905889093), (4216, 0.011190645567039463), (915, 0.011182888812001), (3118, 0.011175626465797745), (72, 0.011151930087673938), (2688, 0.011138505349355112), (1012, 0.011125812276684332), (3240, 0.01112055003930133), (1655, 0.011111463687366551), (1873, 0.011103361902500336), (2464, 0.011102279688025143), (1420, 0.011093570255181763), (719, 0.011068915751906348), (1262, 0.011046802885525862), (1852, 0.011046009704517183), (2625, 0.0110236716039337), (1957, 0.011022484896189436), (1773, 0.011016993471988517), (273, 0.010996741157454713), (57, 0.0109967222666503), (402, 0.01099104663123849), (1630, 0.010959336769888615), (3794, 0.010941326210303373), (538, 0.010936356114781208), (2480, 0.010934903007513699), (4325, 0.010932350790752006), (827, 0.010929639016101295), (532, 0.01092693184856533), (4293, 0.010926804773281909), (949, 0.01092220868925304), (1551, 0.01092142496119352), (274, 0.010898559381274505), (322, 0.010893859383938163), (1054, 0.010860261007548513), (281, 0.010855215243992656), (1992, 0.01085403306355517), (4619, 0.010851482902666928), (1789, 0.010838625687998467), (304, 0.01081900709804209), (1696, 0.010813414330735755), (2555, 0.01081315249583957), (2062, 0.01080932473904336), (2346, 0.010800206754029384), (4235, 0.010799610162839323), (3775, 0.010770640761838497), (1259, 0.01076179773147536), (3992, 0.010761092920202463), (291, 0.010727513353182203), (170, 0.010722072122138238), (555, 0.010720583836352264), (321, 0.01071200403801113), (4048, 0.010707705867524602), (3860, 0.010706960753072974), (2769, 0.010704928460425221), (3993, 0.010686674558770549), (2429, 0.010670100565698566), (683, 0.01065360389831977), (2680, 0.010652950621465852), (3094, 0.010651299721730114), (801, 0.010646941941967499), (3423, 0.010631698683987459), (3951, 0.010623276750868386), (4187, 0.010619128445625427), (1858, 0.010615841197969399), (3524, 0.010614595778466197), (4164, 0.01059621877150154), (271, 0.0105955049250176), (417, 0.010593333523196998), (3984, 0.010576331520677523), (2162, 0.010574146247762565), (4032, 0.01057226043736477), (1923, 0.010567796514687538), (695, 0.010563666670750562), (266, 0.010559373213377571), (2849, 0.01054876898623374), (3924, 0.010547599993568456), (3426, 0.010534739597744808), (3070, 0.010531885840559679), (1754, 0.010530557371314407), (148, 0.010527360565437571), (2097, 0.01051512218805325), (1236, 0.010504276080678665), (3373, 0.01050050494095597), (3099, 0.010464682363825112), (2992, 0.01046418583961685), (501, 0.01045404889529179), (4366, 0.010449654667626512), (468, 0.010432435216153094), (1061, 0.010423860319322763), (2403, 0.010418737919020194), (1723, 0.010415891398557395), (1662, 0.010405985506220643), (1874, 0.01038632431302666), (333, 0.01038111674018604), (2871, 0.010375424400342535), (2739, 0.010372481106212198), (4553, 0.01037098468802996), (2505, 0.010363630308515875), (3903, 0.010348474963123785), (4551, 0.010336533131030867), (1694, 0.010327744267258649), (2051, 0.010295760748877867), (2049, 0.010285549355767438), (737, 0.010275565263225863), (847, 0.010267566305400676), (47, 0.010265974397174731), (485, 0.01026052544586961), (2546, 0.010238857020418128), (2116, 0.010210047884889953), (2936, 0.010207525112866734), (2740, 0.010207439796881884), (1513, 0.01018700884211233), (1658, 0.010171969643633389), (483, 0.010147106986387912), (2436, 0.010140646284485542), (354, 0.010127114974996073), (1348, 0.010125022656736812), (4605, 0.010125009023628966), (1339, 0.010116677395132955), (2209, 0.010113806077092665), (1727, 0.010104117663665549), (3232, 0.010097615703035783), (1234, 0.010097242572565002), (99, 0.010086400745824745), (1418, 0.010078083303699858), (792, 0.010074715494061729), (1736, 0.01007075977190473), (2929, 0.010065811281411326), (1712, 0.010065288544223517), (206, 0.01004068156134102), (4096, 0.010039481625442105), (715, 0.010030124438439529), (3142, 0.01001282605383468), (2016, 0.009980346355885081), (120, 0.00996640855676297), (4106, 0.009960181287101702), (4435, 0.00995942509313382), (3949, 0.009955383124914377), (4033, 0.009949889344623347), (542, 0.009946500097481256), (1798, 0.009943750565013185), (2915, 0.00994234379186097), (327, 0.009932008024578519), (3297, 0.009926612421001525), (3674, 0.009915954083958753), (2126, 0.009915178578059524), (216, 0.009910033400088256), (3822, 0.009893302607637084), (979, 0.009865046568479023), (1300, 0.009861065206170572), (4371, 0.009848148812138469), (3382, 0.00984461519711696), (621, 0.009839582568634188), (1951, 0.009833856370533701), (270, 0.009822561333536935), (2074, 0.009821560032697095), (1708, 0.00980399502725132), (994, 0.009783121289221146), (2820, 0.0097781689898257), (1781, 0.009768847866704724), (243, 0.0097680785996653), (1092, 0.009765806291610002), (806, 0.009759531816628107), (0, 0.009758882373553546), (1440, 0.009755254144625018), (4052, 0.009745478878945838), (2489, 0.009725378433137644), (3264, 0.009723592623622965), (1442, 0.00972264948131017), (2565, 0.009718613786811502), (5, 0.009711760308286195), (3919, 0.009696280790582434), (105, 0.009689215223879718), (3635, 0.009687088210330135), (894, 0.009680467815374296), (1619, 0.009677150462510765), (2633, 0.00966006757642287), (4546, 0.00964797348079401), (3679, 0.009636047139439437), (1359, 0.009633269562715697), (1685, 0.009626187705844764), (544, 0.009614504903307411), (2964, 0.009607345150054666), (2934, 0.009607171647723407), (1922, 0.009599596116420694), (1334, 0.009599538734396836), (2655, 0.009585038444454182), (4158, 0.009568664582851176), (3218, 0.009563779668150604), (3155, 0.009552409016218587), (970, 0.009547258935325641), (1006, 0.009535504970559057), (3612, 0.009526834645791408), (2418, 0.00952226756860999), (2250, 0.009522241217556732), (3599, 0.009513335993262116), (2080, 0.009510891060747614), (288, 0.009490514268868305), (2545, 0.009489630680371366), (2789, 0.00947785267013486), (4025, 0.009477378468608976), (2601, 0.009457066881753644), (1048, 0.009455743499728622), (1494, 0.009455192161064), (2197, 0.009449390301131283), (435, 0.009444263200294914), (78, 0.00944425027924753), (2977, 0.009435122390677925), (1438, 0.009431563094404145), (3888, 0.009428505990005984), (2144, 0.009422292683784672), (472, 0.009417265144961733), (1124, 0.009412452184467283), (2512, 0.009408462192714588), (2494, 0.009401556688980883), (3215, 0.009397984194625997), (1182, 0.00939679849763223), (3386, 0.009394890486595517), (1160, 0.009388644922197948), (4685, 0.009386546950491292), (3689, 0.009376808428066959), (1475, 0.009373099569940892), (2640, 0.009371381251948536), (1688, 0.009370840493853288), (4442, 0.009364931162748037), (668, 0.009363052062020765), (396, 0.009360924198063909), (1382, 0.009357362670641672), (2744, 0.009355633333395152), (1338, 0.009352130816851682), (2798, 0.009338330179330667), (1075, 0.009330964559372693), (2029, 0.009312405947881054), (3536, 0.009297646411867741), (2752, 0.009296499121185423), (2886, 0.009294788914356297), (2255, 0.009289385895440662), (631, 0.009273247206086263), (1279, 0.009271980595376456), (1860, 0.009261057065431233), (4444, 0.009252682443192885), (353, 0.009242941183724773), (2279, 0.009239511893937947), (2303, 0.009236008282129653), (3733, 0.0092144335971197), (2075, 0.009196689508554736), (4612, 0.00918074909083032), (1936, 0.00918047578666913), (897, 0.009169335616866787), (3171, 0.009168362568767173), (3293, 0.009162718936547354), (850, 0.009160921239743065), (4192, 0.009158650875690105), (921, 0.009154163449165512), (1854, 0.009146870943566872), (1582, 0.009140303304293116), (2277, 0.009139663950047141), (4060, 0.009139449636198803), (828, 0.009139192730935528), (3643, 0.009136792012255658), (2831, 0.009115067705754496), (817, 0.009106039576498194), (1077, 0.009091669593774585), (182, 0.009082411843633035), (2600, 0.009081828802125902), (3067, 0.009078330642204105), (2980, 0.009064354711100727), (697, 0.009051300260029222), (2948, 0.009045199889659072), (3596, 0.009044737885519882), (3346, 0.009040257460622713), (434, 0.009037754433637128), (1087, 0.009031959047977519), (1948, 0.009030871314924787), (3237, 0.009028942567497283), (939, 0.00902662407969869), (2879, 0.009016830915183837), (4660, 0.00901474444045141), (2463, 0.009010497806179253), (1020, 0.009009318587204346), (104, 0.00899586224694747), (1612, 0.008992198897583637), (1900, 0.008979053643285714), (2109, 0.008973040544142073), (111, 0.008970146757745046), (2193, 0.00895151713961748), (79, 0.008950457806084009), (4710, 0.00894928203111928), (2228, 0.00894662757888492), (464, 0.008935152722242323), (446, 0.008934868518683725), (3667, 0.00892345535086308), (346, 0.008919703174331963), (96, 0.008915092095146333), (2363, 0.008912816453507444), (1620, 0.008907225029691337), (3941, 0.008906589385611117), (558, 0.008903689505833702), (2698, 0.00888793963490199), (1807, 0.00887214887982294), (4336, 0.008872112270977167), (4502, 0.008866318439777617), (2103, 0.008865699828798652), (4511, 0.008847497391925427), (651, 0.008844842325599843), (19, 0.00883848074694184), (2087, 0.008812206725836037), (3046, 0.008807162796934056), (948, 0.008793203338257486), (1096, 0.008787669743031584), (119, 0.00876716134066934), (3120, 0.008765605174682568), (4122, 0.008752643524887313), (164, 0.008752254136867126), (2778, 0.008748935328676998), (197, 0.008746373197699251), (1429, 0.008740652514333229), (3267, 0.00873576603560554), (3151, 0.008733244049142002), (3826, 0.008724044762357363), (3638, 0.008723710458432342), (4603, 0.008721055027937689), (782, 0.008707397840481794), (838, 0.0087066897462541), (2309, 0.008703838551169489), (3123, 0.00870362031312692), (1446, 0.008701766360846177), (2077, 0.008688838217507166), (3521, 0.008679453594178564), (2572, 0.008662718692399235), (1701, 0.008659853312288301), (3418, 0.008653179805086224), (1276, 0.00865144142885222), (962, 0.00864057585874329), (4664, 0.008634804242332757), (3399, 0.008633525179210275), (966, 0.0086206537640714), (2473, 0.008604821506552833), (2143, 0.008600512805028365), (4163, 0.008594210227588567), (285, 0.008587407681844692), (3784, 0.008587177789081704), (3246, 0.008579230027962952), (1793, 0.008577840640997751), (2812, 0.00857595585297611), (4257, 0.008566473830530219), (2264, 0.008554052334783888), (3901, 0.008547758143947176), (3956, 0.008547283563660581), (1710, 0.008544533719172107), (3954, 0.008544409448365823), (1514, 0.008540463836080817), (2459, 0.008538448851336235), (1206, 0.008535752872225102), (2065, 0.008527492080789892), (851, 0.008511184357202722), (734, 0.0085074657462896), (2581, 0.00848440295336034), (1387, 0.008467092417641604), (307, 0.008462473898255928), (4490, 0.00844156601915344), (4232, 0.008438608564805442), (2188, 0.008426670465418425), (766, 0.008410844884941246), (2265, 0.008407805704731614), (2089, 0.008400778476324148), (449, 0.008397217288350111), (368, 0.008368017395552745), (1776, 0.008367633044248686), (2427, 0.008338700360461962), (3389, 0.00833418013195649), (3829, 0.008328976540652178), (4412, 0.00831932639260857), (4205, 0.008314716791969832), (1477, 0.00830286937032028), (32, 0.008302553423817353), (183, 0.00830049220305441), (461, 0.008300099157123708), (1538, 0.008295086160074518), (3329, 0.00829254764643325), (1308, 0.008289355723706933), (1650, 0.008279727113144468), (1730, 0.00827194035351313), (1920, 0.008269148820880038), (816, 0.008258676893786586), (1050, 0.008254557010002984), (4649, 0.00825153333906596), (1690, 0.008240819493388823), (1875, 0.00823689621211486), (428, 0.008208750598382566), (2236, 0.008190933996662677), (2635, 0.008184000277791537), (443, 0.008182041493720987), (2285, 0.008179897296547514), (4707, 0.008168009276892787), (1968, 0.008163907176147804), (4699, 0.008152903375402344), (1540, 0.00814081580330464), (1539, 0.008138212102366257), (1764, 0.008137784091921653), (4105, 0.00813714493759963), (2881, 0.008131312564537153), (597, 0.008126473062427027), (2076, 0.008122550909478679), (705, 0.008118273455435213), (3880, 0.008111132150096782), (1971, 0.008107096662809487), (4522, 0.008095006673228315), (3579, 0.008083328442070636), (1507, 0.008080495338497877), (3680, 0.008077374603068016), (4494, 0.008064025144214813), (2158, 0.00806189237383563), (4092, 0.008059039297532954), (38, 0.008053106075278463), (3899, 0.008051002081322367), (2587, 0.008050278740626294), (3960, 0.008046763416196869), (3196, 0.008030100032343016), (3032, 0.008029229268901044), (1136, 0.008027167118992188), (1762, 0.008025942366303385), (1078, 0.008013944538877613), (2975, 0.008012023912275658), (4593, 0.008010378631204202), (1498, 0.008004452339698806), (2840, 0.00800321509803811), (107, 0.007999982976525526), (436, 0.007988977959549901), (2854, 0.007966082661880107), (1489, 0.007964120798417544), (1924, 0.007955448691216047), (4335, 0.007951785859735872), (242, 0.007930590467221985), (2428, 0.00792875204111312), (2304, 0.007927329577146253), (688, 0.007923477488996558), (2942, 0.007920424114836745), (139, 0.00791662136554881), (3453, 0.007895492351522202), (4748, 0.007895031729018679), (3, 0.007895011959041548), (1312, 0.007894093077144008), (1553, 0.007889269343222502), (1833, 0.007887518642046985), (445, 0.007881327942309408), (2933, 0.007872499121529597), (60, 0.007870507952844557), (924, 0.007858901349625665), (729, 0.00785611565563284), (3780, 0.007840883103092826), (3409, 0.00782921377175369), (1371, 0.007825426825330292), (3096, 0.007824243635940937), (1960, 0.007775251777904203), (162, 0.007772041794891035), (4046, 0.007770784645303769), (4601, 0.007768626585698653), (3821, 0.0077654829772673736), (1674, 0.007756377893062151), (4098, 0.007750839932795254), (4133, 0.0077493013872790475), (3771, 0.007738043201987354), (403, 0.007734718303573949), (1014, 0.007721846498052803), (1454, 0.007721564318367636), (1743, 0.007711861060976665), (2949, 0.007710585480735225), (63, 0.007709740596143702), (4579, 0.007708676437675579), (1188, 0.007705716382197725), (3704, 0.007705632884085151), (2348, 0.007704872133323638), (385, 0.007700267940648335), (991, 0.0076856712813649485), (4757, 0.007680025310303052), (1790, 0.0076767261843089215), (350, 0.0076767180619649435), (3618, 0.007675197045838196), (1260, 0.007667433332605677), (3634, 0.007662743251828964), (2603, 0.007659843642885567), (2211, 0.0076572208476046455), (4431, 0.007651053746168172), (143, 0.0076353481687847745), (3456, 0.007634373321672603), (3256, 0.00763388495534321), (1866, 0.007624431407090051), (493, 0.007623045761387566), (1140, 0.007619063627058118), (4038, 0.007617650603526463), (4118, 0.007614068790473063), (10, 0.007607893097473655), (582, 0.007603030340980412), (2563, 0.007596063551542687), (616, 0.007594350527459332), (4233, 0.007594090774401852), (930, 0.007593668882928894), (2477, 0.007591430813767135), (4656, 0.00758848788925891), (4094, 0.007580968321966929), (1705, 0.007580878756213567), (1537, 0.0075795298504279796), (1571, 0.007576502870921412), (441, 0.007575249353608725), (1229, 0.007574298886668119), (3501, 0.007569061014144588), (728, 0.007567160213574892), (2714, 0.007566414258222045), (256, 0.007566289525701779), (3516, 0.007557873016956923), (2104, 0.007549481187336593), (1643, 0.007540068402754566), (4013, 0.007526085587014329), (3112, 0.007524301491212101), (2088, 0.007523497691382282), (4517, 0.007519655732321565), (3586, 0.007519618019444309), (1735, 0.007518145622478903), (1225, 0.007509627358092994), (1037, 0.0075017716009091635), (580, 0.007500885456835976), (4629, 0.00749904322982636), (4289, 0.0074988968259836804), (180, 0.007497500715516227), (2510, 0.007494660324538272), (3192, 0.007494408776124088), (3349, 0.007493136975383946), (3259, 0.007491474484938015), (1806, 0.00748901455013755), (1071, 0.00748856088002429), (1918, 0.007477556015490779), (843, 0.007477535124081227), (1484, 0.007475778254603998), (845, 0.007475095352854534), (1282, 0.007474150341464604), (113, 0.007473968307520359), (1950, 0.007469521221716749), (3905, 0.007461654676382055), (4624, 0.0074595944948600565), (606, 0.007449816659575305), (1083, 0.0074366300878698), (4470, 0.007435938742219176), (309, 0.007435410783603112), (4652, 0.007434131610692769), (716, 0.007426843801754452), (3035, 0.007423895065643068), (3039, 0.007423829926493802), (2844, 0.007422890628833831), (156, 0.007419173326036454), (4390, 0.007418250756160611), (4430, 0.007417616910353692), (4715, 0.007416439940374745), (34, 0.007399864999210883), (3666, 0.007384336728943302), (3245, 0.007381397156189854), (2994, 0.007380932405741665), (255, 0.007376167685312759), (1400, 0.007375077014171848), (1069, 0.007372285808345407), (743, 0.007370591217713637), (3623, 0.007369891077972789), (3514, 0.0073651168511021485), (4557, 0.00734663865643558), (3645, 0.007344490494520447), (3233, 0.007340198572106903), (1125, 0.007335103038302109), (3018, 0.007333720763633657), (3303, 0.00733319734303251), (4249, 0.007333068618026832), (3227, 0.007331211240026314), (660, 0.007330145713236717), (1902, 0.007329959970314118), (2873, 0.007328034369782071), (4089, 0.0073254122464778935), (3464, 0.007323765356681645), (2519, 0.007315677987086711), (3410, 0.007314256746998409), (3653, 0.0073117073392733765), (4045, 0.007310110586196112), (1144, 0.00731006089563941), (2344, 0.007306945109380035), (224, 0.0073066328671857325), (908, 0.007306284280090161), (474, 0.007305678816050744), (4093, 0.007300122027865028), (2843, 0.007283518332502754), (2339, 0.007282413378464894), (238, 0.0072788116978439975), (509, 0.007278680209556224), (636, 0.0072726961496948), (3152, 0.0072668005551781425), (159, 0.007252020935011807), (1931, 0.0072504983262738215), (869, 0.007241671808117641), (1536, 0.007232764475846968), (3008, 0.007232678902245886), (3571, 0.007230791031606428), (1388, 0.0072074831497526935), (2606, 0.0072070902212028245), (3570, 0.007203622891648098), (980, 0.00720267004194446), (3125, 0.007197937975549463), (1174, 0.007196301272938662), (3515, 0.007195077426545845), (2091, 0.007189380097651899), (4077, 0.007187156502313293), (1138, 0.007177467997254963), (696, 0.007177104399635392), (3727, 0.007172516188290095), (1583, 0.007161219986076219), (4663, 0.007156125823184987), (1486, 0.007150658192356188), (4184, 0.007149057707442912), (2444, 0.007148762125860114), (769, 0.0071471789312359535), (1223, 0.0071433255680980814), (2101, 0.007142413188954323), (4226, 0.007141989967655633), (4677, 0.007130136488620725), (4351, 0.007126731794144372), (1472, 0.007125260626564541), (4284, 0.0071139376885926), (2061, 0.007107125139012299), (1488, 0.007103914390739518), (1770, 0.007099964844020427), (1191, 0.007092907280298431), (1653, 0.007089097636211779), (1330, 0.007087436326154215), (3436, 0.007087418685834271), (494, 0.007086160400922674), (3945, 0.007076895716931185), (1747, 0.007074668351598674), (2244, 0.007073878876722812), (4581, 0.007066244511938932), (923, 0.007060984119810583), (1179, 0.0070557881192999826), (750, 0.007052707647023473), (42, 0.007050971336716381), (3624, 0.007050737027244403), (4196, 0.007049234847350056), (644, 0.007031438731526859), (4061, 0.007017651891351479), (363, 0.007012973473031779), (3316, 0.007006511087441278), (4182, 0.007004528417098501), (1504, 0.006996490829139831), (3435, 0.0069879860600751825), (2069, 0.006986003267788832), (3122, 0.006968323748002448), (727, 0.006957464151938092), (232, 0.0069549963963140395), (1421, 0.006952424587473532), (1737, 0.0069487073284094725), (880, 0.006945196139389242), (4309, 0.006944082673060726), (4670, 0.00694333925772434), (3696, 0.006941048041214417), (81, 0.006936476860976447), (340, 0.0069346968259686595), (413, 0.0069231304631557624), (1718, 0.006916664970233588), (1811, 0.006916418526082118), (3195, 0.006904134738597882), (3487, 0.0069016572482143105), (539, 0.006889894603897376), (2825, 0.0068871170218702815), (3457, 0.006871015202788577), (2708, 0.006867067739911862), (386, 0.0068646296840373655), (503, 0.00686260533696628), (50, 0.006859150115732681), (3531, 0.0068473260256316296), (1123, 0.006840865177315187), (4299, 0.006835436572250427), (2726, 0.006826048395062189), (3499, 0.006814116875149276), (748, 0.006813011998117712), (3149, 0.006799785954020909), (1819, 0.00679392585653695), (1911, 0.006788701584208971), (4523, 0.00678689455553021), (600, 0.006781069548300661), (4008, 0.0067809939773042635), (1044, 0.00677971284596444), (301, 0.006777254061551174), (2816, 0.0067737981578105165), (778, 0.006770135773555761), (217, 0.006761048995039742), (3452, 0.006760060396968596), (2184, 0.006756747337034098), (2496, 0.006755272898953283), (752, 0.006752672674527578), (1375, 0.006751587067861556), (4282, 0.0067501296494222145), (1001, 0.006749052967362545), (1041, 0.006747896046941963), (422, 0.006741760529449878), (1177, 0.006740913834826032), (3185, 0.006738807815432678), (3648, 0.006726888382880296), (3734, 0.006724327053721519), (3265, 0.006722025953385297), (671, 0.0067207748818337255), (2897, 0.006719082730013785), (4001, 0.006716377045714606), (1841, 0.006715338605287994), (1231, 0.0067126304330489455), (1250, 0.006702285067302256), (31, 0.006701974138629126), (1892, 0.0067008889472722445), (3594, 0.0066856520555356215), (2899, 0.006682989647487092), (131, 0.0066802493255760575), (4467, 0.006679658047220808), (2732, 0.006672117367767698), (4738, 0.006670556795175896), (367, 0.006669231577912802), (4591, 0.006668143765250439), (2691, 0.006663769071497327), (1306, 0.00666092812620173), (1076, 0.006658235327123356), (2335, 0.006647246352662359), (56, 0.006632556125358496), (3342, 0.0066278886810743655), (2962, 0.0066264740224641116), (3460, 0.006620700682849891), (4099, 0.006617286213745887), (1433, 0.006616008644320784), (2324, 0.00660694138053807), (1760, 0.006603783839015581), (868, 0.006602382441598838), (1065, 0.0065982066969786065), (4210, 0.006596829513357172), (3632, 0.0065886098241242416), (1425, 0.006583262254711641), (1738, 0.006583228495031132), (1555, 0.006579248735376403), (4388, 0.006579103347761038), (283, 0.006577052112863799), (1111, 0.006570740194062738), (744, 0.006566072769391227), (1462, 0.006564236420765796), (311, 0.006563251833375564), (1172, 0.006549835971798837), (863, 0.006549384015093684), (1238, 0.006544973130504277), (641, 0.006543078670484083), (3926, 0.006540162655534937), (1973, 0.006536967992506156), (3066, 0.006536778761728395), (745, 0.006531432756257932), (1908, 0.0065299766700203515), (1374, 0.006525324836092308), (3474, 0.0065212784190025), (1329, 0.006519379434726831), (3841, 0.006518355882592189), (1345, 0.00651085510554655), (996, 0.006510314139610714), (758, 0.006509836812081643), (1448, 0.006508057152969192), (2424, 0.006507837906284628), (1987, 0.00650553977765645), (1501, 0.006503129089588645), (3876, 0.006501246832824627), (608, 0.006496906297586882), (22, 0.00649550131618506), (4154, 0.006494850823807451), (3288, 0.00649385401521311), (834, 0.006491519692061782), (122, 0.006487238497571812), (910, 0.006486198453578094), (2503, 0.006485446653111572), (1692, 0.006479464022196567), (3033, 0.006474216362641435), (821, 0.006472685328274391), (1644, 0.0064717938583473515), (4367, 0.006466955166456473), (1913, 0.006456586531955012), (2031, 0.006455524176033126), (1526, 0.006453877555016963), (1849, 0.006438906836822626), (3705, 0.006428475626634246), (1867, 0.006409862493863141), (563, 0.006408123614273835), (3842, 0.006405536969904123), (940, 0.006387687152455919), (1816, 0.006385994183589976), (581, 0.0063768662309706455), (981, 0.006374645722966995), (1964, 0.006373394532480614), (4661, 0.006372262075154419), (3458, 0.006361937339514527), (804, 0.006358492989300476), (2095, 0.006357855486686908), (3910, 0.006356730546010354), (4217, 0.006355560963563174), (4691, 0.006354021579073185), (1094, 0.006350312499283051), (230, 0.006348798090654443), (2239, 0.006346332982123501), (2160, 0.006339554227735659), (2580, 0.00633769760902833), (4303, 0.006323961398702151), (4564, 0.00632260006396531), (2056, 0.006321508088584449), (3998, 0.006304527611353123), (3309, 0.006302401527189918), (2388, 0.006295517346129297), (200, 0.006290277621795737), (2724, 0.006286654951979026), (521, 0.006280494519007155), (1608, 0.0062777202945735345), (1414, 0.006275658307050649), (1552, 0.006254187137781842), (4272, 0.006251634835142974), (4432, 0.006249235603065001), (1267, 0.006224998281787794), (2833, 0.006222499199065481), (4646, 0.006222134861124673), (300, 0.006217392078006201), (1797, 0.006213887021735482), (861, 0.006207799600454939), (835, 0.00620220824535734), (2202, 0.006200425857593385), (4459, 0.006196400846425859), (642, 0.006191644231376071), (3715, 0.006190325491037355), (263, 0.006181816316017468), (4666, 0.006181678206141671), (1213, 0.006175453685887427), (1664, 0.006173100586221582), (3566, 0.00615848694354114), (1818, 0.006149789447971375), (497, 0.00614907221041893), (1327, 0.006147555425640979), (1627, 0.006146861999590518), (2355, 0.006142653030334341), (248, 0.006132084444618754), (9, 0.006131107271982766), (3721, 0.006127478843484587), (4236, 0.006125452057518247), (1307, 0.006124366895014184), (2205, 0.006112503031563113), (3909, 0.006112285649457752), (1903, 0.006102457762378945), (1746, 0.006100359697629555), (2175, 0.006095774435741458), (568, 0.006095622321725575), (16, 0.006089768667124008), (958, 0.006081369697654832), (4342, 0.00607965747815721), (4733, 0.006077189670855713), (617, 0.006071704803246617), (4009, 0.006064417008349419), (4537, 0.006064091063116666), (3864, 0.006057949123103709), (4464, 0.006046140573011468), (4219, 0.006041864830893832), (862, 0.006035598847036753), (4208, 0.006011898117494347), (35, 0.006011264900105252), (1356, 0.006004625340572006), (3825, 0.0059927496698891445), (1214, 0.005989573328736986), (3331, 0.005977707255952425), (3114, 0.0059769311377776985), (1715, 0.005969919070326052), (2203, 0.005967866097218846), (3658, 0.00596286722089358), (1939, 0.00595746212602443), (2935, 0.005955810846522842), (583, 0.00594903962479087), (1981, 0.005926352955052429), (4057, 0.00592544115341404), (4055, 0.005914166649000517), (2058, 0.00590995863540552), (3244, 0.005902515030538617), (2426, 0.0059016849433669374), (3865, 0.005895600494767169), (3975, 0.005889763907871321), (2185, 0.005874458625657873), (4110, 0.005853106777499907), (4047, 0.0058497873565804765), (2328, 0.005841420048148285), (1316, 0.0058392530759321), (3748, 0.005814812508098897), (2156, 0.005813250635942479), (1684, 0.005810002433828691), (4726, 0.005809312246993324), (3049, 0.005801493095722533), (3598, 0.005783939650833695), (4674, 0.005759462956802482), (2439, 0.00574059691172469), (1344, 0.0057342662628247), (1863, 0.005726534927540921), (953, 0.005720514404561059), (4385, 0.005683142763564906), (3844, 0.0056676763818553), (4698, 0.005636834945005655), (3509, 0.005636624894300928), (177, 0.005620110895854672), (3942, 0.005613423254588682), (3391, 0.005608225798143579), (2098, 0.00560608097341051), (3448, 0.005605979359990224), (2113, 0.005592530907598026), (3752, 0.005559410678782638), (2291, 0.005536610800135703), (3744, 0.005527027497570207), (3588, 0.005516032527259791), (3502, 0.005514700809605147), (4653, 0.005513257527053221), (3164, 0.0055126821766886555), (4518, 0.005486192697752859), (2567, 0.005471902808357188), (571, 0.005454459542016685), (4514, 0.005453464782239065), (2665, 0.0054435423959391105), (1941, 0.005408507330366094), (562, 0.005404931030827556), (369, 0.005398995089696359), (2614, 0.005395997466738548), (4642, 0.005392640148098446), (3940, 0.005391695377769301), (4331, 0.005386503395515213), (4285, 0.005386288972176423), (512, 0.005364290212586636), (2273, 0.005352827163247767), (69, 0.005352706681491461), (1940, 0.005326488421200142), (3022, 0.005326240672534903), (4527, 0.005313905577409308), (4162, 0.005302239556822148), (4746, 0.005301762028458731), (1453, 0.005299769198239756), (3440, 0.005299633580402245), (2700, 0.005299034795489), (477, 0.005293224535449546), (380, 0.00527841809404265), (1695, 0.005277957593778177), (2809, 0.005260493122992778), (2774, 0.005249959260741943), (831, 0.005246067980115317), (3117, 0.005245759192194239), (4261, 0.005245222672043355), (3263, 0.005234876269622552), (1381, 0.005230472753935054), (2476, 0.005228114122996044), (1962, 0.005227597362841399), (855, 0.00521559989146149), (2683, 0.005206676319947015), (168, 0.005198732457466934), (2576, 0.005190237936440594), (2022, 0.005178616847713445), (3168, 0.0051751586842026616), (4120, 0.005174751481075426), (1158, 0.005172515788841544), (3802, 0.005155825819568281), (666, 0.005153330531589062), (425, 0.005149950812999199), (4462, 0.00513828423899643), (687, 0.00513764529659601), (2231, 0.005136012447935586), (1332, 0.00512473904770058), (4307, 0.0051092233140018215), (2181, 0.005103076499460921), (2733, 0.0050982976956194005), (1829, 0.005090754095375512), (3180, 0.0050887422222673055), (4240, 0.005075645269921608), (2314, 0.005068435648052211), (3787, 0.005065054028236045), (3438, 0.005062059982892674), (1167, 0.005029133510014752), (4119, 0.005029102007599148), (4312, 0.005028977479012296), (4515, 0.005026124158855984), (128, 0.005025554996234532), (514, 0.005020869620771117), (4043, 0.005018765785567624), (3997, 0.005012697643785268), (3584, 0.005012199105189914), (4091, 0.005008115229666357), (1391, 0.00500722704227186), (2599, 0.005006752141438518), (1661, 0.0050051652338153245), (1614, 0.005005091418291375), (3897, 0.005004036831198832), (4373, 0.005000772957320439), (1575, 0.004998151658483675), (102, 0.004990310054844926), (6, 0.004985185092521621), (4630, 0.004983928423924887), (303, 0.004981255497264048), (1724, 0.004972532807740693), (3468, 0.004964422888156211), (2959, 0.004960282599777524), (891, 0.004958334286102049), (2084, 0.004956050741485075), (3604, 0.004954785068051645), (2626, 0.00495083143699414), (1280, 0.004950379657335507), (3158, 0.00494896936857052), (2283, 0.004948392187806292), (2819, 0.004947521254535786), (2960, 0.004946486883745622), (3938, 0.004944786334034675), (1554, 0.0049441729471979366), (4384, 0.0049352409837277915), (802, 0.004933768061017463), (1952, 0.0049328554178528355), (4090, 0.0049281575288530445), (2136, 0.004927693862381807), (1904, 0.004925457291341602), (3163, 0.004924018272028674), (155, 0.004916199281291564), (595, 0.004911607675004385), (550, 0.00491130255116475), (4595, 0.004910294994799241), (1150, 0.004910229006471232), (4719, 0.004910173031360854), (3451, 0.00491006628070295), (513, 0.004906863783087058), (4076, 0.004904031527608103), (3782, 0.004890664826434197), (1732, 0.004889081710694328), (992, 0.004886662706265261), (4275, 0.004886236390825364), (3774, 0.004884486547402404), (4586, 0.004881688643291705), (1452, 0.0048815949005230255), (1449, 0.0048786374374424155), (414, 0.004867023107707296), (1791, 0.004863130992067572), (4392, 0.004861145645464364), (2208, 0.004861135563169555), (2044, 0.004860687373410634), (2064, 0.0048603709052981725), (220, 0.004858180150691764), (420, 0.004849700844192116), (4639, 0.004847365077729897), (1859, 0.004844156145186074), (336, 0.004833644001916374), (919, 0.004832185029247628), (4621, 0.004830737999445108), (1531, 0.004828681737401722), (3710, 0.004826630325029005), (2330, 0.004825116148766466), (2790, 0.004823591408305184), (3205, 0.004823505712279093), (561, 0.004821282264259826), (3576, 0.004818081923967995), (239, 0.004816762342630129), (3134, 0.00481436853963116), (3131, 0.004812979260796868), (1659, 0.0048098739172533845), (3404, 0.0048080615226864), (1426, 0.004807498252216066), (2015, 0.0048031373095949025), (2506, 0.004802104055978486), (4377, 0.004798649914011855), (1380, 0.004796703796840422), (1975, 0.004796560983314534), (1502, 0.004792392074409618), (902, 0.004782810579746968), (3995, 0.004782539176664054), (320, 0.004780067666855783), (95, 0.004767433030766618), (765, 0.004762077093545027), (1930, 0.004761463671706998), (3513, 0.004755723136207417), (1588, 0.0047383365149925), (1881, 0.004731718449186989), (3932, 0.00473171246062324), (3398, 0.004731130481888541), (3833, 0.004730609347895108), (3815, 0.004727607346291743), (3907, 0.004726772374329462), (3179, 0.004719973005894038), (27, 0.004715422662608441), (3769, 0.0047098141850001555), (4376, 0.0047009169576276745), (2947, 0.004697035408654324), (3124, 0.004693028318957215), (793, 0.0046900412939177225), (4552, 0.004689429768314749), (189, 0.004679941732048845), (1901, 0.004678494944775757), (1998, 0.004675434123509028), (2246, 0.004673579533250768), (685, 0.004670073913038262), (4251, 0.0046692982838135106), (3191, 0.004669226479953755), (2130, 0.004660592371968328), (1469, 0.004651377146421989), (3814, 0.0046499277941980536), (3161, 0.004647258016016346), (4383, 0.00464656148715758), (1435, 0.0046450763120791235), (3432, 0.004644255733710144), (2991, 0.004642675235688827), (4678, 0.004642211839193838), (1587, 0.004641047544734272), (3005, 0.004635259476801126), (811, 0.004627017982932453), (3520, 0.004621528809234019), (3908, 0.0046175151174361745), (1431, 0.004616822713387983), (375, 0.004612875877653715), (633, 0.0046124445035914605), (3881, 0.004611467427945411), (1622, 0.004611188564417827), (1127, 0.004607193124246471), (634, 0.004603228297883569), (1573, 0.0046014400235080515), (849, 0.0046004285482973304), (467, 0.004598960569473524), (1993, 0.004597715062780076), (2278, 0.004596797090519965), (347, 0.004587789492370932), (30, 0.004580861261423185), (4665, 0.00457938256674157), (927, 0.004575462908500092), (1857, 0.004574241105331764), (4708, 0.004572545807376825), (4103, 0.004572445305377127), (4248, 0.004571331837007961), (619, 0.004563395945884599), (118, 0.004562504747985965), (1933, 0.004558636910726935), (135, 0.004558213101082238), (4310, 0.004556230351634091), (3443, 0.004553282855024986), (389, 0.004548615410871421), (3583, 0.004547071848227898), (305, 0.004546882235066163), (4360, 0.004543692591012168), (1566, 0.004542823358246491), (39, 0.004539612554040745), (3367, 0.004532620674147121), (1635, 0.004527293818327946), (460, 0.004521529212535695), (93, 0.004519424267144665), (241, 0.004514921832736779), (233, 0.004511931315248028), (451, 0.004510390916712115), (315, 0.0045043170414253856), (4264, 0.0045032823911757384), (1953, 0.004491463373667025), (4039, 0.004489985619116578), (3602, 0.00447882506923385), (4211, 0.004477018759936744), (90, 0.004470160406284601), (4071, 0.004466823963289667), (2847, 0.004465057139297666), (260, 0.004463512744314364), (1846, 0.00446328905286202), (4292, 0.004455994578843447), (3555, 0.004449419822908524), (152, 0.0044445499818803694), (1632, 0.004442927924116684), (2232, 0.004440046639452461), (1211, 0.004437349516531346), (3664, 0.00443355062548022), (4438, 0.004420996620712253), (3011, 0.004419855033064716), (3126, 0.004419844279063529), (3886, 0.0044191547878571335), (3824, 0.0044094906540556944), (3970, 0.004406213539910207), (2711, 0.004403169051096703), (310, 0.004400888284177115), (2787, 0.004397270079193192), (4151, 0.004396568617488945), (2245, 0.004395731588942402), (2432, 0.004384509049390509), (1082, 0.004383085118452483), (1207, 0.004380150024962057), (1451, 0.004373185941562931), (1181, 0.004373002091397842), (3136, 0.004369664178913912), (3723, 0.004367796090127079), (3823, 0.004366032792502035), (4587, 0.004365776006744742), (3100, 0.004364975821737901), (1347, 0.0043600166214331736), (661, 0.004359004227750069), (1428, 0.0043470705787666776), (3133, 0.0043457423684439), (1631, 0.004345455818347098), (1633, 0.004342855494874423), (4697, 0.004335376392916811), (3361, 0.004334917335054157), (974, 0.004330290504461146), (94, 0.004325019981355954), (2442, 0.004323619443983669), (1562, 0.0043178327777930086), (2660, 0.00431713693039376), (2139, 0.004314002181565598), (1623, 0.004313035562011197), (3788, 0.004312790773892895), (3079, 0.004311543394580111), (4441, 0.004310228957562384), (3966, 0.004304573645571715), (1914, 0.004303739210032302), (4044, 0.004299539590135958), (4585, 0.004298343911158368), (4328, 0.004295975756617413), (3135, 0.004272751416734815), (3338, 0.0042644747674142084), (306, 0.004263311067191986), (1480, 0.004259298572774726), (690, 0.004258780053791624), (3143, 0.004250522169891501), (810, 0.00424804404814121), (3534, 0.004247216605037089), (397, 0.004242393404529361), (4274, 0.0042410801963333345), (1430, 0.00423816112498337), (4193, 0.004236236087413806), (4339, 0.004230644549460945), (1197, 0.0042305333350881325), (2984, 0.004228770770375274), (80, 0.0042260066692387695), (316, 0.004225007910798739), (426, 0.004221372390236281), (2682, 0.004213888721235759), (4322, 0.004211258714592221), (559, 0.004191566575381606), (3247, 0.0041877383273910595), (1281, 0.004181751585510921), (1840, 0.004178355486899033), (4290, 0.004166113835052068), (1784, 0.004157654392746056), (898, 0.004154415167480772), (893, 0.004148807712640832), (3495, 0.004133845199531137), (997, 0.004133006115228176), (611, 0.004129625836352796), (4365, 0.004125456776767467), (803, 0.00412232767889012), (1772, 0.004117353834950623), (1154, 0.004112177924476225), (187, 0.004108003694490475), (4468, 0.004104864171400346), (191, 0.004101830363130834), (3160, 0.004095176459934926), (4582, 0.004091733995248685), (323, 0.004070398943953087), (932, 0.004049166125957466), (4571, 0.004028423019031219), (1753, 0.0040221318047713745), (1546, 0.004021120331160663), (756, 0.004016254469567294), (1699, 0.004014388511915491), (1925, 0.004004113555504477), (1590, 0.004001805149241277), (4426, 0.003979342069998449), (3619, 0.003973755416880078), (3339, 0.003964368283878741), (3776, 0.0039612456035459055), (3512, 0.003955493294071544), (2299, 0.003948230434597009), (1910, 0.003945893927103896), (1559, 0.003933988131699183), (1309, 0.003930973288637931), (3178, 0.003928821351204078), (3806, 0.003914573435214168), (2757, 0.003908914791734665), (625, 0.0039054836840383992), (4513, 0.0039037834109920833), (3484, 0.0039035154247647414), (2541, 0.0038989047630465083), (2801, 0.0038965037910822353), (640, 0.003892567091539886), (234, 0.003890371750836492), (3405, 0.003886562611416007), (3672, 0.003880251860513502), (1120, 0.003878051766415362), (723, 0.003873837025019754), (314, 0.0038638880116987576), (2326, 0.0038617100249410453), (4555, 0.003860649971023641), (1458, 0.0038576607186455044), (639, 0.003837308702802493), (469, 0.0038159044696272418), (290, 0.0038077776924610104), (1530, 0.0037794574219590623), (4607, 0.003777124840850354), (2573, 0.0037749299996301254), (738, 0.0037684755366164885), (1576, 0.0037622840664627657), (2678, 0.0037536505590815357), (295, 0.00375002086607166), (1395, 0.0037442298246224298), (1164, 0.0037293235512362915), (289, 0.003726482647633777), (76, 0.0037177345917875654), (3944, 0.0037065297544057784), (2529, 0.0037009622652942587), (294, 0.003699756780233849), (2998, 0.0036908507662909147), (3925, 0.0036868491336711183), (2078, 0.003684540354949212), (3989, 0.0036805964768024113), (4705, 0.0036606057596948916), (2490, 0.0036265735967410556), (3257, 0.0036232074743168734), (3523, 0.0036211374439165376), (3051, 0.003618884665251113), (2764, 0.003614873062545358), (4082, 0.003598807626858108), (3291, 0.003585525934587535), (2858, 0.003579870296953029), (2379, 0.0035779781950099174), (2989, 0.0035771238377711755), (2189, 0.003566199551485456), (2937, 0.0035644207241419977), (735, 0.003563451280792759), (4202, 0.003561511684373236), (3040, 0.0035595370989108662), (2870, 0.0035311525210841473), (2137, 0.0035272035933866003), (2251, 0.003516315409099389), (3055, 0.0035113377049454117), (4172, 0.0035038801010936526), (2722, 0.0034952198727144475), (2349, 0.003494671517491747), (2775, 0.0034910794540919158), (2404, 0.0034891890209958728), (2883, 0.0034870805561939377), (77, 0.003485230189054797), (3030, 0.003482408005530722), (3139, 0.003481872054538384), (2643, 0.003481487672775105), (3042, 0.0034723545655000613), (3990, 0.0034610763573152286), (3166, 0.0034508251453263896), (627, 0.00344613525235196), (4423, 0.003445795527968098), (1145, 0.003435390898849859), (2923, 0.0034317166027748656), (4222, 0.0034285355631697764), (2628, 0.003426951626546216), (4017, 0.0034240099897475925), (2392, 0.0034221179150966795), (2861, 0.003415727485899339), (2731, 0.0034121629550302275), (2537, 0.0034032859264108793), (2832, 0.003402930763912399), (3479, 0.0033870774966319995), (1210, 0.0033821031246120416), (2310, 0.0033813734116378644), (4529, 0.0033771780629521246), (2889, 0.0033666043396272326), (4749, 0.003363934042381228), (3262, 0.003360763759161569), (2407, 0.0033585056769422383), (4019, 0.003345390522252748), (2673, 0.0033379566375462614), (526, 0.003334741276973702), (2559, 0.0033307356134898844), (3052, 0.0033246515205713873), (2901, 0.0033220336253345977), (3128, 0.003318012975013301), (3219, 0.0033123307393445674), (3878, 0.003312258027452021), (2350, 0.0033109698548286597), (1153, 0.0033100818033158083), (4407, 0.003307381235596798), (4696, 0.003305541059647922), (4704, 0.003303763083010213), (4102, 0.003295800752680751), (2415, 0.003294575710911571), (4606, 0.0032869515863996734), (2257, 0.0032863603388578436), (3922, 0.003280402466717164), (3892, 0.003280082773961534), (3322, 0.003274451844035423), (2448, 0.0032716614638054814), (4484, 0.003271434176865662), (3848, 0.0032666661844117243), (3762, 0.0032646100202537234), (4611, 0.003264437158229216), (2199, 0.0032618833699879965), (3939, 0.0032548518653931673), (4544, 0.003253940717926459), (3292, 0.0032494499702038194), (2286, 0.003247259736398883), (4221, 0.0032471452827301447), (3354, 0.003237185135726222), (3561, 0.0032313364220120733), (2425, 0.003231004634237765), (2838, 0.0032274816458320414), (2423, 0.0032226631790920873), (4418, 0.0032225501075381895), (889, 0.0032195854533442958), (2993, 0.0032132792181777787), (3015, 0.0032126435132991704), (3282, 0.003208914447372095), (4400, 0.003207912592046321), (4107, 0.003202478537566157), (3537, 0.003194752073195307), (475, 0.003190531578001457), (1711, 0.0031888588689293383), (4230, 0.003188498616906822), (4458, 0.0031870603136836375), (4298, 0.0031861253114959707), (3159, 0.0031710687351137155), (3357, 0.003168367133521099), (4521, 0.0031683498289934386), (3687, 0.003165199818051342), (3396, 0.0031593827101895023), (4142, 0.003156344344595562), (3081, 0.0031560537453089034), (3874, 0.0031481537954533125), (1208, 0.0031451744337981837), (1593, 0.003140634903172277), (3429, 0.0031319849027913378), (3544, 0.0031319698409303137), (1121, 0.003130154610834132), (4306, 0.0031244390952802565), (3020, 0.0031240135728561975), (3074, 0.003123367040945503), (3140, 0.0031227099810360467), (4572, 0.0031204404378787315), (3832, 0.0031202696960513274), (2438, 0.0031174720142985004), (2966, 0.003115111379495645), (2454, 0.003109594035766552), (2957, 0.0031092359943984383), (3577, 0.003103293849428695), (2834, 0.0031020589691599302), (4723, 0.0031000312203020384), (3031, 0.0030994446758264025), (2266, 0.0030987688502415794), (2797, 0.003098398605167862), (3613, 0.0030978725562690775), (3620, 0.0030958718321612323), (3616, 0.003095622689262693), (4030, 0.0030941889245660156), (2557, 0.0030871643249599364), (3239, 0.003085805666115126), (3302, 0.003084777080747902), (3363, 0.0030815161829236375), (3419, 0.003075836566636748), (3358, 0.003069942110162204), (2544, 0.0030697315068883985), (3206, 0.0030666406878901006), (2488, 0.0030597915388602234), (2786, 0.0030541072445524828), (4692, 0.0030522483736099815), (326, 0.0030505252214506223), (4717, 0.0030485145525237576), (2848, 0.0030473140649230354), (777, 0.003045789023702419), (2857, 0.0030414164363143604), (4002, 0.003040660972501748), (2619, 0.0030352231295267735), (2890, 0.003033279232012766), (2895, 0.0030326179499240626), (3072, 0.003026969024533316), (3729, 0.003022562766291786), (4694, 0.0030211298170620135), (489, 0.003014116548670713), (4416, 0.003012946125041004), (3952, 0.0030109482158914252), (2696, 0.0030090875115039635), (1049, 0.0030041331727812485), (4243, 0.0030014702178207124), (2320, 0.0030013058387419866), (3359, 0.0030011114522903158), (4209, 0.003001085566024577), (1168, 0.003000088284092143), (3621, 0.00299820815061655), (2570, 0.0029959292804826333), (4584, 0.0029935051497323646), (2707, 0.002990219373431709), (4753, 0.002989693752038211), (4589, 0.002987896156339954), (4147, 0.00298630157753443), (2772, 0.0029811823457461333), (2872, 0.0029795345488248886), (4075, 0.0029791098226139034), (4126, 0.002977274317311656), (1547, 0.0029751619915466534), (3296, 0.002972145194684356), (2269, 0.0029686252958084263), (2378, 0.0029684983590822743), (3413, 0.0029662742867458836), (4632, 0.0029651335087123956), (518, 0.0029650961405056878), (2613, 0.0029648480258547614), (2987, 0.002962684576367006), (3355, 0.002961898137026007), (1748, 0.0029607914937669426), (3308, 0.002960306303912272), (2986, 0.0029586179032072488), (823, 0.002957184915698127), (2914, 0.0029529024011125476), (2142, 0.002948915973620128), (1947, 0.0029486539836597494), (2738, 0.0029479880331386575), (2434, 0.0029471469755191033), (2437, 0.002946630859450155), (3911, 0.0029452076410499788), (1187, 0.002944308298217722), (3540, 0.002944123594539643), (4145, 0.0029410226703515613), (2535, 0.0029408871511731782), (3935, 0.002938602778010216), (3754, 0.002937106616313549), (3884, 0.0029361184400005414), (1169, 0.0029360091392593114), (431, 0.0029354992411385625), (4633, 0.002934721831081769), (3165, 0.0029341017203655755), (3364, 0.0029327375875956383), (4267, 0.0029286555100946393), (4333, 0.0029260320270067426), (3337, 0.0029246909081439803), (2478, 0.002924646946576751), (4280, 0.0029231592515295635), (3307, 0.0029223930574983612), (3967, 0.002921928279778248), (1497, 0.00292089643220805), (3745, 0.0029204522982322644), (3274, 0.002919747618048489), (4713, 0.0029196010043757797), (3763, 0.002916136112268195), (1792, 0.002915738498082802), (3719, 0.0029138968817436993), (3497, 0.002911264587242907), (614, 0.002910665746399396), (3651, 0.0029081263248376178), (985, 0.002906407986825793), (4295, 0.002906165236585631), (2924, 0.0029058590778161465), (2720, 0.002904177642847172), (4369, 0.002903883923210951), (3425, 0.002898431525107154), (1887, 0.0028961075340789948), (2411, 0.002893293051580001), (448, 0.0028925185706059195), (3230, 0.002890262568489395), (3258, 0.0028859893154278672), (922, 0.002885884735447659), (1656, 0.0028846987422951375), (4397, 0.002882077594875791), (925, 0.0028811425567375573), (2108, 0.0028804780794087345), (478, 0.002878849959768067), (3772, 0.0028779391606002015), (2302, 0.002877225908685085), (4117, 0.002874881002092895), (3506, 0.0028733236786523315), (857, 0.002870935125188657), (2134, 0.002870272564246342), (508, 0.002869404118211826), (2623, 0.0028691207200465204), (3611, 0.0028646122660062794), (4650, 0.002863748346927824), (739, 0.00286251315230703), (3866, 0.0028603378912535836), (2702, 0.0028597467534403815), (3877, 0.0028593937736802436), (3590, 0.00285925909400348), (4507, 0.0028585889693463836), (813, 0.002858495016866813), (2974, 0.002858203734286409), (3414, 0.002858058316828374), (4516, 0.0028578958837238953), (999, 0.0028578910771928485), (2223, 0.002854664212272809), (576, 0.002853441336831003), (3148, 0.0028524671153359127), (3062, 0.0028512959402064095), (4308, 0.0028497533156874757), (1909, 0.002848677898255827), (3587, 0.0028471304264991375), (3639, 0.0028449512981372368), (2884, 0.002841983658633298), (3026, 0.0028417514014026013), (3064, 0.002841375581747441), (3044, 0.0028409384545784104), (2916, 0.002839736397999422), (3593, 0.0028376815103299475), (4368, 0.00283755987060559), (596, 0.0028371188028211854), (2475, 0.0028356885367633315), (2400, 0.0028353141075246955), (1594, 0.0028352762595771183), (3737, 0.0028325416251374588), (3183, 0.0028307657725489994), (3186, 0.002829250667611031), (4535, 0.0028288171707993135), (2705, 0.0028283602054297655), (3003, 0.0028282097467982013), (2356, 0.0028270885388056704), (1580, 0.002826067646514305), (1109, 0.002825416982589249), (3714, 0.002824989743131714), (2585, 0.0028222100037320736), (2748, 0.002821965007710136), (3804, 0.002820920253225235), (4042, 0.002818866090789567), (1499, 0.0028170714303475636), (419, 0.0028162547642586362), (2629, 0.0028156445158354043), (3007, 0.0028144731668346018), (3234, 0.0028127541785846416), (998, 0.0028124426210585467), (1349, 0.002812251629083443), (4051, 0.002811981058943212), (2796, 0.0028103069951656004), (318, 0.00280868199917967), (4245, 0.002806147928521942), (3273, 0.0028024639544424893), (3962, 0.0028021039029533777), (4101, 0.002801491985340087), (4706, 0.002800856662347435), (235, 0.0028004443652860406), (4718, 0.0027989024036046226), (2624, 0.0027988529375607557), (308, 0.0027981773243471843), (3417, 0.0027980161433466487), (2410, 0.0027921272662482103), (1862, 0.0027900252758016517), (4471, 0.0027895300377757054), (476, 0.0027891987713721577), (4401, 0.002788797895638355), (1474, 0.002788091383487165), (3013, 0.0027880267088873697), (2830, 0.002786143266454959), (3560, 0.002785779510416588), (3434, 0.0027841722636353906), (3235, 0.002782706615479671), (2391, 0.002779854456754394), (3116, 0.0027787296955126464), (444, 0.0027778223413512325), (4575, 0.0027770359980853485), (4259, 0.002776850225746684), (1905, 0.0027765626888005355), (1890, 0.002776428891425265), (41, 0.002775939024993834), (2260, 0.0027759169629893434), (4140, 0.0027750833007591314), (2293, 0.0027741228171635044), (2288, 0.0027737812623095173), (3037, 0.002773731525378308), (3889, 0.0027730519366366605), (2592, 0.002771241435770812), (2888, 0.002770272878145886), (4130, 0.0027702491927077606), (3101, 0.0027684333235630113), (3601, 0.0027677166836759973), (1479, 0.0027670525566796805), (1959, 0.0027667065054057297), (587, 0.0027661578925979816), (4024, 0.002766117333287042), (4732, 0.0027655817163123484), (8, 0.0027641924020064376), (2190, 0.0027637494868668136), (2664, 0.0027636893602350685), (4528, 0.0027615982815814228), (2561, 0.002761245315047422), (4625, 0.0027599858558584084), (2390, 0.002757556727082249), (3813, 0.0027566449206603903), (4160, 0.0027563412357361487), (4132, 0.002755213422014426), (4734, 0.0027551987348534033), (4355, 0.002752860193890318), (4657, 0.0027495280794589106), (4138, 0.002747601278157042), (3678, 0.0027474016602207943), (1805, 0.002746423309832248), (887, 0.0027463724949874043), (4545, 0.002745583574655569), (4169, 0.0027452812719798484), (74, 0.0027451333146382563), (3269, 0.002745114734537217), (3893, 0.0027438567093563907), (2755, 0.0027437975587456917), (1733, 0.00274356783062648), (3187, 0.002742236999398408), (2821, 0.0027421131534677116), (2176, 0.0027410929669732693), (3749, 0.0027389391619914516), (4161, 0.0027374379076044513), (4087, 0.0027365025375997664), (3873, 0.0027360632094351337), (253, 0.002735423509431833), (791, 0.00273456313471762), (3770, 0.002734524504185059), (3271, 0.00273293529165132), (1995, 0.002732626542244188), (2776, 0.002731101206287796), (4540, 0.0027309904957101352), (4263, 0.002730315868994012), (1409, 0.002729989288307998), (1518, 0.002729857548011879), (1896, 0.0027295564615730725), (1907, 0.002728970153347562), (3757, 0.002727995096008074), (12, 0.0027271101026553326), (4269, 0.0027268800245208768), (4446, 0.0027245640914841194), (4113, 0.002724280615258703), (395, 0.0027240713702022094), (2159, 0.002721917820221948), (4419, 0.0027193354486096948), (4079, 0.002719028846705518), (3636, 0.002718585295472415), (192, 0.002718430884666317), (1848, 0.002717803672925356), (4495, 0.0027173702066232044), (680, 0.002716902367133415), (872, 0.002716888891256101), (3781, 0.0027168120331958734), (2970, 0.0027142869269089313), (3915, 0.002713694943013494), (2882, 0.002713074313272178), (262, 0.0027126362923378068), (3406, 0.0027118543934155333), (2361, 0.002708773015866624), (3677, 0.0027086713984455896), (4497, 0.002708133149687402), (4680, 0.0027030707668748884), (826, 0.0027014631981330008), (4111, 0.0027002000301447927), (4448, 0.002697954367262091), (4420, 0.0026968214036485385), (4363, 0.0026967453036279127), (2507, 0.002696634083969955), (2531, 0.002694379501485363), (4175, 0.002693757426592269), (1683, 0.002688451808692502), (3496, 0.0026880481936467217), (2783, 0.0026861150850195237), (612, 0.0026859326972569616), (3527, 0.0026853422471984486), (3314, 0.0026849346387889175), (3449, 0.0026846224385835282), (3654, 0.002682856960599956), (4357, 0.002682787385490823), (1637, 0.002680337475374996), (2230, 0.002680030527833271), (246, 0.0026772900313672752), (564, 0.002676619795848928), (3224, 0.00267635393755799), (2940, 0.0026742679904601246), (2926, 0.002673161536430479), (1324, 0.002672969936809829), (4286, 0.0026729671228727177), (3920, 0.0026722539217173672), (499, 0.002671618073628524), (1822, 0.0026710088042061946), (3372, 0.0026708609059878383), (1670, 0.0026708520591796196), (2292, 0.0026692733654005317), (4574, 0.0026685105428566522), (1893, 0.002668115320983822), (2953, 0.0026670965757950144), (2609, 0.0026665077714943582), (2394, 0.0026663459196616906), (3326, 0.002665919826568192), (2595, 0.0026649134214898357), (1402, 0.002664860231351134), (623, 0.0026630969055990977), (2725, 0.0026620612643935364), (4489, 0.002661410955262736), (456, 0.0026596451040662235), (2105, 0.002659330561961582), (3987, 0.0026589417773372572), (4361, 0.002657253561906113), (4014, 0.0026571907640489923), (3084, 0.0026548219225275382), (2661, 0.0026540559952205906), (4318, 0.0026533552408221917), (3184, 0.0026525156993565894), (3242, 0.0026501961861581055), (3882, 0.0026492421328264187), (2863, 0.0026488251871620745), (890, 0.0026479823087467613), (3388, 0.002647365161489124), (3493, 0.0026462996931086355), (4, 0.0026461178504366446), (1660, 0.00264591764645914), (1946, 0.0026455084234830646), (4225, 0.0026454343879736024), (4354, 0.0026439736426323683), (4501, 0.0026421373680496686), (4505, 0.002641691801624409), (717, 0.0026413305971480674), (1916, 0.0026412749287283146), (1364, 0.0026412577122468684), (4262, 0.0026409519820739277), (2878, 0.002640050006165248), (4136, 0.0026384657436876223), (1007, 0.0026383868891899503), (20, 0.002637802635323521), (4054, 0.0026377864614375154), (4287, 0.002637431083010305), (2792, 0.0026370676443575208), (783, 0.00263668899633888), (2393, 0.002635897400529965), (2405, 0.002635870400882369), (3902, 0.0026355902543007915), (1350, 0.0026344626310166926), (4083, 0.002631544339170752), (178, 0.0026314337186226612), (3182, 0.002631165228723802), (2148, 0.0026310549398486857), (4422, 0.002629442736004665), (2911, 0.002628759902725516), (933, 0.0026281329175825833), (3845, 0.002624148652450636), (3241, 0.002623071064251682), (2319, 0.002621972409918981), (4566, 0.002621590850550983), (4334, 0.0026204394659809834), (3283, 0.002619249654227894), (4273, 0.002618313242274169), (871, 0.0026179055267576403), (3016, 0.002616801813244511), (2289, 0.002616624355635435), (884, 0.0026163809505102696), (4643, 0.0026163173039254538), (23, 0.0026160065933929773), (1851, 0.002615626057785462), (2894, 0.0026151060801372626), (2610, 0.0026139062498587696), (865, 0.0026134261314276295), (3526, 0.0026133246962257457), (3198, 0.0026128152736419373), (987, 0.002611832510947402), (588, 0.0026101540027187124), (4756, 0.002609938609868918), (2419, 0.0026094037861228133), (2072, 0.0026090528415039153), (1570, 0.0026088671600180725), (3792, 0.0026085328616108185), (2900, 0.002607083199714003), (2746, 0.002605743723218679), (2904, 0.002604998328424938), (3289, 0.002604901433632117), (1439, 0.0026033644369673403), (4520, 0.0026027432110470486), (1516, 0.0026021093995289343), (1294, 0.0026019948550357677), (848, 0.0026018201164887153), (211, 0.0026015809177949013), (1703, 0.0025993346550765), (1765, 0.0025970331994467845), (3701, 0.0025965820862284485), (3353, 0.002596502494848724), (3113, 0.002595857434870159), (2554, 0.0025946265525852224), (4340, 0.002592285008220012), (3225, 0.0025918861957136127), (1411, 0.0025916889606204586), (11, 0.0025914210264193454), (2943, 0.0025911930735877577), (2946, 0.00259096785335882), (3150, 0.0025902038877916003), (2386, 0.002589985942177571), (2048, 0.00258659888934896), (2385, 0.00258641917729171), (2083, 0.002585087235804091), (3542, 0.0025841605847022136), (198, 0.0025839718690850045), (115, 0.002583618411056283), (4563, 0.0025819653000399567), (3290, 0.002581238290538878), (3707, 0.002581043929805259), (4686, 0.0025809235379095864), (969, 0.00258068694288877), (66, 0.002580663044818465), (1410, 0.002579286827486758), (2533, 0.0025784310284402722), (1355, 0.002577959161293887), (2370, 0.0025765051762508544), (1717, 0.002574964969411728), (2492, 0.0025737838016382237), (4056, 0.002573501028305405), (2652, 0.002573032393098966), (3093, 0.0025725576433785037), (1122, 0.002572246970672103), (3673, 0.0025712013193084373), (504, 0.002570158503091143), (4461, 0.0025681324463486797), (1831, 0.00256782666311999), (2169, 0.002567615180462045), (2396, 0.0025660283412100816), (2466, 0.0025655957431689642), (3348, 0.0025647690552461715), (579, 0.002563111844381778), (3551, 0.002562239022054154), (2073, 0.002561141884744439), (4604, 0.0025603759763387886), (3491, 0.002560353480916126), (71, 0.0025602359159759454), (2387, 0.0025601208754689603), (2853, 0.0025593075652624604), (4391, 0.0025591033947911803), (2999, 0.0025570366704343417), (4049, 0.002556726626307248), (2401, 0.0025564162323622837), (226, 0.0025548893778198057), (4693, 0.002554593816596272), (3445, 0.002554166678739945), (3335, 0.0025524769836085645), (3478, 0.0025524372477337596), (3517, 0.0025523798057483925), (1176, 0.0025509171499198693), (4573, 0.0025494796087382364), (3809, 0.002549131873094457), (1768, 0.0025480281183345383), (2192, 0.002546445685387298), (378, 0.0025446458272818918), (2067, 0.00254437359504656), (2397, 0.002543981778941033), (169, 0.0025430908226692834), (1722, 0.0025423165688305957), (3827, 0.002541927564475602), (1476, 0.0025403903971394), (2571, 0.0025401041471621705), (1533, 0.002540042248033082), (3216, 0.002539433077876398), (377, 0.0025377691871947086), (4326, 0.0025375035594151943), (4135, 0.002535691506857057), (3341, 0.0025356199032733426), (3174, 0.00253418334559093), (3647, 0.002533603647510621), (4197, 0.0025329168145820785), (4320, 0.0025326519278863332), (3606, 0.0025324469945845513), (1378, 0.0025318674177203025), (3173, 0.002530296481038186), (1706, 0.002530011050112294), (1204, 0.0025290761283573862), (3477, 0.0025276030021622593), (3799, 0.0025274583753613737), (2340, 0.00252655246789727), (1574, 0.002525189733247685), (3564, 0.0025233059624223597), (2195, 0.00252315262097593), (1131, 0.00252261496431532), (2945, 0.002521761603053892), (1072, 0.0025211040206047468), (4330, 0.0025193852209321366), (1163, 0.00251935923453937), (4129, 0.0025190034017298297), (1598, 0.0025177759140349695), (4139, 0.002515506695197149), (2430, 0.0025151189787641502), (1102, 0.0025141658909101287), (4487, 0.0025113276850043127), (3739, 0.00250884059590548), (1170, 0.0025086837510820883), (2416, 0.0025083684609272677), (2826, 0.002508221273430326), (4530, 0.0025080077265918596), (2495, 0.002507504777984616), (400, 0.0025066764451739314), (4228, 0.0025063091988372396), (1304, 0.0025053628927311166), (1634, 0.0025025298087768865), (2354, 0.00250175410375728), (3900, 0.002501629179171666), (3565, 0.002501071185080404), (2060, 0.002499871014519454), (2569, 0.002499801307511075), (1298, 0.0024986523963093066), (490, 0.0024986395657262774), (2313, 0.0024986069567734127), (993, 0.0024981328274329795), (2612, 0.0024975659711548325), (749, 0.002497485200582464), (3075, 0.0024961286267824413), (1319, 0.002496103860089698), (973, 0.0024954652199868127), (4020, 0.00249528638716839), (3641, 0.0024946591181618616), (4427, 0.0024943561649035154), (693, 0.002492845423538696), (2317, 0.0024923641892324556), (4266, 0.002491625823481877), (2802, 0.0024913375279378472), (1313, 0.0024894031882715492), (2173, 0.0024876838039920787), (4409, 0.00248463360069058), (4743, 0.002484038536758489), (1286, 0.0024827577573109565), (127, 0.0024825553594297056), (1463, 0.0024817701998025867), (157, 0.0024811511017301465), (114, 0.002480941492150616), (2226, 0.0024808634293224394), (959, 0.0024797430301549818), (1891, 0.0024796803269421294), (3917, 0.002479372437832042), (2912, 0.0024792274786542426), (4394, 0.0024787349790455528), (1617, 0.0024780074035459197), (466, 0.0024778675051692523), (26, 0.00247774899211993), (3441, 0.002477407777917754), (1666, 0.0024769129925762755), (1100, 0.0024760189256840047), (3906, 0.002475747633650544), (3890, 0.0024756048517222433), (2422, 0.0024749793547168097), (2965, 0.0024744967747909615), (755, 0.0024741352782758777), (247, 0.0024739285906916915), (1422, 0.002473823395078075), (2268, 0.0024736683124467556), (3381, 0.002472684584949226), (2068, 0.0024724781995245342), (4036, 0.002470909574276122), (2402, 0.0024702312298366703), (522, 0.0024699769946380256), (3214, 0.0024687330562187964), (3268, 0.0024674284181203567), (2111, 0.002466352449640467), (487, 0.0024654380467067126), (349, 0.0024651964095068262), (4687, 0.002465090832503855), (883, 0.002465003883129401), (2909, 0.0024637147888679103), (3615, 0.0024631871933519693), (348, 0.002460672367493144), (1110, 0.0024606310076284816), (2117, 0.0024602939628481577), (646, 0.0024602114994561985), (1032, 0.002459987435574554), (4550, 0.0024595195348474813), (3379, 0.002458538540880747), (3170, 0.0024555509047628184), (3898, 0.002454974260223429), (4567, 0.0024541141055085514), (3557, 0.002453976751031976), (3706, 0.0024537669479685596), (1026, 0.0024529530588841123), (4213, 0.002452817103114504), (698, 0.0024525456550962073), (3390, 0.0024519653765477825), (1247, 0.00245042893511411), (4254, 0.002450400614541764), (4085, 0.0024493898166964736), (2651, 0.0024484796797637743), (1550, 0.0024473029843886628), (1645, 0.002446862980316723), (4381, 0.002446244527969247), (4304, 0.002445685707398438), (1969, 0.0024448646209058542), (1416, 0.002444361777377498), (4729, 0.0024438608707778348), (3402, 0.0024433445597715187), (1408, 0.002442656412351115), (2642, 0.0024420391502353064), (3220, 0.0024410530020815076), (1084, 0.002440966418634501), (1117, 0.0024394124492928926), (2972, 0.002438391089931633), (3069, 0.002437094343952704), (1002, 0.0024370098814539714), (3298, 0.002436514920013651), (1882, 0.0024350263994073365), (1597, 0.0024345952421114428), (3765, 0.002434042335070391), (1663, 0.0024337347560697163), (1060, 0.002433644778394349), (4080, 0.0024335642015765515), (215, 0.0024333554322936365), (98, 0.0024326078674799584), (373, 0.0024321080770677845), (3646, 0.00243158299589551), (4428, 0.002431451506443883), (167, 0.0024303863386630604), (4536, 0.0024298408081013054), (1742, 0.002429399547805486), (4356, 0.0024293290812924663), (2997, 0.002428032354378432), (2779, 0.0024275516832790046), (2461, 0.002427016741938467), (4155, 0.0024255587971282583), (4183, 0.0024237963260441723), (541, 0.002422240648022047), (4206, 0.0024221148356371866), (2131, 0.0024196517146456973), (1027, 0.0024181466185765233), (4069, 0.0024169297417616156), (2679, 0.0024144890340626534), (1284, 0.0024143448530410524), (2141, 0.002413980669190283), (1813, 0.0024130063641892726), (3503, 0.0024128899619207393), (1929, 0.0024126259881555225), (140, 0.0024123228613946866), (1628, 0.002411794981708738), (3014, 0.0024114891991564077), (984, 0.002411240856110517), (4472, 0.0024112317179258184), (4059, 0.002410674678977759), (3691, 0.0024086622390321914), (3412, 0.002408407092361171), (1161, 0.0024083229184172317), (655, 0.002407860618442024), (854, 0.0024058098043654354), (941, 0.0024046101811352593), (3057, 0.002403609375568344), (2634, 0.002401593132773326), (2907, 0.0024011043545367652), (3028, 0.0024009021969519195), (2892, 0.0024001241190061617), (1404, 0.0023982949096258022), (473, 0.0023979424216120323), (1877, 0.0023975972714730997), (4638, 0.0023971267042649587), (731, 0.0023947958301795275), (907, 0.0023938718259015716), (3243, 0.0023935261036390518), (3050, 0.002393394429192793), (2446, 0.00239283322119952), (505, 0.002390760497404906), (1744, 0.002389656147731373), (488, 0.0023889357403492134), (507, 0.002388034362628277), (2800, 0.0023873849193221945), (221, 0.0023867249427584453), (2765, 0.0023852051840891216), (767, 0.002384970269216801), (2242, 0.002384651997575229), (2367, 0.0023839559985185223), (852, 0.00238347356374781), (4345, 0.0023823675329091246), (1884, 0.002382347370874411), (1034, 0.002381848187556262), (1036, 0.002381493411240581), (3811, 0.002381369516226016), (2004, 0.0023762815460502736), (3300, 0.0023762683952615444), (798, 0.0023759206045957056), (3194, 0.0023734316541105306), (1273, 0.0023727264244584453), (372, 0.0023727018392698186), (4011, 0.002372400764998709), (1357, 0.0023716159575388257), (1558, 0.002370504306610526), (886, 0.002367992709230159), (624, 0.002367286250323197), (4348, 0.0023671969422472613), (4634, 0.0023669493334174123), (3500, 0.0023649818980752742), (2528, 0.002364599630331484), (1372, 0.0023640022692383443), (975, 0.002363908556036059), (2552, 0.002362330366527863), (759, 0.0023620246367830004), (2201, 0.0023617938512641053), (471, 0.0023614429690162818), (598, 0.002360340720378122), (2166, 0.0023598275825905267), (2556, 0.0023597795677002265), (2735, 0.0023596941272020977), (388, 0.0023591913022945428), (4616, 0.0023591732279071025), (3147, 0.0023569925735198944), (324, 0.0023569794191382887), (1693, 0.0023566730482475085), (3725, 0.002356193079354141), (325, 0.0023560259907815383), (2741, 0.002355666995593991), (2862, 0.0023543166351125164), (2482, 0.002354213619962014), (2674, 0.0023537064650982196), (1641, 0.0023534723722829424), (3627, 0.0023527043854668704), (944, 0.002350239992432367), (1814, 0.0023488004094654857), (399, 0.002348733841964289), (410, 0.0023471674070784576), (2453, 0.002345775776233396), (2099, 0.0023453535571186413), (589, 0.002344359898972634), (2525, 0.002344279375139215), (1625, 0.002342160281689104), (524, 0.0023407316060991184), (2129, 0.00233871392271158), (2399, 0.0023365350975519655), (3071, 0.0023344078941970677), (154, 0.00233406145129327), (2593, 0.002333787600082069), (416, 0.0023326640592218574), (3027, 0.00233021633580557), (2163, 0.0023301916206185636), (3614, 0.002328996518615617), (355, 0.0023289898653783645), (1827, 0.0023285368742797527), (659, 0.0023281380309073656), (3563, 0.002327461492897184), (1642, 0.0023267643586780923), (1456, 0.0023257672348792812), (2845, 0.002325760450566254), (4359, 0.0023248636075942283), (1672, 0.0023246281011747513), (1503, 0.0023220494040062665), (1826, 0.002321663275445414), (136, 0.0023212673926755554), (3455, 0.002318988335189954), (4479, 0.002318606278427395), (229, 0.002318221160690662), (121, 0.002317637155610289), (3369, 0.002316770782338742), (805, 0.0023163565066187442), (2213, 0.0023155844271746787), (3278, 0.0023144021887167095), (1543, 0.0023142329607007727), (359, 0.002313080451496163), (4277, 0.0023130600869355365), (3953, 0.0023128784438710475), (3986, 0.0023119201990434613), (1528, 0.002311592791945612), (4620, 0.002307915307219639), (4174, 0.0023059740054909702), (1434, 0.0023049054458741196), (1079, 0.002301962911983148), (3304, 0.0022998141840984703), (1782, 0.0022995960790865005), (3863, 0.00229495982288137), (4220, 0.002294849070912113), (1565, 0.0022948021570275436), (1366, 0.0022937979731948166), (2954, 0.0022922794281220946), (457, 0.002290294891740724), (703, 0.002289601092035691), (4386, 0.0022891216315229826), (92, 0.0022890824561858803), (1605, 0.0022881961818511146), (2728, 0.0022849978296058276), (4143, 0.0022844779266929264), (2457, 0.002283183581439535), (1921, 0.002283089351925058), (1830, 0.0022822708147692636), (4343, 0.0022815009118732693), (1080, 0.002281195309441917), (3755, 0.0022807362633082313), (3380, 0.0022804097225466624), (3894, 0.002277103823546275), (3742, 0.0022767210575645267), (594, 0.002275315506617625), (1980, 0.0022749239448759096), (1219, 0.002274864856108793), (2591, 0.0022745559841392906), (815, 0.00227266572632266), (158, 0.0022722293716716706), (495, 0.0022718412749071944), (268, 0.0022688865159653142), (1719, 0.0022673904598115814), (4296, 0.002266391876514918), (1869, 0.0022658776922506274), (4074, 0.0022656432406814807), (722, 0.0022646399374202687), (2338, 0.002264206070768478), (3311, 0.002263875417889746), (4350, 0.0022622118316933154), (2747, 0.002261560080769979), (1808, 0.0022613027919317153), (856, 0.0022585882356336417), (1004, 0.0022573204570551075), (3336, 0.0022569869793290166), (3327, 0.002252840079875214), (4066, 0.0022524853833082357), (103, 0.002252330138770806), (2611, 0.002248400948487431), (3211, 0.0022476710843611332), (132, 0.002246599051991205), (4712, 0.002246189735283349), (1318, 0.002245002726863429), (647, 0.00224240183216734), (2976, 0.002239942650190699), (184, 0.00223896609523285), (249, 0.0022380681097073835), (480, 0.0022370876442660993), (712, 0.0022359641761549825), (2240, 0.002233192478333671), (2323, 0.0022327938930420117), (4247, 0.0022319991499478095), (1423, 0.0022316267477726984), (4429, 0.002230839821893885), (3795, 0.0022290471064402937), (2753, 0.0022271100915013404), (2743, 0.0022270086291078226), (1394, 0.0022263526121378426), (1954, 0.0022219466451041284), (3669, 0.002221652535849391), (1199, 0.002221447803788017), (1251, 0.002220612365457281), (2047, 0.0022203493344113796), (2527, 0.002218772167421784), (605, 0.002217327139671425), (165, 0.0022161863775836217), (1392, 0.002212910778137873), (97, 0.0022123076578918297), (4411, 0.0022080424646920556), (3393, 0.002207496476230673), (2520, 0.0022065194378764314), (1217, 0.002203172019443444), (1616, 0.0022027675918640335), (4473, 0.0022005779751269063), (2502, 0.0021989417134119955), (2146, 0.0021963836550183266), (2270, 0.002191726386504059), (1352, 0.0021804677618435992), (3238, 0.0021801047856471857), (357, 0.0021783325213935198), (3431, 0.0021776837111728824), (278, 0.0021764892747250784), (4636, 0.0021762596169904768), (2721, 0.002175040661329997), (286, 0.0021745726859341806), (3200, 0.0021734824356438674), (3569, 0.002170647307999411), (1943, 0.0021705344478206664), (1301, 0.0021702391617004187), (2761, 0.002170168467868234), (4476, 0.0021697075249274256), (1450, 0.002167835191128398), (3657, 0.002165057662099055), (1828, 0.0021638013326914333), (1370, 0.00216324574458761), (2509, 0.002162782504755453), (1340, 0.002157921103285943), (3629, 0.0021568027067514536), (951, 0.002153595573264884), (3855, 0.0021518469419141975), (267, 0.0021490127060194053), (1691, 0.002148977275854788), (1088, 0.0021471372255861413), (195, 0.002146228295591314), (3347, 0.002145608486984789), (2034, 0.002142615536915054), (2382, 0.0021422992451678668), (1209, 0.0021397700593317275), (432, 0.0021359054800464544), (3668, 0.002135511861687677), (1040, 0.002132047497371554), (707, 0.002128074186690625), (1042, 0.0021270209489894797), (3928, 0.002125312657235859), (645, 0.002124631771734964), (2132, 0.0021242643286420865), (626, 0.002123776950684532), (1801, 0.0021162987563967716), (2359, 0.0021159921897142054), (901, 0.0021145763664222514), (3252, 0.0021144319042204606), (2039, 0.0021139884554946553), (4311, 0.00211167048153913), (2127, 0.002111379989835409), (1415, 0.0021097980844741074), (4200, 0.002109214092914709), (196, 0.0021076410974588083), (3024, 0.002106857457513168), (4626, 0.002102054738966996), (3056, 0.0021013100945780705), (4015, 0.0020995911502027804), (2758, 0.0020967359250924503), (4598, 0.0020958137727665593), (4744, 0.0020956994971947497), (1305, 0.0020935884557790854), (2287, 0.002088794545663023), (2441, 0.0020850932071196995), (2526, 0.0020832766998676996), (1427, 0.0020784231845377746), (3575, 0.002075528246148222), (3548, 0.00207373699119283), (3254, 0.0020665159011169923), (3538, 0.0020588037017487504), (1624, 0.002053363829877747), (194, 0.00204289277330305), (453, 0.0020287477091768696), (2766, 0.002010676946602807), (2010, 0.0020083322719831624), (3199, 0.002007751600863706), (1677, 0.001985527178867506), (3301, 0.0019853728892842357), (607, 0.001965060084741222), (3626, 0.001962062545321286), (351, 0.0019335816733388827), (4445, 0.0019207975386324953), (1277, 0.0019146903506456507), (228, 0.0019144719695130292), (4301, 0.0019114769367952118), (2636, 0.0018907872383178445), (3546, 0.0018707128778611122), (2902, 0.001851167839529052), (4171, 0.00182413177873624), (293, 0.0018200357376225262), (4752, 0.0018058768941024727), (3365, 0.001796034767422785), (129, 0.0017648665240359315), (740, 0.001710881941189056), (3392, 0.0016889629505649373), (24, 0.0016873911328124406), (3608, 0.0016783244725757098), (202, 0.0016763203906183897), (1780, 0.0016527390912812298), (2534, 0.0011306194771999473), (1, 0.0), (2, 0.0), (14, 0.0), (17, 0.0), (28, 0.0), (36, 0.0), (37, 0.0), (49, 0.0), (53, 0.0), (54, 0.0), (55, 0.0), (58, 0.0), (59, 0.0), (64, 0.0), (73, 0.0), (91, 0.0), (100, 0.0), (101, 0.0), (117, 0.0), (133, 0.0), (134, 0.0), (141, 0.0), (146, 0.0), (150, 0.0), (151, 0.0), (153, 0.0), (163, 0.0), (171, 0.0), (186, 0.0), (188, 0.0), (205, 0.0), (214, 0.0), (219, 0.0), (223, 0.0), (225, 0.0), (237, 0.0), (245, 0.0), (257, 0.0), (258, 0.0), (259, 0.0), (264, 0.0), (265, 0.0), (272, 0.0), (275, 0.0), (297, 0.0), (298, 0.0), (299, 0.0), (302, 0.0), (312, 0.0), (319, 0.0), (331, 0.0), (335, 0.0), (337, 0.0), (338, 0.0), (339, 0.0), (344, 0.0), (352, 0.0), (361, 0.0), (362, 0.0), (365, 0.0), (366, 0.0), (376, 0.0), (379, 0.0), (382, 0.0), (390, 0.0), (391, 0.0), (392, 0.0), (393, 0.0), (394, 0.0), (401, 0.0), (404, 0.0), (405, 0.0), (411, 0.0), (415, 0.0), (423, 0.0), (427, 0.0), (439, 0.0), (440, 0.0), (454, 0.0), (462, 0.0), (484, 0.0), (486, 0.0), (491, 0.0), (492, 0.0), (498, 0.0), (506, 0.0), (516, 0.0), (517, 0.0), (520, 0.0), (525, 0.0), (528, 0.0), (529, 0.0), (531, 0.0), (535, 0.0), (536, 0.0), (546, 0.0), (548, 0.0), (549, 0.0), (552, 0.0), (554, 0.0), (556, 0.0), (557, 0.0), (565, 0.0), (567, 0.0), (569, 0.0), (570, 0.0), (572, 0.0), (573, 0.0), (574, 0.0), (575, 0.0), (577, 0.0), (585, 0.0), (591, 0.0), (592, 0.0), (599, 0.0), (601, 0.0), (602, 0.0), (603, 0.0), (610, 0.0), (630, 0.0), (649, 0.0), (650, 0.0), (656, 0.0), (658, 0.0), (662, 0.0), (663, 0.0), (665, 0.0), (674, 0.0), (679, 0.0), (681, 0.0), (686, 0.0), (699, 0.0), (700, 0.0), (702, 0.0), (704, 0.0), (708, 0.0), (709, 0.0), (711, 0.0), (713, 0.0), (714, 0.0), (718, 0.0), (720, 0.0), (724, 0.0), (725, 0.0), (726, 0.0), (730, 0.0), (736, 0.0), (741, 0.0), (746, 0.0), (747, 0.0), (751, 0.0), (754, 0.0), (764, 0.0), (770, 0.0), (771, 0.0), (772, 0.0), (773, 0.0), (780, 0.0), (781, 0.0), (784, 0.0), (785, 0.0), (786, 0.0), (789, 0.0), (797, 0.0), (807, 0.0), (819, 0.0), (820, 0.0), (822, 0.0), (837, 0.0), (839, 0.0), (840, 0.0), (841, 0.0), (846, 0.0), (859, 0.0), (881, 0.0), (882, 0.0), (892, 0.0), (909, 0.0), (912, 0.0), (913, 0.0), (914, 0.0), (920, 0.0), (926, 0.0), (938, 0.0), (943, 0.0), (945, 0.0), (946, 0.0), (950, 0.0), (954, 0.0), (955, 0.0), (956, 0.0), (960, 0.0), (961, 0.0), (964, 0.0), (965, 0.0), (971, 0.0), (972, 0.0), (977, 0.0), (978, 0.0), (982, 0.0), (983, 0.0), (990, 0.0), (995, 0.0), (1008, 0.0), (1010, 0.0), (1011, 0.0), (1013, 0.0), (1016, 0.0), (1022, 0.0), (1025, 0.0), (1028, 0.0), (1029, 0.0), (1031, 0.0), (1038, 0.0), (1039, 0.0), (1051, 0.0), (1055, 0.0), (1056, 0.0), (1057, 0.0), (1062, 0.0), (1066, 0.0), (1067, 0.0), (1073, 0.0), (1081, 0.0), (1086, 0.0), (1089, 0.0), (1091, 0.0), (1093, 0.0), (1097, 0.0), (1101, 0.0), (1103, 0.0), (1105, 0.0), (1106, 0.0), (1108, 0.0), (1113, 0.0), (1126, 0.0), (1130, 0.0), (1133, 0.0), (1135, 0.0), (1139, 0.0), (1142, 0.0), (1143, 0.0), (1147, 0.0), (1149, 0.0), (1151, 0.0), (1155, 0.0), (1156, 0.0), (1159, 0.0), (1165, 0.0), (1166, 0.0), (1171, 0.0), (1178, 0.0), (1180, 0.0), (1189, 0.0), (1190, 0.0), (1193, 0.0), (1196, 0.0), (1198, 0.0), (1200, 0.0), (1201, 0.0), (1205, 0.0), (1212, 0.0), (1218, 0.0), (1221, 0.0), (1222, 0.0), (1227, 0.0), (1228, 0.0), (1233, 0.0), (1235, 0.0), (1240, 0.0), (1242, 0.0), (1244, 0.0), (1246, 0.0), (1253, 0.0), (1256, 0.0), (1258, 0.0), (1263, 0.0), (1265, 0.0), (1268, 0.0), (1269, 0.0), (1271, 0.0), (1285, 0.0), (1287, 0.0), (1288, 0.0), (1289, 0.0), (1291, 0.0), (1295, 0.0), (1296, 0.0), (1297, 0.0), (1299, 0.0), (1315, 0.0), (1321, 0.0), (1322, 0.0), (1323, 0.0), (1326, 0.0), (1328, 0.0), (1333, 0.0), (1336, 0.0), (1346, 0.0), (1353, 0.0), (1354, 0.0), (1368, 0.0), (1373, 0.0), (1390, 0.0), (1399, 0.0), (1424, 0.0), (1437, 0.0), (1441, 0.0), (1444, 0.0), (1447, 0.0), (1457, 0.0), (1459, 0.0), (1460, 0.0), (1466, 0.0), (1467, 0.0), (1468, 0.0), (1470, 0.0), (1473, 0.0), (1485, 0.0), (1487, 0.0), (1490, 0.0), (1491, 0.0), (1495, 0.0), (1496, 0.0), (1508, 0.0), (1511, 0.0), (1517, 0.0), (1520, 0.0), (1521, 0.0), (1522, 0.0), (1524, 0.0), (1525, 0.0), (1529, 0.0), (1532, 0.0), (1534, 0.0), (1535, 0.0), (1541, 0.0), (1545, 0.0), (1548, 0.0), (1549, 0.0), (1556, 0.0), (1557, 0.0), (1560, 0.0), (1561, 0.0), (1563, 0.0), (1564, 0.0), (1569, 0.0), (1577, 0.0), (1578, 0.0), (1581, 0.0), (1584, 0.0), (1586, 0.0), (1589, 0.0), (1592, 0.0), (1596, 0.0), (1599, 0.0), (1600, 0.0), (1601, 0.0), (1602, 0.0), (1603, 0.0), (1604, 0.0), (1606, 0.0), (1607, 0.0), (1610, 0.0), (1611, 0.0), (1613, 0.0), (1615, 0.0), (1618, 0.0), (1626, 0.0), (1636, 0.0), (1638, 0.0), (1639, 0.0), (1640, 0.0), (1646, 0.0), (1649, 0.0), (1651, 0.0), (1668, 0.0), (1669, 0.0), (1673, 0.0), (1679, 0.0), (1686, 0.0), (1689, 0.0), (1697, 0.0), (1698, 0.0), (1700, 0.0), (1704, 0.0), (1709, 0.0), (1725, 0.0), (1726, 0.0), (1728, 0.0), (1729, 0.0), (1731, 0.0), (1734, 0.0), (1745, 0.0), (1751, 0.0), (1755, 0.0), (1756, 0.0), (1758, 0.0), (1766, 0.0), (1767, 0.0), (1769, 0.0), (1771, 0.0), (1775, 0.0), (1777, 0.0), (1778, 0.0), (1783, 0.0), (1785, 0.0), (1786, 0.0), (1794, 0.0), (1800, 0.0), (1803, 0.0), (1804, 0.0), (1810, 0.0), (1820, 0.0), (1823, 0.0), (1824, 0.0), (1825, 0.0), (1834, 0.0), (1835, 0.0), (1836, 0.0), (1839, 0.0), (1842, 0.0), (1844, 0.0), (1855, 0.0), (1856, 0.0), (1879, 0.0), (1883, 0.0), (1888, 0.0), (1889, 0.0), (1894, 0.0), (1898, 0.0), (1899, 0.0), (1912, 0.0), (1915, 0.0), (1917, 0.0), (1926, 0.0), (1928, 0.0), (1932, 0.0), (1938, 0.0), (1944, 0.0), (1955, 0.0), (1956, 0.0), (1961, 0.0), (1963, 0.0), (1965, 0.0), (1966, 0.0), (1972, 0.0), (1974, 0.0), (1978, 0.0), (1979, 0.0), (1984, 0.0), (2001, 0.0), (2002, 0.0), (2003, 0.0), (2006, 0.0), (2007, 0.0), (2009, 0.0), (2017, 0.0), (2019, 0.0), (2021, 0.0), (2025, 0.0), (2028, 0.0), (2030, 0.0), (2032, 0.0), (2033, 0.0), (2036, 0.0), (2038, 0.0), (2041, 0.0), (2042, 0.0), (2043, 0.0), (2046, 0.0), (2050, 0.0), (2054, 0.0), (2059, 0.0), (2063, 0.0), (2071, 0.0), (2079, 0.0), (2081, 0.0), (2085, 0.0), (2086, 0.0), (2090, 0.0), (2092, 0.0), (2106, 0.0), (2107, 0.0), (2115, 0.0), (2118, 0.0), (2120, 0.0), (2124, 0.0), (2125, 0.0), (2128, 0.0), (2135, 0.0), (2138, 0.0), (2140, 0.0), (2150, 0.0), (2152, 0.0), (2153, 0.0), (2164, 0.0), (2165, 0.0), (2168, 0.0), (2170, 0.0), (2171, 0.0), (2172, 0.0), (2179, 0.0), (2180, 0.0), (2182, 0.0), (2183, 0.0), (2186, 0.0), (2194, 0.0), (2200, 0.0), (2204, 0.0), (2215, 0.0), (2217, 0.0), (2218, 0.0), (2219, 0.0), (2220, 0.0), (2222, 0.0), (2225, 0.0), (2227, 0.0), (2233, 0.0), (2234, 0.0), (2238, 0.0), (2241, 0.0), (2243, 0.0), (2247, 0.0), (2249, 0.0), (2253, 0.0), (2256, 0.0), (2259, 0.0), (2261, 0.0), (2262, 0.0), (2263, 0.0), (2267, 0.0), (2271, 0.0), (2272, 0.0), (2274, 0.0), (2281, 0.0), (2282, 0.0), (2296, 0.0), (2297, 0.0), (2300, 0.0), (2305, 0.0), (2307, 0.0), (2311, 0.0), (2312, 0.0), (2315, 0.0), (2322, 0.0), (2325, 0.0), (2327, 0.0), (2329, 0.0), (2331, 0.0), (2332, 0.0), (2333, 0.0), (2337, 0.0), (2341, 0.0), (2342, 0.0), (2343, 0.0), (2345, 0.0), (2351, 0.0), (2352, 0.0), (2357, 0.0), (2360, 0.0), (2364, 0.0), (2369, 0.0), (2372, 0.0), (2373, 0.0), (2377, 0.0), (2380, 0.0), (2381, 0.0), (2384, 0.0), (2389, 0.0), (2395, 0.0), (2398, 0.0), (2408, 0.0), (2409, 0.0), (2414, 0.0), (2420, 0.0), (2431, 0.0), (2433, 0.0), (2435, 0.0), (2445, 0.0), (2450, 0.0), (2451, 0.0), (2452, 0.0), (2455, 0.0), (2456, 0.0), (2458, 0.0), (2462, 0.0), (2465, 0.0), (2470, 0.0), (2471, 0.0), (2472, 0.0), (2479, 0.0), (2483, 0.0), (2485, 0.0), (2491, 0.0), (2493, 0.0), (2497, 0.0), (2498, 0.0), (2499, 0.0), (2500, 0.0), (2504, 0.0), (2508, 0.0), (2511, 0.0), (2514, 0.0), (2515, 0.0), (2516, 0.0), (2518, 0.0), (2521, 0.0), (2523, 0.0), (2532, 0.0), (2536, 0.0), (2539, 0.0), (2542, 0.0), (2543, 0.0), (2547, 0.0), (2548, 0.0), (2549, 0.0), (2551, 0.0), (2562, 0.0), (2564, 0.0), (2566, 0.0), (2574, 0.0), (2575, 0.0), (2577, 0.0), (2578, 0.0), (2583, 0.0), (2584, 0.0), (2586, 0.0), (2588, 0.0), (2589, 0.0), (2590, 0.0), (2594, 0.0), (2596, 0.0), (2597, 0.0), (2604, 0.0), (2605, 0.0), (2608, 0.0), (2615, 0.0), (2616, 0.0), (2620, 0.0), (2627, 0.0), (2631, 0.0), (2637, 0.0), (2641, 0.0), (2648, 0.0), (2656, 0.0), (2657, 0.0), (2658, 0.0), (2659, 0.0), (2662, 0.0), (2663, 0.0), (2666, 0.0), (2667, 0.0), (2669, 0.0), (2670, 0.0), (2671, 0.0), (2672, 0.0), (2675, 0.0), (2676, 0.0), (2677, 0.0), (2681, 0.0), (2684, 0.0), (2685, 0.0), (2686, 0.0), (2690, 0.0), (2693, 0.0), (2699, 0.0), (2701, 0.0), (2703, 0.0), (2704, 0.0), (2709, 0.0), (2713, 0.0), (2715, 0.0), (2717, 0.0), (2719, 0.0), (2729, 0.0), (2730, 0.0), (2734, 0.0), (2737, 0.0), (2749, 0.0), (2750, 0.0), (2754, 0.0), (2756, 0.0), (2763, 0.0), (2770, 0.0), (2773, 0.0), (2781, 0.0), (2785, 0.0), (2793, 0.0), (2794, 0.0), (2799, 0.0), (2804, 0.0), (2806, 0.0), (2810, 0.0), (2811, 0.0), (2813, 0.0), (2814, 0.0), (2817, 0.0), (2818, 0.0), (2822, 0.0), (2824, 0.0), (2827, 0.0), (2828, 0.0), (2829, 0.0), (2835, 0.0), (2836, 0.0), (2837, 0.0), (2839, 0.0), (2842, 0.0), (2850, 0.0), (2851, 0.0), (2852, 0.0), (2855, 0.0), (2856, 0.0), (2860, 0.0), (2864, 0.0), (2865, 0.0), (2866, 0.0), (2875, 0.0), (2877, 0.0), (2880, 0.0), (2891, 0.0), (2896, 0.0), (2898, 0.0), (2905, 0.0), (2906, 0.0), (2921, 0.0), (2922, 0.0), (2927, 0.0), (2928, 0.0), (2930, 0.0), (2938, 0.0), (2941, 0.0), (2950, 0.0), (2951, 0.0), (2952, 0.0), (2955, 0.0), (2956, 0.0), (2958, 0.0), (2967, 0.0), (2968, 0.0), (2973, 0.0), (2979, 0.0), (2982, 0.0), (2983, 0.0), (2990, 0.0), (3001, 0.0), (3002, 0.0), (3006, 0.0), (3009, 0.0), (3021, 0.0), (3025, 0.0), (3029, 0.0), (3034, 0.0), (3038, 0.0), (3041, 0.0), (3047, 0.0), (3048, 0.0), (3054, 0.0), (3058, 0.0), (3059, 0.0), (3060, 0.0), (3061, 0.0), (3063, 0.0), (3068, 0.0), (3073, 0.0), (3077, 0.0), (3078, 0.0), (3080, 0.0), (3082, 0.0), (3087, 0.0), (3088, 0.0), (3089, 0.0), (3090, 0.0), (3092, 0.0), (3103, 0.0), (3104, 0.0), (3105, 0.0), (3106, 0.0), (3107, 0.0), (3109, 0.0), (3115, 0.0), (3121, 0.0), (3130, 0.0), (3132, 0.0), (3138, 0.0), (3141, 0.0), (3145, 0.0), (3162, 0.0), (3169, 0.0), (3172, 0.0), (3175, 0.0), (3176, 0.0), (3177, 0.0), (3181, 0.0), (3188, 0.0), (3189, 0.0), (3190, 0.0), (3193, 0.0), (3197, 0.0), (3201, 0.0), (3202, 0.0), (3204, 0.0), (3207, 0.0), (3208, 0.0), (3212, 0.0), (3217, 0.0), (3221, 0.0), (3223, 0.0), (3229, 0.0), (3231, 0.0), (3236, 0.0), (3250, 0.0), (3251, 0.0), (3261, 0.0), (3266, 0.0), (3270, 0.0), (3272, 0.0), (3277, 0.0), (3281, 0.0), (3286, 0.0), (3287, 0.0), (3305, 0.0), (3310, 0.0), (3320, 0.0), (3321, 0.0), (3323, 0.0), (3324, 0.0), (3332, 0.0), (3333, 0.0), (3340, 0.0), (3343, 0.0), (3350, 0.0), (3366, 0.0), (3368, 0.0), (3371, 0.0), (3378, 0.0), (3383, 0.0), (3394, 0.0), (3397, 0.0), (3400, 0.0), (3401, 0.0), (3411, 0.0), (3415, 0.0), (3422, 0.0), (3424, 0.0), (3439, 0.0), (3442, 0.0), (3444, 0.0), (3454, 0.0), (3459, 0.0), (3461, 0.0), (3467, 0.0), (3472, 0.0), (3473, 0.0), (3475, 0.0), (3476, 0.0), (3481, 0.0), (3482, 0.0), (3485, 0.0), (3489, 0.0), (3490, 0.0), (3494, 0.0), (3505, 0.0), (3510, 0.0), (3519, 0.0), (3522, 0.0), (3525, 0.0), (3529, 0.0), (3530, 0.0), (3532, 0.0), (3533, 0.0), (3539, 0.0), (3543, 0.0), (3545, 0.0), (3547, 0.0), (3549, 0.0), (3550, 0.0), (3554, 0.0), (3562, 0.0), (3567, 0.0), (3568, 0.0), (3573, 0.0), (3578, 0.0), (3581, 0.0), (3585, 0.0), (3589, 0.0), (3591, 0.0), (3592, 0.0), (3595, 0.0), (3600, 0.0), (3603, 0.0), (3607, 0.0), (3609, 0.0), (3610, 0.0), (3617, 0.0), (3622, 0.0), (3625, 0.0), (3628, 0.0), (3631, 0.0), (3633, 0.0), (3644, 0.0), (3649, 0.0), (3650, 0.0), (3662, 0.0), (3663, 0.0), (3671, 0.0), (3676, 0.0), (3681, 0.0), (3682, 0.0), (3683, 0.0), (3685, 0.0), (3686, 0.0), (3688, 0.0), (3690, 0.0), (3693, 0.0), (3695, 0.0), (3697, 0.0), (3698, 0.0), (3700, 0.0), (3702, 0.0), (3703, 0.0), (3709, 0.0), (3712, 0.0), (3716, 0.0), (3717, 0.0), (3718, 0.0), (3722, 0.0), (3724, 0.0), (3726, 0.0), (3730, 0.0), (3732, 0.0), (3735, 0.0), (3736, 0.0), (3738, 0.0), (3740, 0.0), (3743, 0.0), (3746, 0.0), (3758, 0.0), (3759, 0.0), (3760, 0.0), (3761, 0.0), (3764, 0.0), (3773, 0.0), (3783, 0.0), (3785, 0.0), (3786, 0.0), (3789, 0.0), (3790, 0.0), (3791, 0.0), (3796, 0.0), (3798, 0.0), (3800, 0.0), (3803, 0.0), (3805, 0.0), (3808, 0.0), (3812, 0.0), (3816, 0.0), (3817, 0.0), (3818, 0.0), (3820, 0.0), (3830, 0.0), (3831, 0.0), (3834, 0.0), (3836, 0.0), (3837, 0.0), (3838, 0.0), (3840, 0.0), (3843, 0.0), (3846, 0.0), (3847, 0.0), (3851, 0.0), (3856, 0.0), (3858, 0.0), (3859, 0.0), (3869, 0.0), (3870, 0.0), (3872, 0.0), (3879, 0.0), (3885, 0.0), (3887, 0.0), (3891, 0.0), (3896, 0.0), (3912, 0.0), (3914, 0.0), (3916, 0.0), (3918, 0.0), (3921, 0.0), (3929, 0.0), (3930, 0.0), (3931, 0.0), (3933, 0.0), (3936, 0.0), (3937, 0.0), (3943, 0.0), (3948, 0.0), (3950, 0.0), (3963, 0.0), (3964, 0.0), (3965, 0.0), (3968, 0.0), (3969, 0.0), (3971, 0.0), (3972, 0.0), (3977, 0.0), (3979, 0.0), (3980, 0.0), (3981, 0.0), (3982, 0.0), (3985, 0.0), (3988, 0.0), (3991, 0.0), (3994, 0.0), (3996, 0.0), (4003, 0.0), (4006, 0.0), (4010, 0.0), (4018, 0.0), (4021, 0.0), (4022, 0.0), (4026, 0.0), (4027, 0.0), (4029, 0.0), (4031, 0.0), (4034, 0.0), (4037, 0.0), (4040, 0.0), (4041, 0.0), (4058, 0.0), (4063, 0.0), (4065, 0.0), (4067, 0.0), (4070, 0.0), (4072, 0.0), (4073, 0.0), (4078, 0.0), (4084, 0.0), (4086, 0.0), (4097, 0.0), (4100, 0.0), (4108, 0.0), (4109, 0.0), (4112, 0.0), (4114, 0.0), (4115, 0.0), (4125, 0.0), (4127, 0.0), (4131, 0.0), (4144, 0.0), (4146, 0.0), (4150, 0.0), (4153, 0.0), (4157, 0.0), (4159, 0.0), (4166, 0.0), (4167, 0.0), (4168, 0.0), (4170, 0.0), (4173, 0.0), (4179, 0.0), (4180, 0.0), (4181, 0.0), (4185, 0.0), (4186, 0.0), (4188, 0.0), (4190, 0.0), (4191, 0.0), (4194, 0.0), (4198, 0.0), (4199, 0.0), (4201, 0.0), (4204, 0.0), (4207, 0.0), (4212, 0.0), (4214, 0.0), (4215, 0.0), (4218, 0.0), (4223, 0.0), (4224, 0.0), (4229, 0.0), (4234, 0.0), (4237, 0.0), (4238, 0.0), (4239, 0.0), (4241, 0.0), (4250, 0.0), (4253, 0.0), (4256, 0.0), (4258, 0.0), (4260, 0.0), (4270, 0.0), (4271, 0.0), (4276, 0.0), (4278, 0.0), (4279, 0.0), (4291, 0.0), (4294, 0.0), (4297, 0.0), (4300, 0.0), (4302, 0.0), (4305, 0.0), (4313, 0.0), (4315, 0.0), (4316, 0.0), (4317, 0.0), (4319, 0.0), (4323, 0.0), (4324, 0.0), (4327, 0.0), (4329, 0.0), (4332, 0.0), (4338, 0.0), (4341, 0.0), (4346, 0.0), (4347, 0.0), (4352, 0.0), (4353, 0.0), (4358, 0.0), (4364, 0.0), (4370, 0.0), (4372, 0.0), (4393, 0.0), (4404, 0.0), (4405, 0.0), (4406, 0.0), (4408, 0.0), (4410, 0.0), (4413, 0.0), (4414, 0.0), (4415, 0.0), (4417, 0.0), (4421, 0.0), (4424, 0.0), (4425, 0.0), (4433, 0.0), (4434, 0.0), (4437, 0.0), (4439, 0.0), (4447, 0.0), (4449, 0.0), (4451, 0.0), (4453, 0.0), (4454, 0.0), (4455, 0.0), (4457, 0.0), (4460, 0.0), (4463, 0.0), (4478, 0.0), (4480, 0.0), (4483, 0.0), (4485, 0.0), (4491, 0.0), (4493, 0.0), (4496, 0.0), (4498, 0.0), (4499, 0.0), (4500, 0.0), (4506, 0.0), (4508, 0.0), (4509, 0.0), (4519, 0.0), (4525, 0.0), (4526, 0.0), (4532, 0.0), (4538, 0.0), (4539, 0.0), (4541, 0.0), (4542, 0.0), (4547, 0.0), (4549, 0.0), (4556, 0.0), (4558, 0.0), (4559, 0.0), (4560, 0.0), (4561, 0.0), (4562, 0.0), (4565, 0.0), (4568, 0.0), (4569, 0.0), (4570, 0.0), (4577, 0.0), (4578, 0.0), (4580, 0.0), (4592, 0.0), (4597, 0.0), (4599, 0.0), (4600, 0.0), (4609, 0.0), (4613, 0.0), (4615, 0.0), (4618, 0.0), (4622, 0.0), (4628, 0.0), (4631, 0.0), (4635, 0.0), (4644, 0.0), (4645, 0.0), (4647, 0.0), (4648, 0.0), (4651, 0.0), (4654, 0.0), (4655, 0.0), (4662, 0.0), (4667, 0.0), (4671, 0.0), (4672, 0.0), (4675, 0.0), (4676, 0.0), (4681, 0.0), (4683, 0.0), (4688, 0.0), (4690, 0.0), (4700, 0.0), (4702, 0.0), (4711, 0.0), (4714, 0.0), (4716, 0.0), (4720, 0.0), (4725, 0.0), (4728, 0.0), (4730, 0.0), (4736, 0.0), (4737, 0.0), (4740, 0.0), (4741, 0.0), (4742, 0.0), (4745, 0.0), (4750, 0.0), (4751, 0.0), (4754, 0.0), (4755, 0.0), (4758, 0.0), (4759, 0.0)]\n"
          ]
        }
      ]
    },
    {
      "cell_type": "code",
      "source": [
        "# print the name of similar movies based on the index\n",
        "print('top 30 Movies Suggested for You:\\n')\n",
        "i=1\n",
        "for movie in Sorted_Similar_Movies:\n",
        "    index = movie[0]\n",
        "    title_from_index = df[df.index ==index]['Movie_Title'].values[0]\n",
        "    if(i<31):\n",
        "      print(i,' .',title_from_index)\n",
        "      i+=1\n",
        "\n"
      ],
      "metadata": {
        "id": "HcMG_dnE9BJ9",
        "colab": {
          "base_uri": "https://localhost:8080/"
        },
        "outputId": "3b65ba2e-7475-4d5e-efb1-4ee12d5b3b92"
      },
      "execution_count": 63,
      "outputs": [
        {
          "output_type": "stream",
          "name": "stdout",
          "text": [
            "top 30 Movies Suggested for You:\n",
            "\n",
            "1  . Niagara\n",
            "2  . My Week with Marilyn\n",
            "3  . Harry Brown\n",
            "4  . The Curse of Downers Grove\n",
            "5  . The Boy Next Door\n",
            "6  . Back to the Future\n",
            "7  . Welcome to the Sticks\n",
            "8  . The Juror\n",
            "9  . Some Like It Hot\n",
            "10  . The Kentucky Fried Movie\n",
            "11  . Enough\n",
            "12  . Eye for an Eye\n",
            "13  . Alice Through the Looking Glass\n",
            "14  . Superman III\n",
            "15  . Duel in the Sun\n",
            "16  . Premium Rush\n",
            "17  . The Misfits\n",
            "18  . Small Soldiers\n",
            "19  . Camping Sauvage\n",
            "20  . All That Jazz\n",
            "21  . Beyond the Black Rainbow\n",
            "22  . The Raid\n",
            "23  . Tora! Tora! Tora!\n",
            "24  . Brokeback Mountain\n",
            "25  . To Kill a Mockingbird\n",
            "26  . Edge of Darkness\n",
            "27  . World Trade Center\n",
            "28  . The Dark Knight Rises\n",
            "29  . Out of Time\n",
            "30  . Source Code\n"
          ]
        }
      ]
    },
    {
      "cell_type": "markdown",
      "source": [
        "# **Top 10 Movie Recommendation System**"
      ],
      "metadata": {
        "id": "MpxuY9OPHHUu"
      }
    },
    {
      "cell_type": "code",
      "source": [
        "# Find close match to the movie name entered by the user\n",
        "Movie_Name = input('Enter your favorite movie name: ')\n",
        "\n",
        "list_of_all_titles = df['Movie_Title'].tolist()\n",
        "Find_Close_Match = difflib.get_close_matches(Movie_Name, list_of_all_titles)\n",
        "\n",
        "if Find_Close_Match:\n",
        "    Close_Match = Find_Close_Match[0]\n",
        "    # Retrieve the index of the movie that matches the close match\n",
        "    Index_of_Movie = df[df['Movie_Title'] == Close_Match]['Movie_ID'].values[0]\n",
        "\n",
        "    # Getting the list of similar movies\n",
        "    Recommendation_Score = list(enumerate(Similarity_Score[Index_of_Movie]))\n",
        "    sorted_similar_movies = sorted(Recommendation_Score, key=lambda x: x[1], reverse=True)\n",
        "\n",
        "    print(f\"Top 10 Movies suggested for you based on '{Close_Match}':\\n\")\n",
        "\n",
        "    # Ensure the loop prints the top 10 movies\n",
        "    for i, movie in enumerate(sorted_similar_movies[:10], 1):  # [:10] limits to top 10\n",
        "        index_movie = movie[0]\n",
        "        title_from_index = df.iloc[index_movie]['Movie_Title']\n",
        "        print(f\"{i}. {title_from_index}\")\n",
        "else:\n",
        "    print(f\"Sorry, no close match found for the movie '{Movie_Name}'\")\n"
      ],
      "metadata": {
        "id": "v9TOKuHZG3Gl",
        "colab": {
          "base_uri": "https://localhost:8080/"
        },
        "outputId": "c4854e42-f1e0-4e0c-920f-a368371d3387"
      },
      "execution_count": 74,
      "outputs": [
        {
          "output_type": "stream",
          "name": "stdout",
          "text": [
            "Enter your favorite movie name: avtaar\n",
            "Top 10 Movies suggested for you based on 'Avatar':\n",
            "\n",
            "1. Niagara\n",
            "2. My Week with Marilyn\n",
            "3. Harry Brown\n",
            "4. The Curse of Downers Grove\n",
            "5. The Boy Next Door\n",
            "6. Back to the Future\n",
            "7. Welcome to the Sticks\n",
            "8. The Juror\n",
            "9. Some Like It Hot\n",
            "10. The Kentucky Fried Movie\n"
          ]
        }
      ]
    }
  ]
}